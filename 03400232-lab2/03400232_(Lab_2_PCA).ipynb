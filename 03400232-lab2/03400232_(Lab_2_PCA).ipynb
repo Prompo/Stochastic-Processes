{
  "nbformat": 4,
  "nbformat_minor": 0,
  "metadata": {
    "colab": {
      "provenance": []
    },
    "kernelspec": {
      "name": "python3",
      "display_name": "Python 3"
    }
  },
  "cells": [
    {
      "cell_type": "markdown",
      "metadata": {
        "id": "s_xjbOW-TkC3"
      },
      "source": [
        "<h1><b><i>Principal Component Analysis</i> (<i>PCA</i>) </b></h1>\n",
        "\n",
        "<p>Στην άσκηση αυτή θα μελετήσετε τον αλγόριθμο <b><i>ανάλυσης σε κύριες συνιστώσες</i></b> (<b><i>Principal Component Analysis</i></b>, <b><i>PCA</i></b>), υλοποιημένο σύμφωνα με τη <b><i>μέθοδο συνδιακύμανσης</i></b> (<b><i>covariance method</i></b>). Για να κατανοήσετε τη χρησιμότητα της μεθόδου θα εκπαιδεύσετε και θα αξιολογήσετε την ακρίβεια ενός μοντέλου <b><i>logistic regression</i></b> για ένα dataset πριν και μετά την εφαρμογή του αλγορίθμου <b><i>PCA</i></b>. Περισσότερες πληροφορίες για τη μέθοδο αυτή μπορείτε να αναζητήσετε <a href=\"https://ourarchive.otago.ac.nz/handle/10523/7534\">εδώ</a>.</p>\n",
        "\n",
        "<p>Η άσκηση περιλαμβάνει <b><i>δύο</i></b> προγράμματα <i>Python</i>: (a) το πρώτο δέχεται ένα dataset σε μορφή .<i>csv</i>, εφαρμόζει τον αλγόριθμο <b><i>PCA</i></b> και δημιουργεί το αρχείο <b><i>foo.csv</i></b> με το μετασχηματισμένο dataset, όπως προκύπτει από τις κύριες συνιστώσες που επέλεξε ο χρήστης να διατηρήσει, (b) το δεύτερο δέχεται ένα αρχείο σε μορφή .<i>csv</i>, διαχωρίζει το dataset σε <i>training</i> και <i>test set</i>, εκπαιδεύει ένα μοντέλο <b><i>logistic regression</i></b>, χρησιμοποιώντας το <i>training set</i> και υπολογίζει τον αριθμό των σφαλμάτων του μοντέλου πάνω στο <i>test set</i>.</p>\n",
        "\n",
        "<p>Το dataset που θα χρησιμοποιήσετε παρέχεται σε δύο μορφές: (a) <b><i><a href=\"https://raw.githubusercontent.com/nkostopoulos/StochasticsLabPublic/master/lab2/demo3a.csv\">demo3a.csv</a></i></b> και (b) <b><i><a href=\"https://github.com/nkostopoulos/StochasticsLabPublic/blob/master/lab2/demo3b.csv\">demo3b.csv</a></i></b>, το οποίο δεν περιλαμβάνει την πρώτη στήλη του <b><i><a href=\"https://raw.githubusercontent.com/nkostopoulos/StochasticsLabPublic/master/lab2/demo3a.csv\">demo3a.csv</a></i></b>, δηλαδή τα <i>labels</i> που αντιστοιχούν σε κάθε είσοδο. Τα datasets αυτά αποτελούν απλοποιημένη μορφή του dataset που μπορεί να βρεθεί <a href=\"https://archive.ics.uci.edu/ml/datasets/wine\">εδώ</a>.</p>\n",
        "\n",
        "<h3><b><i>Ανάλυση σε Κύριες Συνιστώσες</i></b></h3>\n",
        "<p>Αρχικά, θα φορτώσετε τις βιβλιοθήκες που απαιτούνται για το πρόγραμμα που θα αναλύσει το dataset <b><i><a href=\"https://github.com/nkostopoulos/StochasticsLabPublic/blob/master/lab2/demo3b.csv\">demo3b.csv</a></i></b> στις κύριες συνιστώσες του.</p>\n",
        "\n",
        "\n"
      ]
    },
    {
      "cell_type": "code",
      "metadata": {
        "id": "KDcaQZ2ofeum",
        "outputId": "6018d6a7-31a9-44a9-c14e-3d99bfd721f0",
        "colab": {
          "base_uri": "https://localhost:8080/"
        }
      },
      "source": [
        "!pip install numpy\n",
        "#https://machinelearningmastery.com/calculate-principal-component-analysis-scratch-python/\n",
        "from numpy import genfromtxt\n",
        "from numpy import mean\n",
        "from numpy import cov\n",
        "from numpy.linalg import eig\n",
        "import numpy as np"
      ],
      "execution_count": 1,
      "outputs": [
        {
          "output_type": "stream",
          "name": "stdout",
          "text": [
            "Requirement already satisfied: numpy in /usr/local/lib/python3.10/dist-packages (1.25.2)\n"
          ]
        }
      ]
    },
    {
      "cell_type": "markdown",
      "metadata": {
        "id": "pMilxe9Uf-WT"
      },
      "source": [
        "<p>Στη συνέχεια, θα φορτώσετε το dataset <b><i></i></b></p>"
      ]
    },
    {
      "cell_type": "code",
      "metadata": {
        "id": "k92Gv9dwftZp"
      },
      "source": [
        "data = genfromtxt('https://raw.githubusercontent.com/nkostopoulos/StochasticsLabPublic/master/lab2/demo3b.csv', delimiter=',')"
      ],
      "execution_count": 2,
      "outputs": []
    },
    {
      "cell_type": "markdown",
      "metadata": {
        "id": "ydl-AyxahG2b"
      },
      "source": [
        "<p>Έπειτα, θα υπολογίσετε το μέσο όρο κάθε στήλης (feature) του dataset και θα κανονικοποιήσετε κάθε feature με αυτόν</p>"
      ]
    },
    {
      "cell_type": "code",
      "metadata": {
        "id": "QU4TQXw2g4xF"
      },
      "source": [
        "M = mean(data.T, axis=1)\n",
        "data_normal = data - M"
      ],
      "execution_count": 3,
      "outputs": []
    },
    {
      "cell_type": "markdown",
      "metadata": {
        "id": "BYWD8ozQh-h8"
      },
      "source": [
        "<p>Στη συνέχεια, θα υπολογίσετε το <b><i>πίνακα συνδιακύμανσης</i></b> (<b><i>covariance matrix</i></b>) για το dataset</p>"
      ]
    },
    {
      "cell_type": "code",
      "metadata": {
        "id": "N3B6Pw6diHxe",
        "outputId": "ec744d75-beda-4db0-a8e1-9181cf16f9d0",
        "colab": {
          "base_uri": "https://localhost:8080/"
        }
      },
      "source": [
        "covariance = cov(data_normal.T)\n",
        "print(\"The covariance matrix of the normalized data is the following: \")\n",
        "print(covariance)"
      ],
      "execution_count": 4,
      "outputs": [
        {
          "output_type": "stream",
          "name": "stdout",
          "text": [
            "The covariance matrix of the normalized data is the following: \n",
            "[[ 7.89911157e-01  1.64350328e-02  5.03965534e-02 -1.39557561e+00\n",
            "   4.51870543e+00  2.35123047e-01  3.56524806e-01 -2.92133512e-02\n",
            "   9.15320632e-02  1.07205560e+00  3.92238044e-03  1.22678110e-01\n",
            "   2.36909466e+02]\n",
            " [ 1.64350328e-02  7.74344335e-01  3.18039952e-02  4.24165474e-01\n",
            "  -2.21434109e-01  1.44160704e-02  3.75581395e-02  5.34385808e-03\n",
            "   6.47891175e-02 -1.54797734e-01 -6.06599761e-02  6.96007454e-02\n",
            "  -3.33629219e+01]\n",
            " [ 5.03965534e-02  3.18039952e-02  8.83052117e-02  3.73006798e-01\n",
            "   1.40136434e+00  4.12452594e-02  8.26573643e-02  5.81539654e-03\n",
            "   1.24709839e-02  1.22397007e-01  2.06346094e-03  3.02871079e-02\n",
            "   3.18556160e+01]\n",
            " [-1.39557561e+00  4.24165474e-01  3.73006798e-01  1.15631181e+01\n",
            "  -6.46193798e+00 -4.24464222e-01 -4.52046512e-01  1.24282469e-01\n",
            "  -1.77910614e-01 -2.39565069e+00 -2.05387955e-02 -1.02069171e-03\n",
            "  -5.11872284e+02]\n",
            " [ 4.51870543e+00 -2.21434109e-01  1.40136434e+00 -6.46193798e+00\n",
            "   2.36586822e+02  2.55096899e+00  2.89720930e+00 -3.57263566e-01\n",
            "   2.30737209e+00  8.63970543e+00  1.85996899e-01  9.56255814e-01\n",
            "   2.31515659e+03]\n",
            " [ 2.35123047e-01  1.44160704e-02  4.12452594e-02 -4.24464222e-01\n",
            "   2.55096899e+00  2.97453936e-01  3.40611628e-01 -2.64587657e-02\n",
            "   1.30694305e-01  5.23527370e-01 -7.63816339e-04  1.28195856e-01\n",
            "   9.73171139e+01]\n",
            " [ 3.56524806e-01  3.75581395e-02  8.26573643e-02 -4.52046512e-01\n",
            "   2.89720930e+00  3.40611628e-01  5.44297674e-01 -2.88767442e-02\n",
            "   2.16111628e-01  8.48084496e-01 -8.24186047e-04  1.88436434e-01\n",
            "   1.41942171e+02]\n",
            " [-2.92133512e-02  5.34385808e-03  5.81539654e-03  1.24282469e-01\n",
            "  -3.57263566e-01 -2.64587657e-02 -2.88767442e-02  1.18999463e-02\n",
            "  -1.98501670e-02 -4.97212642e-02  9.44753727e-04 -2.42901670e-02\n",
            "  -1.26918819e+01]\n",
            " [ 9.15320632e-02  6.47891175e-02  1.24709839e-02 -1.77910614e-01\n",
            "   2.30737209e+00  1.30694305e-01  2.16111628e-01 -1.98501670e-02\n",
            "   2.91137680e-01  2.39266834e-01 -9.77493143e-04  8.78196959e-02\n",
            "   5.22928014e+01]\n",
            " [ 1.07205560e+00 -1.54797734e-01  1.22397007e-01 -2.39565069e+00\n",
            "   8.63970543e+00  5.23527370e-01  8.48084496e-01 -4.97212642e-02\n",
            "   2.39266834e-01  2.64316778e+00  2.68330829e-03  1.60809159e-01\n",
            "   4.44340177e+02]\n",
            " [ 3.92238044e-03 -6.06599761e-02  2.06346094e-03 -2.05387955e-02\n",
            "   1.85996899e-01 -7.63816339e-04 -8.24186047e-04  9.44753727e-04\n",
            "  -9.77493143e-04  2.68330829e-03  2.84562519e-02 -8.13836136e-03\n",
            "   6.93777746e+00]\n",
            " [ 1.22678110e-01  6.96007454e-02  3.02871079e-02 -1.02069171e-03\n",
            "   9.56255814e-01  1.28195856e-01  1.88436434e-01 -2.42901670e-02\n",
            "   8.78196959e-02  1.60809159e-01 -8.13836136e-03  2.25782952e-01\n",
            "   3.83903673e+01]\n",
            " [ 2.36909466e+02 -3.33629219e+01  3.18556160e+01 -5.11872284e+02\n",
            "   2.31515659e+03  9.73171139e+01  1.41942171e+02 -1.26918819e+01\n",
            "   5.22928014e+01  4.44340177e+02  6.93777746e+00  3.83903673e+01\n",
            "   1.24265433e+05]]\n"
          ]
        }
      ]
    },
    {
      "cell_type": "markdown",
      "metadata": {
        "id": "rFxfxGxbiPsm"
      },
      "source": [
        "<p>Το επόμενο βήμα είναι να υπολογίσετε τις <b><i>ιδιοτιμές</i></b> (<b><i>eigenvalues</i></b>) και τα <b><i>ιδιοδιανύσματα</i></b> (<b><i>eigenvectors</i></b>) του dataset.</p>"
      ]
    },
    {
      "cell_type": "code",
      "metadata": {
        "id": "nyqu1myLieP3",
        "outputId": "7ae68bfd-6ae3-41f9-d7dd-877ac4af9a63",
        "colab": {
          "base_uri": "https://localhost:8080/"
        }
      },
      "source": [
        "values, vectors = eig(covariance)\n",
        "print(\"The eigenvalues of the normalized data are the following: \")\n",
        "print(values)"
      ],
      "execution_count": 5,
      "outputs": [
        {
          "output_type": "stream",
          "name": "stdout",
          "text": [
            "The eigenvalues of the normalized data are the following: \n",
            "[1.24313073e+05 1.93456026e+02 9.50168321e+00 1.32500169e+00\n",
            " 8.10595669e-01 4.51081713e-01 2.69157831e-01 1.60993380e-01\n",
            " 1.11100343e-01 6.13399000e-03 2.19782528e-02 3.20312852e-02\n",
            " 5.87421686e-02]\n"
          ]
        }
      ]
    },
    {
      "cell_type": "markdown",
      "metadata": {
        "id": "51_NKEP2imoW"
      },
      "source": [
        "<p>Στη συνέχεια, θα επιλέξετε τις πιο σημαντικές <b><i>ιδιοτιμές</i></b> και θα προσαρμόσετε αντίστοιχα τα <b><i>ιδιοδιανύσματα</i></b> του dataset.</p>"
      ]
    },
    {
      "cell_type": "code",
      "metadata": {
        "id": "Dee3ENf1i4Lx",
        "outputId": "ffb9c411-a34a-495b-8787-0f8828ddd885",
        "colab": {
          "base_uri": "https://localhost:8080/"
        }
      },
      "source": [
        "new_values = values[0:3]\n",
        "print(\"The most important eigenvalues are the following: \")\n",
        "print(new_values)\n",
        "new_vectors = vectors[0:3]\n",
        "print(\"The most important eigenvectors are the following: \")\n",
        "print(new_vectors)"
      ],
      "execution_count": 6,
      "outputs": [
        {
          "output_type": "stream",
          "name": "stdout",
          "text": [
            "The most important eigenvalues are the following: \n",
            "[1.24313073e+05 1.93456026e+02 9.50168321e+00]\n",
            "The most important eigenvectors are the following: \n",
            "[[-1.90615566e-03 -4.75319302e-04 -4.70065618e-02  2.25255930e-01\n",
            "   9.82089183e-02 -2.20758056e-01 -8.52483156e-01 -3.65140031e-01\n",
            "  -1.65925760e-01 -5.62139324e-03 -2.07811823e-02  2.48378617e-02\n",
            "  -8.18675258e-04]\n",
            " [ 2.68379014e-04 -2.11118304e-03  3.21935310e-02  1.25115825e-01\n",
            "   9.16405147e-01 -3.07909300e-01  1.86306127e-01  7.26209733e-02\n",
            "  -1.81047372e-02 -1.16925805e-02  8.44468784e-02 -2.41209813e-02\n",
            "   2.31770029e-02]\n",
            " [-2.56407459e-04 -4.21644285e-03  5.19948847e-02  4.67286333e-02\n",
            "   2.01302236e-02 -3.45064791e-03 -1.57617050e-02  1.52544206e-01\n",
            "  -7.18891029e-02 -1.38330530e-01 -6.68720003e-02  6.75337422e-01\n",
            "  -6.97354965e-01]]\n"
          ]
        }
      ]
    },
    {
      "cell_type": "markdown",
      "metadata": {
        "id": "6IVdHr-Ti-O5"
      },
      "source": [
        "<p>Τώρα, θα εφαρμόσετε τα νέα <b><i>ιδιοδιανύσματα</i></b> στο παλιό dataset για να πάρετε το νέο, μειωμένο σε μέγεθος dataset.</p>"
      ]
    },
    {
      "cell_type": "code",
      "metadata": {
        "id": "HtJouKmSjPbD"
      },
      "source": [
        "new_data = new_vectors.dot(data_normal.T)"
      ],
      "execution_count": 7,
      "outputs": []
    },
    {
      "cell_type": "markdown",
      "metadata": {
        "id": "o5B93KQ3jTpf"
      },
      "source": [
        "<p>Να αποθηκεύσετε το νέο dataset σε ένα αρχείο <i>csv</i>.</p>"
      ]
    },
    {
      "cell_type": "code",
      "metadata": {
        "id": "W1uY6kFWjflf"
      },
      "source": [
        "np.savetxt(\"foo.csv\", new_data.T, delimiter=\",\")"
      ],
      "execution_count": 8,
      "outputs": []
    },
    {
      "cell_type": "markdown",
      "metadata": {
        "id": "8u085fpWjnPD"
      },
      "source": [
        "<h4><b><i>Ερωτήσεις</i></b></h4>\n",
        "<ul>\n",
        "<li>Να μελετήσετε το παραπάνω πρόγραμμα και να περιγράψετε, σύντομα, τα βήματα που ακολουθεί ο αλγόριθμος <b><i>PCA</i></b>, υλοποιημένος με τη μέθοδο <b><i>covariance</i></b>. Να συμπεριλάβετε και τις μαθηματικές πράξεις.</li>\n",
        "<li>Να εφαρμόσετε τον αλγόριθμο <b><i>PCA</i></b> πάνω στα δεδομένα του αρχείου <i><a href=\"https://github.com/nkostopoulos/StochasticsLabPublic/blob/master/lab2/demo3b.csv\">demo3b.csv</a></i>. Στη συνέχεια, να καταγράψετε τον <i>πίνακα συνδιακύμανσης</i> του dataset και τις ιδιοτιμές του πίνακα αυτού. Τι υποδηλώνουν οι θετικές και τι οι αρνητικές τιμές του <i>πίνακα συνδιακύμανσης</i>; Να διατάξετε τις <i>ιδιοτιμές</i> σε φθίνουσα σειρά. Τι παρατηρείτε για τις τρεις πρώτες σε σχέση με τις υπόλοιπες; Πόσες <i>κύριες συνιστώσες</i> επιλέγει να διατηρήσει ο αλγόριθμος;</li>\n",
        "</ul>"
      ]
    },
    {
      "cell_type": "markdown",
      "source": [
        "ΑΠΑΝΤΗΣΕΙΣ"
      ],
      "metadata": {
        "id": "YkgDyclie3aT"
      }
    },
    {
      "cell_type": "markdown",
      "source": [
        "i)Στη συγκεκριμένη άσκηση έχουμε N=130 δειγματικά σημεία, καθ' ένα εκ των οποίων αποτελείται από m=13 χαρακτηριστικά. Έτσι, τα σημεία αυτά καταχωρούνται σε έναν πίνακα X', με διαστάσεις Nxm. Κατόπιν, η μέση τιμή του  i-οστού χαρακτηριστικού,μi, υπολογίζεται ως:\n",
        "\n",
        "μi=1/N*ΣX'ni, όπου ΣX'i το άθροισμα των σημείων Χ΄ για i από 1 μέχρι n.\n",
        "\n",
        "με σκοπό να αφαιρεθεί από κάθε δειγματικό σημείο, προκειμένου η μέση τιμή ως προς κάθε χαρακτηριστικό να ισούται με μηδέν: Χ=Χ'-μ\n",
        "\n",
        "όπου με μ συμβολίζεται ο Nxm πίνακας που σε κάθε γραμμή του έχει το διάνυσμα μ=(μ1,μ2,...μn) . Χρησιμοποιώντας το νέο πίνακα X υπολογίζεται ο αντίστοιχος πίνακας συνδιακύμανσης των χαρακτηριστικών, δηλαδή ο mxm πίνακας , του οποίου το στοιχείο Cij αντιστοιχεί στη συνδιακύμανση μεταξύ του  i-οστού και  j-οστού χαρακτηριστικού:\n",
        "\n",
        "cij=1/(N-1)Σ(Xni-μi)(Xnj-μj), όπου Σ(Xni-μi)(Xnj-μj) το άθροισμα (Xni-μi)(Xnj-μj) για i από 1 μέχρι n.  \n",
        "\n",
        "Προφανώς, στην περίπτωση i=j προκύπτει η διακύμανση του i-οστού χαρακτηριστικού. Με δεδομένο τον πίνακα συνδιακύμανσης, το επόμενο βήμα είναι ο υπολογισμός των ιδιοδιανυσμάτων του, x, και των ιδιοτιμών του,λ, λύνοντας το πρόβλημα:\n",
        "\n",
        "Cx=λx\n",
        "\n",
        "Ο λόγος για τον οποίο είναι απαραίτητος ο προσδιορισμός των ιδιοδιανυσμάτων και των ιδιοτιμών του πίνακα συνδιακύμανσης είναι πως, για ένα πρόβλημα m χαρακτηριστικών, το σφάλμα προσέγγισης PCA μέσω των\n",
        "k κύριων συνιστωσών, J, θα ισούται με:\n",
        "\n",
        "J=Σλi, όπου Σλi το άθροισμα λi για i από k+1 μέχρι m.\n",
        "\n",
        "\n",
        "\n",
        "\n"
      ],
      "metadata": {
        "id": "deMpFPRDs-eG"
      }
    },
    {
      "cell_type": "markdown",
      "source": [
        "ii)Ο πίνακας συνδιακύμανσης είναι ένας σημαντικός υπολογιστικός πίνακας που χρησιμοποιείται στη στατιστική και στην ανάλυση δεδομένων. Οι θετικές και αρνητικές τιμές του πίνακα συνδιακύμανσης υποδηλώνουν τον τύπο της σχέσης μεταξύ δύο μεταβλητών. Ειδικότερα,η συνδιακύμανση είναι ένα μέτρο του πόσο σχετίζονται οι παραλλαγές δύο μεταβλητών. Μια θετική συνδιακύμανση μεταξύ δύο μεταβλητών αποκαλύπτει ότι οι ζευγαρωμένες τιμές και των δύο μεταβλητών τείνουν να αυξάνονται μαζί. Μια αρνητική συνδιακύμανση αποκαλύπτει ότι υπάρχει αντίστροφη σχέση μεταξύ των μεταβλητών, δηλαδή, καθώς η μία αυξάνεται, η άλλη τείνει να μειώνεται. Μια μηδενική συνδιακύμανση δείχνει ότι δεν υπάρχει σύνδεση μεταξύ των τιμών των δύο μεταβλητών"
      ],
      "metadata": {
        "id": "rcRG6e-zfdti"
      }
    },
    {
      "cell_type": "code",
      "source": [
        "print(\"Οι ιδιοτιμές του πίνακα συνδιακύμανσης σε φθίνουσα σειρά είναι οι εξής:\")\n",
        "print(sorted(values,reverse=True))"
      ],
      "metadata": {
        "colab": {
          "base_uri": "https://localhost:8080/"
        },
        "id": "VsaDhfQdnzty",
        "outputId": "6a1c3a0d-bcec-4305-f486-b491eb7f821e"
      },
      "execution_count": 9,
      "outputs": [
        {
          "output_type": "stream",
          "name": "stdout",
          "text": [
            "Οι ιδιοτιμές του πίνακα συνδιακύμανσης σε φθίνουσα σειρά είναι οι εξής:\n",
            "[124313.07344459958, 193.45602626538692, 9.50168321005974, 1.3250016880448792, 0.8105956686469435, 0.4510817126522554, 0.26915783148547284, 0.16099338038871566, 0.11110034340026094, 0.0587421685521958, 0.03203128519816791, 0.021978252812754256, 0.006133989998101028]\n"
          ]
        }
      ]
    },
    {
      "cell_type": "markdown",
      "source": [
        "Οι 3 πρώτες τιμές έχουν πολύ μεγάλη απόσταη από τις υπόλοιπες. Συγκεκριμένα, οι 3 πρώτες τιμές έχουν τιμή: 124313.07344459958,\n",
        "193.45602626538692, 9.50168321005974. Από εκεί και πέρα οι τιμές που υπάρχουν είναι  1.3250016880448792 και οι υπόλοιπες τιμές είναι μικρότερες του 1. Συνεπώς, ύπαρχει σφάλμα."
      ],
      "metadata": {
        "id": "AvJCPlx7nTtg"
      }
    },
    {
      "cell_type": "markdown",
      "source": [
        " Οι κύριες συνιστώσες που επιλέγει ο αλγόριθμος είναι οι 3 πρώτες.Αυτό γίνεται προκειμένου να μειώσουμε το σφάλμα.Η ιδέα είναι ότι κρατώντας τις ιδιοτιμές που βρίσκονται πιο κοντά μεταξύ τους και έχουν μεγάλη απόσταση από τις υπόλοιπες, το σφάλμα προσέγγισης θα είναι λογικά μικρότερο. Το σφάλμα προσέγγισης της PCA για k κύριες συνιστώσες δίνεται από το άθροισμα των k-d μικρότερων ιδιοτιμών, θεωρώντας πως έχουν κανονικοποιηθεί. Στην προκείμενη περίπτωση, όπου έχουν επιλεγεί 3 κύριες συνιστώσες, το σφάλμα αυτό θα ισούται με:"
      ],
      "metadata": {
        "id": "c1UfG71Mqrs1"
      }
    },
    {
      "cell_type": "code",
      "source": [
        "print(f\"Το σφάλμα προσέγγισης 3 κυρίων συνιστωσών ισούται με {100*sum(values[3:])/sum(values):.4f}%\")"
      ],
      "metadata": {
        "colab": {
          "base_uri": "https://localhost:8080/"
        },
        "id": "WF-FbtTCfMmo",
        "outputId": "5fdf8272-17c4-446a-9e15-c87334b1aa75"
      },
      "execution_count": 10,
      "outputs": [
        {
          "output_type": "stream",
          "name": "stdout",
          "text": [
            "Το σφάλμα προσέγγισης 3 κυρίων συνιστωσών ισούται με 0.0026%\n"
          ]
        }
      ]
    },
    {
      "cell_type": "markdown",
      "metadata": {
        "id": "DBRxVL9BmqGw"
      },
      "source": [
        "<h3><b><i>Logistic Regression</i></b></h3>\n",
        "\n",
        "<p>Αρχικά, θα φορτώσετε τις απαραίτητες βιβλιοθήκες.</p>"
      ]
    },
    {
      "cell_type": "code",
      "metadata": {
        "id": "MiGjiOEQnpwn",
        "outputId": "a6fc0fd8-ffe8-4109-a971-fb9445673fe6",
        "colab": {
          "base_uri": "https://localhost:8080/"
        }
      },
      "source": [
        "!pip install pandas\n",
        "!pip install numpy\n",
        "!pip install matplotlib\n",
        "!pip install sklearn\n",
        "import pandas as pd\n",
        "import numpy as np\n",
        "import matplotlib.pyplot as plt\n",
        "from sklearn.model_selection import train_test_split\n",
        "from sklearn.decomposition import PCA\n",
        "from sklearn.preprocessing import StandardScaler\n",
        "from sklearn.linear_model import LogisticRegression"
      ],
      "execution_count": 112,
      "outputs": [
        {
          "output_type": "stream",
          "name": "stdout",
          "text": [
            "Requirement already satisfied: pandas in /usr/local/lib/python3.10/dist-packages (1.5.3)\n",
            "Requirement already satisfied: python-dateutil>=2.8.1 in /usr/local/lib/python3.10/dist-packages (from pandas) (2.8.2)\n",
            "Requirement already satisfied: pytz>=2020.1 in /usr/local/lib/python3.10/dist-packages (from pandas) (2023.4)\n",
            "Requirement already satisfied: numpy>=1.21.0 in /usr/local/lib/python3.10/dist-packages (from pandas) (1.25.2)\n",
            "Requirement already satisfied: six>=1.5 in /usr/local/lib/python3.10/dist-packages (from python-dateutil>=2.8.1->pandas) (1.16.0)\n",
            "Requirement already satisfied: numpy in /usr/local/lib/python3.10/dist-packages (1.25.2)\n",
            "Requirement already satisfied: matplotlib in /usr/local/lib/python3.10/dist-packages (3.7.1)\n",
            "Requirement already satisfied: contourpy>=1.0.1 in /usr/local/lib/python3.10/dist-packages (from matplotlib) (1.2.0)\n",
            "Requirement already satisfied: cycler>=0.10 in /usr/local/lib/python3.10/dist-packages (from matplotlib) (0.12.1)\n",
            "Requirement already satisfied: fonttools>=4.22.0 in /usr/local/lib/python3.10/dist-packages (from matplotlib) (4.50.0)\n",
            "Requirement already satisfied: kiwisolver>=1.0.1 in /usr/local/lib/python3.10/dist-packages (from matplotlib) (1.4.5)\n",
            "Requirement already satisfied: numpy>=1.20 in /usr/local/lib/python3.10/dist-packages (from matplotlib) (1.25.2)\n",
            "Requirement already satisfied: packaging>=20.0 in /usr/local/lib/python3.10/dist-packages (from matplotlib) (24.0)\n",
            "Requirement already satisfied: pillow>=6.2.0 in /usr/local/lib/python3.10/dist-packages (from matplotlib) (9.4.0)\n",
            "Requirement already satisfied: pyparsing>=2.3.1 in /usr/local/lib/python3.10/dist-packages (from matplotlib) (3.1.2)\n",
            "Requirement already satisfied: python-dateutil>=2.7 in /usr/local/lib/python3.10/dist-packages (from matplotlib) (2.8.2)\n",
            "Requirement already satisfied: six>=1.5 in /usr/local/lib/python3.10/dist-packages (from python-dateutil>=2.7->matplotlib) (1.16.0)\n",
            "Collecting sklearn\n",
            "  Using cached sklearn-0.0.post12.tar.gz (2.6 kB)\n",
            "  \u001b[1;31merror\u001b[0m: \u001b[1msubprocess-exited-with-error\u001b[0m\n",
            "  \n",
            "  \u001b[31m×\u001b[0m \u001b[32mpython setup.py egg_info\u001b[0m did not run successfully.\n",
            "  \u001b[31m│\u001b[0m exit code: \u001b[1;36m1\u001b[0m\n",
            "  \u001b[31m╰─>\u001b[0m See above for output.\n",
            "  \n",
            "  \u001b[1;35mnote\u001b[0m: This error originates from a subprocess, and is likely not a problem with pip.\n",
            "  Preparing metadata (setup.py) ... \u001b[?25l\u001b[?25herror\n",
            "\u001b[1;31merror\u001b[0m: \u001b[1mmetadata-generation-failed\u001b[0m\n",
            "\n",
            "\u001b[31m×\u001b[0m Encountered error while generating package metadata.\n",
            "\u001b[31m╰─>\u001b[0m See above for output.\n",
            "\n",
            "\u001b[1;35mnote\u001b[0m: This is an issue with the package mentioned above, not pip.\n",
            "\u001b[1;36mhint\u001b[0m: See above for details.\n"
          ]
        }
      ]
    },
    {
      "cell_type": "markdown",
      "metadata": {
        "id": "JnNo_v4Jn3gn"
      },
      "source": [
        "Στη συνέχεια, θα φορτώσετε τα datasets που θα χρησιμοποιηθούν για την εκπαίδευση του μοντέλου <b><i>logistic regression</i></b>. Στην πρώτη περίπτωση, θα εκπαιδεύσετε το μοντέλο, χρησιμοποιώντας το αρχείο <i><a href=\"https://raw.githubusercontent.com/nkostopoulos/StochasticsLabPublic/master/lab2/demo3a.csv\">demo3a.csv</a></i>. Στη δεύτερη περίπτωση, θα φορτώσετε το αρχείο <i>foo.csv</i> που πήρατε ως έξοδο από το προηγούμενο τμήμα κώδικα της άσκησης (<i>Ανάλυση σε Κύριες Συνιστώσες</i>), προσθέτοντας στην πρώτη στήλη του αρχείου τα labels που υπάρχουν στην πρώτη στήλη του αρχείου <a href=\"https://raw.githubusercontent.com/nkostopoulos/StochasticsLabPublic/master/lab2/demo3a.csv\"><i>demo3a.csv</i></a>."
      ]
    },
    {
      "cell_type": "code",
      "metadata": {
        "id": "7cJDDmjxpSTT"
      },
      "source": [
        "df = pd.read_csv(\"https://raw.githubusercontent.com/nkostopoulos/StochasticsLabPublic/master/lab2/demo3a.csv\")\n",
        "#df = pd.read_csv(\"foo.csv\")"
      ],
      "execution_count": 81,
      "outputs": []
    },
    {
      "cell_type": "markdown",
      "metadata": {
        "id": "nyQn9Hjapdjj"
      },
      "source": [
        "<p>Έπειτα, θα χωρίσετε το dataset σε <i>training</i> και <i>test set</i>.</p>"
      ]
    },
    {
      "cell_type": "code",
      "metadata": {
        "id": "NuWbSbVwpWUe"
      },
      "source": [
        "# Separate the input features from the target variable\n",
        "x = df.iloc[:,1:13].values\n",
        "y = df.iloc[:,0].values\n",
        "# Split the dataset into train and test set\n",
        "Xtrain,Xtest,Ytrain,Ytest = train_test_split(x,y, test_size = 0.2)"
      ],
      "execution_count": 82,
      "outputs": []
    },
    {
      "cell_type": "markdown",
      "metadata": {
        "id": "HFvPctcepyai"
      },
      "source": [
        "<p>Έπειτα, θα εκπαιδεύσετε το μοντέλο <b><i>Logistic Regression</i></b></p>"
      ]
    },
    {
      "cell_type": "code",
      "metadata": {
        "id": "cDquqsFOpuUl",
        "outputId": "34bc2579-f177-47f0-ca7a-82cd717b27c5",
        "colab": {
          "base_uri": "https://localhost:8080/",
          "height": 109
        }
      },
      "source": [
        "%%time\n",
        "classifier = LogisticRegression(max_iter = 1000)\n",
        "classifier.fit(Xtrain,Ytrain)"
      ],
      "execution_count": 83,
      "outputs": [
        {
          "output_type": "stream",
          "name": "stdout",
          "text": [
            "CPU times: user 76.7 ms, sys: 0 ns, total: 76.7 ms\n",
            "Wall time: 88.3 ms\n"
          ]
        },
        {
          "output_type": "execute_result",
          "data": {
            "text/plain": [
              "LogisticRegression(max_iter=1000)"
            ],
            "text/html": [
              "<style>#sk-container-id-17 {color: black;background-color: white;}#sk-container-id-17 pre{padding: 0;}#sk-container-id-17 div.sk-toggleable {background-color: white;}#sk-container-id-17 label.sk-toggleable__label {cursor: pointer;display: block;width: 100%;margin-bottom: 0;padding: 0.3em;box-sizing: border-box;text-align: center;}#sk-container-id-17 label.sk-toggleable__label-arrow:before {content: \"▸\";float: left;margin-right: 0.25em;color: #696969;}#sk-container-id-17 label.sk-toggleable__label-arrow:hover:before {color: black;}#sk-container-id-17 div.sk-estimator:hover label.sk-toggleable__label-arrow:before {color: black;}#sk-container-id-17 div.sk-toggleable__content {max-height: 0;max-width: 0;overflow: hidden;text-align: left;background-color: #f0f8ff;}#sk-container-id-17 div.sk-toggleable__content pre {margin: 0.2em;color: black;border-radius: 0.25em;background-color: #f0f8ff;}#sk-container-id-17 input.sk-toggleable__control:checked~div.sk-toggleable__content {max-height: 200px;max-width: 100%;overflow: auto;}#sk-container-id-17 input.sk-toggleable__control:checked~label.sk-toggleable__label-arrow:before {content: \"▾\";}#sk-container-id-17 div.sk-estimator input.sk-toggleable__control:checked~label.sk-toggleable__label {background-color: #d4ebff;}#sk-container-id-17 div.sk-label input.sk-toggleable__control:checked~label.sk-toggleable__label {background-color: #d4ebff;}#sk-container-id-17 input.sk-hidden--visually {border: 0;clip: rect(1px 1px 1px 1px);clip: rect(1px, 1px, 1px, 1px);height: 1px;margin: -1px;overflow: hidden;padding: 0;position: absolute;width: 1px;}#sk-container-id-17 div.sk-estimator {font-family: monospace;background-color: #f0f8ff;border: 1px dotted black;border-radius: 0.25em;box-sizing: border-box;margin-bottom: 0.5em;}#sk-container-id-17 div.sk-estimator:hover {background-color: #d4ebff;}#sk-container-id-17 div.sk-parallel-item::after {content: \"\";width: 100%;border-bottom: 1px solid gray;flex-grow: 1;}#sk-container-id-17 div.sk-label:hover label.sk-toggleable__label {background-color: #d4ebff;}#sk-container-id-17 div.sk-serial::before {content: \"\";position: absolute;border-left: 1px solid gray;box-sizing: border-box;top: 0;bottom: 0;left: 50%;z-index: 0;}#sk-container-id-17 div.sk-serial {display: flex;flex-direction: column;align-items: center;background-color: white;padding-right: 0.2em;padding-left: 0.2em;position: relative;}#sk-container-id-17 div.sk-item {position: relative;z-index: 1;}#sk-container-id-17 div.sk-parallel {display: flex;align-items: stretch;justify-content: center;background-color: white;position: relative;}#sk-container-id-17 div.sk-item::before, #sk-container-id-17 div.sk-parallel-item::before {content: \"\";position: absolute;border-left: 1px solid gray;box-sizing: border-box;top: 0;bottom: 0;left: 50%;z-index: -1;}#sk-container-id-17 div.sk-parallel-item {display: flex;flex-direction: column;z-index: 1;position: relative;background-color: white;}#sk-container-id-17 div.sk-parallel-item:first-child::after {align-self: flex-end;width: 50%;}#sk-container-id-17 div.sk-parallel-item:last-child::after {align-self: flex-start;width: 50%;}#sk-container-id-17 div.sk-parallel-item:only-child::after {width: 0;}#sk-container-id-17 div.sk-dashed-wrapped {border: 1px dashed gray;margin: 0 0.4em 0.5em 0.4em;box-sizing: border-box;padding-bottom: 0.4em;background-color: white;}#sk-container-id-17 div.sk-label label {font-family: monospace;font-weight: bold;display: inline-block;line-height: 1.2em;}#sk-container-id-17 div.sk-label-container {text-align: center;}#sk-container-id-17 div.sk-container {/* jupyter's `normalize.less` sets `[hidden] { display: none; }` but bootstrap.min.css set `[hidden] { display: none !important; }` so we also need the `!important` here to be able to override the default hidden behavior on the sphinx rendered scikit-learn.org. See: https://github.com/scikit-learn/scikit-learn/issues/21755 */display: inline-block !important;position: relative;}#sk-container-id-17 div.sk-text-repr-fallback {display: none;}</style><div id=\"sk-container-id-17\" class=\"sk-top-container\"><div class=\"sk-text-repr-fallback\"><pre>LogisticRegression(max_iter=1000)</pre><b>In a Jupyter environment, please rerun this cell to show the HTML representation or trust the notebook. <br />On GitHub, the HTML representation is unable to render, please try loading this page with nbviewer.org.</b></div><div class=\"sk-container\" hidden><div class=\"sk-item\"><div class=\"sk-estimator sk-toggleable\"><input class=\"sk-toggleable__control sk-hidden--visually\" id=\"sk-estimator-id-17\" type=\"checkbox\" checked><label for=\"sk-estimator-id-17\" class=\"sk-toggleable__label sk-toggleable__label-arrow\">LogisticRegression</label><div class=\"sk-toggleable__content\"><pre>LogisticRegression(max_iter=1000)</pre></div></div></div></div></div>"
            ]
          },
          "metadata": {},
          "execution_count": 83
        }
      ]
    },
    {
      "cell_type": "markdown",
      "metadata": {
        "id": "ZGx2iFUlqC4w"
      },
      "source": [
        "<p>Τέλος, θα λάβετε τις προβλέψεις του μοντέλου που εκπαιδεύσατε πάνω στο test set και θα υπολογίσετε τα συνολικά λάθη.</p>"
      ]
    },
    {
      "cell_type": "code",
      "metadata": {
        "id": "opOmr-vCqOKL",
        "outputId": "e1e3f5f6-7044-424c-b00f-579f9cd7d8f3",
        "colab": {
          "base_uri": "https://localhost:8080/"
        }
      },
      "source": [
        "# Get the predictions on the test set\n",
        "prediction = classifier.predict(Xtest)\n",
        "\n",
        "# Calculate the total number of errors on the test set\n",
        "errors = 0\n",
        "for index in range(0,len(prediction) - 1):\n",
        "\tif prediction[index] != Ytest[index]:\n",
        "\t\terrors += 1\n",
        "\n",
        "print(\"Total errors on the test dataset\")\n",
        "print(errors)"
      ],
      "execution_count": 84,
      "outputs": [
        {
          "output_type": "stream",
          "name": "stdout",
          "text": [
            "Total errors on the test dataset\n",
            "1\n"
          ]
        }
      ]
    },
    {
      "cell_type": "markdown",
      "source": [
        "Παρατηρούμε ότι υπάρχει 1 λάθος. Το μοντέλο μας δεν είναι το βέλτιστο, άλλα παρ΄όλα αυτά βρίσκεται σε πολύ καλό επίπεδο εγκυρότητας."
      ],
      "metadata": {
        "id": "xtEgWwY7YkcJ"
      }
    },
    {
      "cell_type": "markdown",
      "source": [
        "Σε αυτό το σημείο επαναλαμβάνουμε την ίδια διαδικασία, αλλά αυτή τη φορά διαβάζουμε το αρχείο \"foo.csv\""
      ],
      "metadata": {
        "id": "e92NcpGjMtBx"
      }
    },
    {
      "cell_type": "code",
      "source": [
        "df = pd.read_csv(\"foo.csv\")\n",
        "#print(df)\n",
        "x=df.values\n",
        "#print(x)\n",
        "Xtrain,Xtest,Ytrain,Ytest = train_test_split(x,y, test_size = 0.2)"
      ],
      "metadata": {
        "id": "8X4jPKNGLfsM"
      },
      "execution_count": 101,
      "outputs": []
    },
    {
      "cell_type": "code",
      "source": [
        "%%time\n",
        "classifier = LogisticRegression(max_iter = 1000)\n",
        "classifier.fit(Xtrain,Ytrain)"
      ],
      "metadata": {
        "colab": {
          "base_uri": "https://localhost:8080/",
          "height": 109
        },
        "id": "krYUGKLVMIjP",
        "outputId": "8702fd43-1c2f-42de-8711-ee529ae2e934"
      },
      "execution_count": 102,
      "outputs": [
        {
          "output_type": "stream",
          "name": "stdout",
          "text": [
            "CPU times: user 8.01 ms, sys: 973 µs, total: 8.98 ms\n",
            "Wall time: 9 ms\n"
          ]
        },
        {
          "output_type": "execute_result",
          "data": {
            "text/plain": [
              "LogisticRegression(max_iter=1000)"
            ],
            "text/html": [
              "<style>#sk-container-id-23 {color: black;background-color: white;}#sk-container-id-23 pre{padding: 0;}#sk-container-id-23 div.sk-toggleable {background-color: white;}#sk-container-id-23 label.sk-toggleable__label {cursor: pointer;display: block;width: 100%;margin-bottom: 0;padding: 0.3em;box-sizing: border-box;text-align: center;}#sk-container-id-23 label.sk-toggleable__label-arrow:before {content: \"▸\";float: left;margin-right: 0.25em;color: #696969;}#sk-container-id-23 label.sk-toggleable__label-arrow:hover:before {color: black;}#sk-container-id-23 div.sk-estimator:hover label.sk-toggleable__label-arrow:before {color: black;}#sk-container-id-23 div.sk-toggleable__content {max-height: 0;max-width: 0;overflow: hidden;text-align: left;background-color: #f0f8ff;}#sk-container-id-23 div.sk-toggleable__content pre {margin: 0.2em;color: black;border-radius: 0.25em;background-color: #f0f8ff;}#sk-container-id-23 input.sk-toggleable__control:checked~div.sk-toggleable__content {max-height: 200px;max-width: 100%;overflow: auto;}#sk-container-id-23 input.sk-toggleable__control:checked~label.sk-toggleable__label-arrow:before {content: \"▾\";}#sk-container-id-23 div.sk-estimator input.sk-toggleable__control:checked~label.sk-toggleable__label {background-color: #d4ebff;}#sk-container-id-23 div.sk-label input.sk-toggleable__control:checked~label.sk-toggleable__label {background-color: #d4ebff;}#sk-container-id-23 input.sk-hidden--visually {border: 0;clip: rect(1px 1px 1px 1px);clip: rect(1px, 1px, 1px, 1px);height: 1px;margin: -1px;overflow: hidden;padding: 0;position: absolute;width: 1px;}#sk-container-id-23 div.sk-estimator {font-family: monospace;background-color: #f0f8ff;border: 1px dotted black;border-radius: 0.25em;box-sizing: border-box;margin-bottom: 0.5em;}#sk-container-id-23 div.sk-estimator:hover {background-color: #d4ebff;}#sk-container-id-23 div.sk-parallel-item::after {content: \"\";width: 100%;border-bottom: 1px solid gray;flex-grow: 1;}#sk-container-id-23 div.sk-label:hover label.sk-toggleable__label {background-color: #d4ebff;}#sk-container-id-23 div.sk-serial::before {content: \"\";position: absolute;border-left: 1px solid gray;box-sizing: border-box;top: 0;bottom: 0;left: 50%;z-index: 0;}#sk-container-id-23 div.sk-serial {display: flex;flex-direction: column;align-items: center;background-color: white;padding-right: 0.2em;padding-left: 0.2em;position: relative;}#sk-container-id-23 div.sk-item {position: relative;z-index: 1;}#sk-container-id-23 div.sk-parallel {display: flex;align-items: stretch;justify-content: center;background-color: white;position: relative;}#sk-container-id-23 div.sk-item::before, #sk-container-id-23 div.sk-parallel-item::before {content: \"\";position: absolute;border-left: 1px solid gray;box-sizing: border-box;top: 0;bottom: 0;left: 50%;z-index: -1;}#sk-container-id-23 div.sk-parallel-item {display: flex;flex-direction: column;z-index: 1;position: relative;background-color: white;}#sk-container-id-23 div.sk-parallel-item:first-child::after {align-self: flex-end;width: 50%;}#sk-container-id-23 div.sk-parallel-item:last-child::after {align-self: flex-start;width: 50%;}#sk-container-id-23 div.sk-parallel-item:only-child::after {width: 0;}#sk-container-id-23 div.sk-dashed-wrapped {border: 1px dashed gray;margin: 0 0.4em 0.5em 0.4em;box-sizing: border-box;padding-bottom: 0.4em;background-color: white;}#sk-container-id-23 div.sk-label label {font-family: monospace;font-weight: bold;display: inline-block;line-height: 1.2em;}#sk-container-id-23 div.sk-label-container {text-align: center;}#sk-container-id-23 div.sk-container {/* jupyter's `normalize.less` sets `[hidden] { display: none; }` but bootstrap.min.css set `[hidden] { display: none !important; }` so we also need the `!important` here to be able to override the default hidden behavior on the sphinx rendered scikit-learn.org. See: https://github.com/scikit-learn/scikit-learn/issues/21755 */display: inline-block !important;position: relative;}#sk-container-id-23 div.sk-text-repr-fallback {display: none;}</style><div id=\"sk-container-id-23\" class=\"sk-top-container\"><div class=\"sk-text-repr-fallback\"><pre>LogisticRegression(max_iter=1000)</pre><b>In a Jupyter environment, please rerun this cell to show the HTML representation or trust the notebook. <br />On GitHub, the HTML representation is unable to render, please try loading this page with nbviewer.org.</b></div><div class=\"sk-container\" hidden><div class=\"sk-item\"><div class=\"sk-estimator sk-toggleable\"><input class=\"sk-toggleable__control sk-hidden--visually\" id=\"sk-estimator-id-23\" type=\"checkbox\" checked><label for=\"sk-estimator-id-23\" class=\"sk-toggleable__label sk-toggleable__label-arrow\">LogisticRegression</label><div class=\"sk-toggleable__content\"><pre>LogisticRegression(max_iter=1000)</pre></div></div></div></div></div>"
            ]
          },
          "metadata": {},
          "execution_count": 102
        }
      ]
    },
    {
      "cell_type": "code",
      "source": [
        "# Get the predictions on the test set\n",
        "prediction = classifier.predict(Xtest)\n",
        "\n",
        "# Calculate the total number of errors on the test set\n",
        "errors = 0\n",
        "for index in range(0,len(prediction) - 1):\n",
        "\tif prediction[index] != Ytest[index]:\n",
        "\t\terrors += 1\n",
        "\n",
        "print(\"Total errors on the test dataset\")\n",
        "print(errors)"
      ],
      "metadata": {
        "colab": {
          "base_uri": "https://localhost:8080/"
        },
        "id": "ohM_Dr0qML-0",
        "outputId": "48cd6447-76a2-41b6-f681-8239ec7c947c"
      },
      "execution_count": 103,
      "outputs": [
        {
          "output_type": "stream",
          "name": "stdout",
          "text": [
            "Total errors on the test dataset\n",
            "1\n"
          ]
        }
      ]
    },
    {
      "cell_type": "markdown",
      "source": [
        "Τώρα θα ελέγξουμε τι γίνεται στην περίπτωση που κρατάμε 1 και 2 κύριες συνιστώσες.\n"
      ],
      "metadata": {
        "id": "ro7MMPLtMa_2"
      }
    },
    {
      "cell_type": "markdown",
      "source": [
        "Αρχικά θα ελέγξουμε τι γίνεται στην περίπτωση όπου κρατάμε 2 συνιστώσες."
      ],
      "metadata": {
        "id": "JZOtEmfCNPVb"
      }
    },
    {
      "cell_type": "code",
      "source": [
        "df = pd.read_csv(\"foo.csv\")\n",
        "x = df.iloc[:,1:3].values\n",
        "Xtrain,Xtest,Ytrain,Ytest = train_test_split(x,y, test_size = 0.2)"
      ],
      "metadata": {
        "id": "TozG1le4Mp19"
      },
      "execution_count": 104,
      "outputs": []
    },
    {
      "cell_type": "code",
      "source": [
        "%%time\n",
        "classifier = LogisticRegression(max_iter = 1000)\n",
        "classifier.fit(Xtrain,Ytrain)"
      ],
      "metadata": {
        "colab": {
          "base_uri": "https://localhost:8080/",
          "height": 109
        },
        "id": "XMi92cpTNHL9",
        "outputId": "cc50a258-92b7-4e3f-86b8-44011f8197ff"
      },
      "execution_count": 105,
      "outputs": [
        {
          "output_type": "stream",
          "name": "stdout",
          "text": [
            "CPU times: user 8.11 ms, sys: 0 ns, total: 8.11 ms\n",
            "Wall time: 10.7 ms\n"
          ]
        },
        {
          "output_type": "execute_result",
          "data": {
            "text/plain": [
              "LogisticRegression(max_iter=1000)"
            ],
            "text/html": [
              "<style>#sk-container-id-24 {color: black;background-color: white;}#sk-container-id-24 pre{padding: 0;}#sk-container-id-24 div.sk-toggleable {background-color: white;}#sk-container-id-24 label.sk-toggleable__label {cursor: pointer;display: block;width: 100%;margin-bottom: 0;padding: 0.3em;box-sizing: border-box;text-align: center;}#sk-container-id-24 label.sk-toggleable__label-arrow:before {content: \"▸\";float: left;margin-right: 0.25em;color: #696969;}#sk-container-id-24 label.sk-toggleable__label-arrow:hover:before {color: black;}#sk-container-id-24 div.sk-estimator:hover label.sk-toggleable__label-arrow:before {color: black;}#sk-container-id-24 div.sk-toggleable__content {max-height: 0;max-width: 0;overflow: hidden;text-align: left;background-color: #f0f8ff;}#sk-container-id-24 div.sk-toggleable__content pre {margin: 0.2em;color: black;border-radius: 0.25em;background-color: #f0f8ff;}#sk-container-id-24 input.sk-toggleable__control:checked~div.sk-toggleable__content {max-height: 200px;max-width: 100%;overflow: auto;}#sk-container-id-24 input.sk-toggleable__control:checked~label.sk-toggleable__label-arrow:before {content: \"▾\";}#sk-container-id-24 div.sk-estimator input.sk-toggleable__control:checked~label.sk-toggleable__label {background-color: #d4ebff;}#sk-container-id-24 div.sk-label input.sk-toggleable__control:checked~label.sk-toggleable__label {background-color: #d4ebff;}#sk-container-id-24 input.sk-hidden--visually {border: 0;clip: rect(1px 1px 1px 1px);clip: rect(1px, 1px, 1px, 1px);height: 1px;margin: -1px;overflow: hidden;padding: 0;position: absolute;width: 1px;}#sk-container-id-24 div.sk-estimator {font-family: monospace;background-color: #f0f8ff;border: 1px dotted black;border-radius: 0.25em;box-sizing: border-box;margin-bottom: 0.5em;}#sk-container-id-24 div.sk-estimator:hover {background-color: #d4ebff;}#sk-container-id-24 div.sk-parallel-item::after {content: \"\";width: 100%;border-bottom: 1px solid gray;flex-grow: 1;}#sk-container-id-24 div.sk-label:hover label.sk-toggleable__label {background-color: #d4ebff;}#sk-container-id-24 div.sk-serial::before {content: \"\";position: absolute;border-left: 1px solid gray;box-sizing: border-box;top: 0;bottom: 0;left: 50%;z-index: 0;}#sk-container-id-24 div.sk-serial {display: flex;flex-direction: column;align-items: center;background-color: white;padding-right: 0.2em;padding-left: 0.2em;position: relative;}#sk-container-id-24 div.sk-item {position: relative;z-index: 1;}#sk-container-id-24 div.sk-parallel {display: flex;align-items: stretch;justify-content: center;background-color: white;position: relative;}#sk-container-id-24 div.sk-item::before, #sk-container-id-24 div.sk-parallel-item::before {content: \"\";position: absolute;border-left: 1px solid gray;box-sizing: border-box;top: 0;bottom: 0;left: 50%;z-index: -1;}#sk-container-id-24 div.sk-parallel-item {display: flex;flex-direction: column;z-index: 1;position: relative;background-color: white;}#sk-container-id-24 div.sk-parallel-item:first-child::after {align-self: flex-end;width: 50%;}#sk-container-id-24 div.sk-parallel-item:last-child::after {align-self: flex-start;width: 50%;}#sk-container-id-24 div.sk-parallel-item:only-child::after {width: 0;}#sk-container-id-24 div.sk-dashed-wrapped {border: 1px dashed gray;margin: 0 0.4em 0.5em 0.4em;box-sizing: border-box;padding-bottom: 0.4em;background-color: white;}#sk-container-id-24 div.sk-label label {font-family: monospace;font-weight: bold;display: inline-block;line-height: 1.2em;}#sk-container-id-24 div.sk-label-container {text-align: center;}#sk-container-id-24 div.sk-container {/* jupyter's `normalize.less` sets `[hidden] { display: none; }` but bootstrap.min.css set `[hidden] { display: none !important; }` so we also need the `!important` here to be able to override the default hidden behavior on the sphinx rendered scikit-learn.org. See: https://github.com/scikit-learn/scikit-learn/issues/21755 */display: inline-block !important;position: relative;}#sk-container-id-24 div.sk-text-repr-fallback {display: none;}</style><div id=\"sk-container-id-24\" class=\"sk-top-container\"><div class=\"sk-text-repr-fallback\"><pre>LogisticRegression(max_iter=1000)</pre><b>In a Jupyter environment, please rerun this cell to show the HTML representation or trust the notebook. <br />On GitHub, the HTML representation is unable to render, please try loading this page with nbviewer.org.</b></div><div class=\"sk-container\" hidden><div class=\"sk-item\"><div class=\"sk-estimator sk-toggleable\"><input class=\"sk-toggleable__control sk-hidden--visually\" id=\"sk-estimator-id-24\" type=\"checkbox\" checked><label for=\"sk-estimator-id-24\" class=\"sk-toggleable__label sk-toggleable__label-arrow\">LogisticRegression</label><div class=\"sk-toggleable__content\"><pre>LogisticRegression(max_iter=1000)</pre></div></div></div></div></div>"
            ]
          },
          "metadata": {},
          "execution_count": 105
        }
      ]
    },
    {
      "cell_type": "code",
      "source": [
        "# Get the predictions on the test set\n",
        "prediction = classifier.predict(Xtest)\n",
        "\n",
        "# Calculate the total number of errors on the test set\n",
        "errors = 0\n",
        "for index in range(0,len(prediction) - 1):\n",
        "\tif prediction[index] != Ytest[index]:\n",
        "\t\terrors += 1\n",
        "\n",
        "print(\"Total errors on the test dataset\")\n",
        "print(errors)"
      ],
      "metadata": {
        "colab": {
          "base_uri": "https://localhost:8080/"
        },
        "id": "ueRG5AMsNLKE",
        "outputId": "284df633-e4b5-4ec3-be53-a6664f067eac"
      },
      "execution_count": 106,
      "outputs": [
        {
          "output_type": "stream",
          "name": "stdout",
          "text": [
            "Total errors on the test dataset\n",
            "0\n"
          ]
        }
      ]
    },
    {
      "cell_type": "markdown",
      "source": [
        "Τώρα θα ελέγξουμε τη περίπτωση όπου κρατάμε 1 συνιστώσα."
      ],
      "metadata": {
        "id": "PpGe_NAUNf31"
      }
    },
    {
      "cell_type": "code",
      "source": [
        "df = pd.read_csv(\"foo.csv\")\n",
        "x = df.iloc[:,2:3].values\n",
        "Xtrain,Xtest,Ytrain,Ytest = train_test_split(x,y, test_size = 0.2)"
      ],
      "metadata": {
        "id": "-qwJ4TaFNlVl"
      },
      "execution_count": 107,
      "outputs": []
    },
    {
      "cell_type": "code",
      "source": [
        "%%time\n",
        "classifier = LogisticRegression(max_iter = 1000)\n",
        "classifier.fit(Xtrain,Ytrain)"
      ],
      "metadata": {
        "colab": {
          "base_uri": "https://localhost:8080/",
          "height": 109
        },
        "id": "xgX394eONp1K",
        "outputId": "f7722364-37d3-4498-b316-3f9cc50a1993"
      },
      "execution_count": 108,
      "outputs": [
        {
          "output_type": "stream",
          "name": "stdout",
          "text": [
            "CPU times: user 6.61 ms, sys: 1 µs, total: 6.61 ms\n",
            "Wall time: 7.61 ms\n"
          ]
        },
        {
          "output_type": "execute_result",
          "data": {
            "text/plain": [
              "LogisticRegression(max_iter=1000)"
            ],
            "text/html": [
              "<style>#sk-container-id-25 {color: black;background-color: white;}#sk-container-id-25 pre{padding: 0;}#sk-container-id-25 div.sk-toggleable {background-color: white;}#sk-container-id-25 label.sk-toggleable__label {cursor: pointer;display: block;width: 100%;margin-bottom: 0;padding: 0.3em;box-sizing: border-box;text-align: center;}#sk-container-id-25 label.sk-toggleable__label-arrow:before {content: \"▸\";float: left;margin-right: 0.25em;color: #696969;}#sk-container-id-25 label.sk-toggleable__label-arrow:hover:before {color: black;}#sk-container-id-25 div.sk-estimator:hover label.sk-toggleable__label-arrow:before {color: black;}#sk-container-id-25 div.sk-toggleable__content {max-height: 0;max-width: 0;overflow: hidden;text-align: left;background-color: #f0f8ff;}#sk-container-id-25 div.sk-toggleable__content pre {margin: 0.2em;color: black;border-radius: 0.25em;background-color: #f0f8ff;}#sk-container-id-25 input.sk-toggleable__control:checked~div.sk-toggleable__content {max-height: 200px;max-width: 100%;overflow: auto;}#sk-container-id-25 input.sk-toggleable__control:checked~label.sk-toggleable__label-arrow:before {content: \"▾\";}#sk-container-id-25 div.sk-estimator input.sk-toggleable__control:checked~label.sk-toggleable__label {background-color: #d4ebff;}#sk-container-id-25 div.sk-label input.sk-toggleable__control:checked~label.sk-toggleable__label {background-color: #d4ebff;}#sk-container-id-25 input.sk-hidden--visually {border: 0;clip: rect(1px 1px 1px 1px);clip: rect(1px, 1px, 1px, 1px);height: 1px;margin: -1px;overflow: hidden;padding: 0;position: absolute;width: 1px;}#sk-container-id-25 div.sk-estimator {font-family: monospace;background-color: #f0f8ff;border: 1px dotted black;border-radius: 0.25em;box-sizing: border-box;margin-bottom: 0.5em;}#sk-container-id-25 div.sk-estimator:hover {background-color: #d4ebff;}#sk-container-id-25 div.sk-parallel-item::after {content: \"\";width: 100%;border-bottom: 1px solid gray;flex-grow: 1;}#sk-container-id-25 div.sk-label:hover label.sk-toggleable__label {background-color: #d4ebff;}#sk-container-id-25 div.sk-serial::before {content: \"\";position: absolute;border-left: 1px solid gray;box-sizing: border-box;top: 0;bottom: 0;left: 50%;z-index: 0;}#sk-container-id-25 div.sk-serial {display: flex;flex-direction: column;align-items: center;background-color: white;padding-right: 0.2em;padding-left: 0.2em;position: relative;}#sk-container-id-25 div.sk-item {position: relative;z-index: 1;}#sk-container-id-25 div.sk-parallel {display: flex;align-items: stretch;justify-content: center;background-color: white;position: relative;}#sk-container-id-25 div.sk-item::before, #sk-container-id-25 div.sk-parallel-item::before {content: \"\";position: absolute;border-left: 1px solid gray;box-sizing: border-box;top: 0;bottom: 0;left: 50%;z-index: -1;}#sk-container-id-25 div.sk-parallel-item {display: flex;flex-direction: column;z-index: 1;position: relative;background-color: white;}#sk-container-id-25 div.sk-parallel-item:first-child::after {align-self: flex-end;width: 50%;}#sk-container-id-25 div.sk-parallel-item:last-child::after {align-self: flex-start;width: 50%;}#sk-container-id-25 div.sk-parallel-item:only-child::after {width: 0;}#sk-container-id-25 div.sk-dashed-wrapped {border: 1px dashed gray;margin: 0 0.4em 0.5em 0.4em;box-sizing: border-box;padding-bottom: 0.4em;background-color: white;}#sk-container-id-25 div.sk-label label {font-family: monospace;font-weight: bold;display: inline-block;line-height: 1.2em;}#sk-container-id-25 div.sk-label-container {text-align: center;}#sk-container-id-25 div.sk-container {/* jupyter's `normalize.less` sets `[hidden] { display: none; }` but bootstrap.min.css set `[hidden] { display: none !important; }` so we also need the `!important` here to be able to override the default hidden behavior on the sphinx rendered scikit-learn.org. See: https://github.com/scikit-learn/scikit-learn/issues/21755 */display: inline-block !important;position: relative;}#sk-container-id-25 div.sk-text-repr-fallback {display: none;}</style><div id=\"sk-container-id-25\" class=\"sk-top-container\"><div class=\"sk-text-repr-fallback\"><pre>LogisticRegression(max_iter=1000)</pre><b>In a Jupyter environment, please rerun this cell to show the HTML representation or trust the notebook. <br />On GitHub, the HTML representation is unable to render, please try loading this page with nbviewer.org.</b></div><div class=\"sk-container\" hidden><div class=\"sk-item\"><div class=\"sk-estimator sk-toggleable\"><input class=\"sk-toggleable__control sk-hidden--visually\" id=\"sk-estimator-id-25\" type=\"checkbox\" checked><label for=\"sk-estimator-id-25\" class=\"sk-toggleable__label sk-toggleable__label-arrow\">LogisticRegression</label><div class=\"sk-toggleable__content\"><pre>LogisticRegression(max_iter=1000)</pre></div></div></div></div></div>"
            ]
          },
          "metadata": {},
          "execution_count": 108
        }
      ]
    },
    {
      "cell_type": "code",
      "source": [
        "# Get the predictions on the test set\n",
        "prediction = classifier.predict(Xtest)\n",
        "\n",
        "# Calculate the total number of errors on the test set\n",
        "errors = 0\n",
        "for index in range(0,len(prediction) - 1):\n",
        "\tif prediction[index] != Ytest[index]:\n",
        "\t\terrors += 1\n",
        "\n",
        "print(\"Total errors on the test dataset\")\n",
        "print(errors)"
      ],
      "metadata": {
        "colab": {
          "base_uri": "https://localhost:8080/"
        },
        "id": "IcYkxy1YNs2I",
        "outputId": "dc53a082-39e7-456d-bf1b-56f19350f278"
      },
      "execution_count": 109,
      "outputs": [
        {
          "output_type": "stream",
          "name": "stdout",
          "text": [
            "Total errors on the test dataset\n",
            "0\n"
          ]
        }
      ]
    },
    {
      "cell_type": "markdown",
      "metadata": {
        "id": "xRVRieelqVsA"
      },
      "source": [
        "<h4><b><i>Ερώτηση</i></b></h4>\n",
        "<p>Να εκτελέσετε παραπάνω τμήματα κώδικα με είσοδο τα αρχεία (a) <i><a href=\"https://raw.githubusercontent.com/nkostopoulos/StochasticsLabPublic/master/lab2/demo3a.csv\">demo3a.csv</a></i> και (b) <i>foo.csv</i>. Τι παρατηρείτε για την ακρίβεια του μοντέλου στις δύο περιπτώσεις; Δοκιμάστε και για την περίπτωση που κρατάμε (α) 1 και (β) 2 <i>κύριες συνιστώσες</i>. Τι παρατηρείτε;</p>"
      ]
    },
    {
      "cell_type": "markdown",
      "metadata": {
        "id": "gqPhHDExffku"
      },
      "source": [
        "<h3><b><i>Συμπληρωματικές Ερωτήσεις</i></b></h3>\n",
        "<ul>\n",
        "<li>Ποια είναι η χρησιμότητα του αλγορίθμου <b><i>PCA</i></b> ως προς τη δυνατότητα <i>οπτικοποίησης</i> (<i>visualization</i>) των δεδομένων του dataset;</li>\n",
        "<li>Ποια είναι η χρησιμότητα του αλγορίθμου <b><i>PCA</i></b> ως προς την ταχύτητα εκπαίδευσης του μοντέλου logistic regression; Να βασίσετε την απάντησή σας στα δύο παρακάτω τμήματα κώδικα.</li>\n",
        "</ul>"
      ]
    },
    {
      "cell_type": "markdown",
      "source": [
        "ΑΠΑΝΤΗΣΕΙΣ:\n"
      ],
      "metadata": {
        "id": "hBOeQ4t4bGgz"
      }
    },
    {
      "cell_type": "markdown",
      "source": [
        "i) Ο αλγόριθμος PCA  (Principal Component Analysis) είναι ένα ισχυρό εργαλείο για τη μείωση των διαστάσεων των δεδομένων και μπορεί να χρησιμοποιηθεί για τη δημιουργία μιας νέας σειράς χαρακτηριστικών (principal components) που αντιπροσωπεύουν τις κύριες κατευθύνσεις της μεγάλης διακύμανσης στα δεδμένα. Η χρησιμότητα του PCA στην οπτικοποίηση των δεδομένων προκύπτει από το γεγονός ότι μετά τη μείωση της διάστασης, είναι πιο εύκολο να αναπαραστήσουμε γραφικά τα δεδομένα σε έναν χαμηλότερης διάστασης χώρο.Ο αλγόριθμος επιτρέπει τη πιο αποτελεσματική οπτικοποίηση των δεδομένων."
      ],
      "metadata": {
        "id": "IxvivcLlczin"
      }
    },
    {
      "cell_type": "markdown",
      "source": [
        "ii)Γενικά,η χρησιμότητα του αλγορίθμου PCA ως προς την ταχύτητα εκπαίδευσης του μοντέλου logistic regression σχετίζεται με τη μείωση της διάστασης των δεδομένων.\n",
        "\n",
        "Κατά την εκπαίδευση ενός μοντέλου logistic regression, το πρόβλημα της αύξησης της διάστασης των δεδομένων (όταν έχουμε πολλά χαρακτηριστικά) μπορεί να οδηγήσει σε μεγάλο χρόνο εκπαίδευσης και σε προβλήματα υπερ-εκπαίδευσης (overfitting). Ο αλγόριθμος PCA μειώνει τη διάσταση των δεδομένων κρατώντας τη σημαντική πληροφορία και αφαιρώντας την περιττή, καθιστώντας έτσι την εκπαίδευση πιο γρήγορη.\n",
        "\n",
        "Συγκεκριμένα, οι βασικοί τρόποι μείωσης της διάστασης μέσω του PCA είναι η εύρεση των κύριων συνιστωσών (principal components) και η διατήρηση μόνο των κυριότερων αυτών συνιστωσών. Αυτό οδηγεί σε μια πιο αποδοτική αναπαράσταση των δεδομένων, καθώς το μοντέλο logistic regression εκπαιδεύεται σε ένα χώρο χαμηλότερης διάστασης, χωρίς να χάνεται σημαντική πληροφορία.\n",
        "\n",
        "Αυτό επιβεβαίωνεται και από την εκτέλεση του παραπάνω κώδικα στο αρχείο \"foo.csv\". Όταν εκτελούμε τον αλγόριθμο διατηρώντα όλες τις συνιστώσες, τα λάθη είναι 2. Όταν κρατάμε 2 συνιστώσες  1 συνιστώσα , δεν υπάρχει  λάθος. Χρησιμοποιώντας όλες τις συνιστώσες χρειάστηκε 8.1 ms, ενώ για μία κύρια συνιστώσα χρειάστηκε 6.61 ms."
      ],
      "metadata": {
        "id": "zgm203OOPaoV"
      }
    }
  ]
}