{
  "nbformat": 4,
  "nbformat_minor": 0,
  "metadata": {
    "colab": {
      "provenance": []
    },
    "kernelspec": {
      "name": "python3",
      "display_name": "Python 3"
    }
  },
  "cells": [
    {
      "cell_type": "markdown",
      "metadata": {
        "id": "Nn4LlotO0M7n"
      },
      "source": [
        "<b><h1>Bellman-Ford</h1></b>\n",
        "<p align=\"justify\">Δίνεται το παρακάτω σχήμα</p>\n",
        "<img src=\"https://raw.githubusercontent.com/nkostopoulos/StochasticsLabPublic/master/lab7/bellman-topology.png\"></img>"
      ]
    },
    {
      "cell_type": "markdown",
      "metadata": {
        "id": "3RKpzNxE1NeN"
      },
      "source": [
        "<b><h3>Ερωτήσεις</h3></b>\n",
        "<ul>\n",
        "<li>Να περιγράψετε, συνοπτικά, τη λειτουργία του αλγορίθμου <i>Bellman-Ford</i>.</li>\n",
        "<li>Να εφαρμόσετε τον αλγόριθμο <i>Bellman-Ford</i> στο γράφο του παραπάνω σχήματος για τις ακμές που συμβολίζονται με μαύρο χρώμα και συνεχή γραμμή. Ως πηγή του αλγορίθμου να θεωρήσετε το <b>AS #2</b>. Ποιο είναι το συνολικό κόστος της διαδρομής από το <b>AS #2</b> στο <b>AS #11</b>; Ποιο είναι το μονοπάτι του δέντρου <i>Bellman-Ford</i> από το <b>AS #2</b> στο <b>AS #11</b>;</li>\n",
        "<li>Το <b>AS #2</b> εξετάζει την προσθήκη μιας ζεύξης είτε με το <b>AS #4</b> ή με το <b>AS #1</b>. Οι ζεύξεις αυτές φαίνονται στον παραπάνω γράφο με μαύρες διακεκομμένες γραμμές. Γιατί πιστεύετε ότι χρειάζεται το <b>AS #2</b> την επιπλέον αυτή ζεύξη; Ποια από τις παραπάνω ζεύξεις θα πρέπει να προτιμήσει το <b>AS #2</b> για να είναι μικρότερο το κόστος της διαδρομής από το <b>AS #2</b> μέχρι το <b>AS #11;</b></li>\n",
        "<li>Προσθέστε την κατάλληλη ζεύξη, όπως την προσδιορίσατε στο προηγούμενο ερώτημα. Έστω ότι η ζεύξη <b>AS #2</b> – <b>AS #3</b> παθαίνει μια βλάβη. Ποιο είναι, τώρα, το κόστος της διαδρομής από το <b>AS #2</b> μέχρι το <b>AS #11</b>; Πόσο επιβαρύνθηκε σε σχέση με το δεύτερο ερώτημα;</li>\n",
        "<li>Έστω ότι αποκαθίσταται η βλάβη. Το <b>AS #12</b> προσφέρεται να ενώσει τα <b>AS #10</b> και <b>AS #11</b> απ’ ευθείας στο <b>AS #3</b>. Το <b>AS #12</b> μαζί με τις νέες ακμές που θα προστεθούν φαίνονται με κόκκινο χρώμα στον παραπάνω γράφο. Πόσο θα βελτιωθεί το συνολικό κόστος <b>AS #2</b> – <b>AS #11</b>; Το συγκεκριμένο ερώτημα προσπαθεί να προσομοιώσει τη λειτουργία του GR-IX. Τι είναι το GR-IX (<a href=\"https://gr-ix.gr\">site</a>) και ποιος είναι ο ρόλος του για το ελληνικό Internet;</li>\n",
        "</ul>\n",
        "<br>"
      ]
    },
    {
      "cell_type": "markdown",
      "source": [
        "Για την επίλυση της άσκησης θα χρησιμοποιήσετε την παρακάτω υλοποίηση του αλγορίθμου *Bellman Ford*:"
      ],
      "metadata": {
        "id": "jk1DW2XW6Fjh"
      }
    },
    {
      "cell_type": "code",
      "source": [
        "# Python3 program for Bellman-Ford's single source\n",
        "# shortest path algorithm.\n",
        "# From: https://github.com/arnab132/Bellman-Ford-Algorithm-Python/blob/main/bellman_ford.py\n",
        "\n",
        "# Class to represent a graph\n",
        "class Graph:\n",
        "\n",
        "\tdef __init__(self, vertices):\n",
        "\t\tself.V = vertices # No. of vertices\n",
        "\t\tself.graph = []\n",
        "\n",
        "\t# function to add an edge to graph\n",
        "\tdef addEdge(self, u, v, w):\n",
        "\t\tself.graph.append([u, v, w])\n",
        "\t\tself.graph.append([v, u, w])\n",
        "\n",
        "\t# utility function used to print the solution\n",
        "\tdef printArr(self, dist):\n",
        "\t\tprint(\"Vertex Distance from Source\")\n",
        "\t\tfor i in range(self.V):\n",
        "\t\t\tprint(\"{0}\\t\\t{1}\".format(i, dist[i]))\n",
        "\n",
        "\t# The main function that finds shortest distances from src to\n",
        "\t# all other vertices using Bellman-Ford algorithm. The function\n",
        "\t# also detects negative weight cycle\n",
        "\tdef BellmanFord(self, src):\n",
        "\n",
        "\t\t# Step 1: Initialize distances from src to all other vertices\n",
        "\t\t# as INFINITE\n",
        "\t\tdist = [float(\"Inf\")] * self.V\n",
        "\t\tdist[src] = 0\n",
        "\n",
        "\n",
        "\t\t# Step 2: Relax all edges |V| - 1 times. A simple shortest\n",
        "\t\t# path from src to any other vertex can have at-most |V| - 1\n",
        "\t\t# edges\n",
        "\t\tfor _ in range(self.V - 1):\n",
        "\t\t\t# Update dist value and parent index of the adjacent vertices of\n",
        "\t\t\t# the picked vertex. Consider only those vertices which are still in\n",
        "\t\t\t# queue\n",
        "\t\t\tfor u, v, w in self.graph:\n",
        "\t\t\t\tif dist[u] != float(\"Inf\") and dist[u] + w < dist[v]:\n",
        "\t\t\t\t\t\tdist[v] = dist[u] + w\n",
        "\n",
        "\t\t# Step 3: check for negative-weight cycles. The above step\n",
        "\t\t# guarantees shortest distances if graph doesn't contain\n",
        "\t\t# negative weight cycle. If we get a shorter path, then there\n",
        "\t\t# is a cycle.\n",
        "\n",
        "\t\tfor u, v, w in self.graph:\n",
        "\t\t\t\tif dist[u] != float(\"Inf\") and dist[u] + w < dist[v]:\n",
        "\t\t\t\t\t\tprint(\"Graph contains negative weight cycle\")\n",
        "\t\t\t\t\t\treturn\n",
        "\n",
        "\t\t# print all distance\n",
        "\t\tself.printArr(dist)"
      ],
      "metadata": {
        "id": "dDKLT5fp6Ldo"
      },
      "execution_count": 1,
      "outputs": []
    },
    {
      "cell_type": "markdown",
      "source": [
        "Ένα παράδειγμα ορισμού γράφου για να ξεκινήσετε είναι το παρακάτω (προσοχή στην αρίθμηση των κόμβων):"
      ],
      "metadata": {
        "id": "vh4OFr_S6hzj"
      }
    },
    {
      "cell_type": "code",
      "source": [
        "g = Graph(14) # number of nodes (Must include node 0)\n",
        "g.addEdge(0,2,0)\n",
        "g.addEdge(2, 3, 4)\n",
        "g.addEdge(1, 3, 4)\n",
        "g.addEdge(3, 5, 2)\n",
        "g.addEdge(4, 5, 20)\n",
        "g.addEdge(5, 6, 5)\n",
        "g.addEdge(5, 7, 2)\n",
        "g.addEdge(6, 7, 4)\n",
        "g.addEdge(7, 8, 3)\n",
        "g.addEdge(8, 13, 4)\n",
        "g.addEdge(8, 9, 7)\n",
        "g.addEdge(9,10,3)\n",
        "g.addEdge(9,11,4)\n",
        "\n",
        "# Print the solution\n",
        "g.BellmanFord(0)\n",
        "\n"
      ],
      "metadata": {
        "id": "B9cGi9Uh6opn",
        "outputId": "b6497d2b-77ce-482d-ae00-2df297b24d6d",
        "colab": {
          "base_uri": "https://localhost:8080/"
        }
      },
      "execution_count": 23,
      "outputs": [
        {
          "output_type": "stream",
          "name": "stdout",
          "text": [
            "Vertex Distance from Source\n",
            "0\t\t0\n",
            "1\t\t8\n",
            "2\t\t0\n",
            "3\t\t4\n",
            "4\t\t26\n",
            "5\t\t6\n",
            "6\t\t11\n",
            "7\t\t8\n",
            "8\t\t11\n",
            "9\t\t18\n",
            "10\t\t21\n",
            "11\t\t22\n",
            "12\t\tinf\n",
            "13\t\t15\n"
          ]
        }
      ]
    },
    {
      "cell_type": "markdown",
      "source": [
        "Υπόδειξη: Εάν θέλετε να διατηρήσετε την αρίθμηση των κόμβων όπως είναι στο σχήμα μπορείτε να προσθέσετε έναν κόμβο (κόμβος 0), ο οποίος θα απέχει από τον κόμβο 1 μηδενική απόσταση."
      ],
      "metadata": {
        "id": "jP5CvepO8K4w"
      }
    },
    {
      "cell_type": "markdown",
      "source": [
        "ΑΠΑΝΤΗΣΕΙΣ:"
      ],
      "metadata": {
        "id": "WvAxgKnlkfrB"
      }
    },
    {
      "cell_type": "markdown",
      "source": [
        "ΕΡΩΤΗΣΗ 1:\n",
        "\n",
        "Ο Bellman Ford είναι ένας αλγόριθμος που λειτουργεί σαν ένας άτυπος οδηγός που καθοδηγεί κάποιον στο να φτάσει από μία αρχική θέση σε μία τελική μέσω του συντομότερου μονοπατιού. Προφανώς, τα μονοπάτια μπορεί να είναι πάρα πολλά σε πλήθος και αυτό το γεγονός κάνει τη λειτουργία του Bellman Ford ιδιαίτερα κομβική. Για να μιλήσουμε στη γλώσσα της πληροφορικής, ο Bellman Ford είναι σαν ένα GPS για υπολογιστές που χρησιμοποιείται για να βρει το συντομότερο μονοπάτι από έναν κόμβο σε έναν άλλον, μέσα σε ένα δίκτυο. Ο αλγόριθμος μπορεί να χρησιμοποιηθεί σε γράφους που έχουν ή δεν έχουν βάρη. Επίσης, μπορεί να περιέχει αρνητικά βάρη.\n",
        "\n",
        "Η βασική αρχή του αλγορίθμου Bellman-Ford είναι ότι ξεκινά από ένα μόνο σημείο και υπολογίζει την απόσταση για κάθε πιθανό μονοπάτι που οδηγεί στον τελικό κόμβο. Η απόσταση είναι αρχικά άγνωστη και τη συμβολίζουμε με το σύμβολο του απείρου. Όσο προχωράει ο αλγόριθμος, τα μονοπάτια μικραίνουν όσον αφορά  το μήκος της απόστασης.Ο αλγόριθμος εξετάζει όλα τα μονοπάτια και ενημερώνει κατάλληλα τις ετικέτες των μονοπατιών κάθε φορά που εντοπίζει μικρότερη απόσταση προς τον τελικό προορισμό. Όταν λέμε ετικέτα, ενοούμε το ένα label που περιέχει 2 τιμές. Η 1η τιμή είναι η απόσταση που έχει διανύσει ο αλγόριθμος από τον κόμβο εκκίνησης μέχρι τον εκάστοτε κόμβο και η 2η τιμή είναι ο τελευταίος κόμβος από τον οποίο μεταπηδήσαμε στον κόμβο που είμαστε τώρα.  "
      ],
      "metadata": {
        "id": "T4Qtgqwjke-1"
      }
    },
    {
      "cell_type": "markdown",
      "source": [
        "ΕΡΩΤΗΣΗ 2"
      ],
      "metadata": {
        "id": "7u7qhXZ_34tk"
      }
    },
    {
      "cell_type": "code",
      "source": [
        "g = Graph(14) # number of nodes (Must include node 0)\n",
        "g.addEdge(0,2,0)\n",
        "g.addEdge(2, 3, 4)\n",
        "g.addEdge(1, 3, 4)\n",
        "g.addEdge(3, 5, 2)\n",
        "g.addEdge(4, 5, 20)\n",
        "g.addEdge(5, 6, 5)\n",
        "g.addEdge(5, 7, 2)\n",
        "g.addEdge(6, 7, 4)\n",
        "g.addEdge(7, 8, 3)\n",
        "g.addEdge(8, 13, 4)\n",
        "g.addEdge(8, 9, 7)\n",
        "g.addEdge(9,10,3)\n",
        "g.addEdge(9,11,4)\n",
        "\n",
        "# Print the solution\n",
        "g.BellmanFord(0)\n"
      ],
      "metadata": {
        "colab": {
          "base_uri": "https://localhost:8080/"
        },
        "id": "euuOLl3l39og",
        "outputId": "684fc5fb-2bf3-46a8-c9b8-4b54e1dcdc28"
      },
      "execution_count": 22,
      "outputs": [
        {
          "output_type": "stream",
          "name": "stdout",
          "text": [
            "Vertex Distance from Source\n",
            "0\t\t0\n",
            "1\t\t8\n",
            "2\t\t0\n",
            "3\t\t4\n",
            "4\t\t26\n",
            "5\t\t6\n",
            "6\t\t11\n",
            "7\t\t8\n",
            "8\t\t11\n",
            "9\t\t18\n",
            "10\t\t21\n",
            "11\t\t22\n",
            "12\t\tinf\n",
            "13\t\t15\n"
          ]
        }
      ]
    },
    {
      "cell_type": "markdown",
      "source": [
        "Με βάση το παραπάνω διάγραμμα και δεδομένου ότι το μονοπάτι που πρεπεί να ακολουθήσουμε στο γράφο είναι για τις ακμές που συμβολίζονται με μαύρο χρώμα και συνεχή γραμμή, έχουμε ότι:\n",
        "\n",
        "Ξεκινάμε από το κόμβο 2, έπειτα από υπόδειξη της άσκησης.Η μοναδική επιλογή που έχουμε, είναι να μεταβούμε στο κόμβο 3, με κόστος +4.Από το κόμβο 3, μπορούμε να μεταβούμε είτε στο κόμβο 1 είτε στο κόμβο 5. Ωστόσο, αν μεταβούμε στον κόμβο 1 θα οδηγηθούμε σε αδιέξοδο. Συνεπώς, επιλέγουμε τον κόμβο 5, με κόστος +2. Από τον κόμβο μπορούμε να μεταβούμε στους κόμβους 4,6,7. Η καλύτερη επιλογή είναι ο κόμβος 7, με κόστος +2. Από το κόμβο 7, μεταβαίνουμε στο κόμβο 8, με κόστος +3. Από τον κόμβο 8, μπορώ να μεταβώ είτε στο κόμβο 9 είτε στο κόμβο 13. Η καλύτερη επιλογή είναι ο κόμβος 9, με κόστος +7. Από το κομβό 9, μεταβαίνουμε με κόστος +4, στο κόμβο 11, που είναι και ο τελικός μας πρροορισμός.\n",
        "\n",
        "Συνεπώς, το μονοπάτι που οδηγεί από την πηγή στον τελικό πρροορισμό, με τη χρήση του Bellman Ford είναι:\n",
        "\n",
        "AS#2-AS#3-AS#5-AS#7-AS#8-AS#9-AS#11\n",
        "\n",
        "και έχει κόστος: (4+2+2+3+7+4)=22"
      ],
      "metadata": {
        "id": "ll3JC9kac5FN"
      }
    },
    {
      "cell_type": "markdown",
      "source": [
        "ΕΡΩΤΗΣΗ 3"
      ],
      "metadata": {
        "id": "6b5AIfoV3Kqs"
      }
    },
    {
      "cell_type": "code",
      "source": [
        "g = Graph(14) # number of nodes (Must include node 0)\n",
        "g.addEdge(0,2,0)\n",
        "g.addEdge(2, 3, 4)\n",
        "g.addEdge(2, 4, 4)\n",
        "g.addEdge(2, 1, 10)\n",
        "g.addEdge(1, 3, 4)\n",
        "g.addEdge(3, 5, 2)\n",
        "g.addEdge(4, 5, 20)\n",
        "g.addEdge(5, 6, 5)\n",
        "g.addEdge(5, 7, 2)\n",
        "g.addEdge(6, 7, 4)\n",
        "g.addEdge(7, 8, 3)\n",
        "g.addEdge(8, 13, 4)\n",
        "g.addEdge(8, 9, 7)\n",
        "g.addEdge(9,10,3)\n",
        "g.addEdge(9,11,4)\n",
        "\n",
        "# Print the solution\n",
        "g.BellmanFord(0)"
      ],
      "metadata": {
        "colab": {
          "base_uri": "https://localhost:8080/"
        },
        "id": "bA63Yj8p2zSR",
        "outputId": "3580be5e-7588-430a-fefa-438679103362"
      },
      "execution_count": 18,
      "outputs": [
        {
          "output_type": "stream",
          "name": "stdout",
          "text": [
            "Vertex Distance from Source\n",
            "0\t\t0\n",
            "1\t\t8\n",
            "2\t\t0\n",
            "3\t\t4\n",
            "4\t\t4\n",
            "5\t\t6\n",
            "6\t\t11\n",
            "7\t\t8\n",
            "8\t\t11\n",
            "9\t\t18\n",
            "10\t\t21\n",
            "11\t\t22\n",
            "12\t\tinf\n",
            "13\t\t15\n"
          ]
        }
      ]
    },
    {
      "cell_type": "markdown",
      "source": [
        "Το γεγονός ότι ο κόμβος πηγής (εκκίνησης), δηλαδή ο κόμβος 2, συνδέεται μόνο με έναν κόμβο (τον κόμβο 3), καθιστά το γράφο μας σε επιφυλακή, διότι αν συμβεί βλάβη στη σύνδεση του κόμβου 2 και του κόμβου 3, ο κόμβος πηγής αποκόπτεται από τον υπόλοιπο γράφο. Όπως είναι εύκολα αντιληπτό, κάτι τέτοιο θα ήταν καταστροφικό. Συνεπώς, χρειαζόμαστε επιπλέον σύνδεση του κόμβου πηγής με τον υπόλοιπο γράφο.\n",
        "\n",
        "Οι επιλογές μας είναι να δημιουργήσουμε την επιπλέον σύνδεση κόμβου 2 και κόμβου 4 ή κόμβου 2 και κόμβου 1. Η επιλογή μας θα γίνει με βάση ποιο μονοπάτι δίνει το μικρότερο κόστος.\n",
        "\n",
        "Διαλέγοντας την 1η περίπτωση, μεταβαίνουμε από την πηγή στο κόμβο 4, με κόστος +4, και από εκεί στο κόμβο 5, με κόστος +20. Δηλαδή συνολικό κόστος: 4+20=24.\n",
        "\n",
        "Διαλέγοντας την 2η περίπτωση, μεταβαίνουμε από την πηγή στο κόμβο 1, με κόστος +10. Από το κόμβο 1, μεταβαίνουμε στο κόμβο 3, με κόστος +4 και από εκεί στο κόμβο 5, με κόστος +2. Δηλαδή συνολικό κόστος: 10+4+2=16.\n",
        "\n",
        "Συνεπώς, η καλύτερη επιλογή δημιουργίας ζεύξης είναι εκείνη μεταξύ του κόμβου 2 και του κόμβου 1. Ούτως ή άλλως, το βελτιστο μονοπάτι δεν αλλάζει, αφού όπως δείξαμε και πριν, η διαδρομή 2-3-5, έχει κόστος 4+2=6 (από το κόμβο 5 και μετά, το μονοπάτι είναι ίδιο). 6<16<24"
      ],
      "metadata": {
        "id": "M47uKXqDinwj"
      }
    },
    {
      "cell_type": "markdown",
      "source": [
        "ΕΡΩΤΗΣΗ 4"
      ],
      "metadata": {
        "id": "sBdSfrHT3Pu7"
      }
    },
    {
      "cell_type": "code",
      "source": [
        "g = Graph(14) # number of nodes (Must include node 0)\n",
        "g.addEdge(0,2,0)\n",
        "g.addEdge(2, 4, 4)\n",
        "g.addEdge(2, 1, 10)\n",
        "g.addEdge(1, 3, 4)\n",
        "g.addEdge(3, 5, 2)\n",
        "g.addEdge(4, 5, 20)\n",
        "g.addEdge(5, 6, 5)\n",
        "g.addEdge(5, 7, 2)\n",
        "g.addEdge(6, 7, 4)\n",
        "g.addEdge(7, 8, 3)\n",
        "g.addEdge(8, 13, 4)\n",
        "g.addEdge(8, 9, 7)\n",
        "g.addEdge(9,10,3)\n",
        "g.addEdge(9,11,4)\n",
        "\n",
        "# Print the solution\n",
        "g.BellmanFord(0)"
      ],
      "metadata": {
        "colab": {
          "base_uri": "https://localhost:8080/"
        },
        "id": "Ettn46rB3GUF",
        "outputId": "e12197e2-64a5-48f0-897d-35ff78c5f9eb"
      },
      "execution_count": 19,
      "outputs": [
        {
          "output_type": "stream",
          "name": "stdout",
          "text": [
            "Vertex Distance from Source\n",
            "0\t\t0\n",
            "1\t\t10\n",
            "2\t\t0\n",
            "3\t\t14\n",
            "4\t\t4\n",
            "5\t\t16\n",
            "6\t\t21\n",
            "7\t\t18\n",
            "8\t\t21\n",
            "9\t\t28\n",
            "10\t\t31\n",
            "11\t\t32\n",
            "12\t\tinf\n",
            "13\t\t25\n"
          ]
        }
      ]
    },
    {
      "cell_type": "markdown",
      "source": [
        "Λόγω της βλάβης σύνδεσης μεταξύ του κόμβου 2 και του κόμβου 3,το μονοπάτι αλλάζει. Από τη πηγή μεταβαίνουμε στο κόμβο 1, με κόστος +10 και από εκεί μεταβαίνουμε στο κόμβο 3, με κόστος +4. Από εκεί και πέρα, η διαδρόμη είναι η ίδια όπως περιγράφτηκε στο ερώτημα 1. Δηλαδή, από το κόμβο 3, μεταβαίνουμε στο κόμβο 5, από τον 5 στον 7, από τον 7 στον 8, από τον 8 στον 9 και από τον 9 στον τελικό κόμβο, δηλαδή τον κόμβο 11.\n",
        "\n",
        "Η διαδρομή είναι: AS#2-AS#1-AS#3-AS#5-AS#7-AS#8-AS#9-AS#11\n",
        "\n",
        "Το συνολικό κόστος γίνεται: (10+4+2+2+3+7+4)=32. Δηλαδή, το συνολικό κόστος αυξήθηκε κατά 10.\n",
        "\n"
      ],
      "metadata": {
        "id": "cjUdyswWnpsj"
      }
    },
    {
      "cell_type": "markdown",
      "source": [
        "ΕΡΩΤΗΜΑ 5"
      ],
      "metadata": {
        "id": "4QUZ4SRX3XTa"
      }
    },
    {
      "cell_type": "code",
      "source": [
        "g = Graph(14) # number of nodes (Must include node 0)\n",
        "g.addEdge(0,2,0)\n",
        "g.addEdge(2, 3, 4)\n",
        "g.addEdge(2, 4, 4)\n",
        "g.addEdge(2, 1, 10)\n",
        "g.addEdge(1, 3, 4)\n",
        "g.addEdge(3, 5, 2)\n",
        "g.addEdge(4, 5, 20)\n",
        "g.addEdge(5, 6, 5)\n",
        "g.addEdge(5, 7, 2)\n",
        "g.addEdge(6, 7, 4)\n",
        "g.addEdge(7, 8, 3)\n",
        "g.addEdge(8, 13, 4)\n",
        "g.addEdge(8, 9, 7)\n",
        "g.addEdge(9,10,3)\n",
        "g.addEdge(9,11,4)\n",
        "g.addEdge(3,12,2)\n",
        "g.addEdge(12,10,2)\n",
        "g.addEdge(12,11,4)\n",
        "\n",
        "# Print the solution\n",
        "g.BellmanFord(0)"
      ],
      "metadata": {
        "colab": {
          "base_uri": "https://localhost:8080/"
        },
        "id": "RrhBKW3b3b-I",
        "outputId": "aa073d5e-0eb7-4d84-f8d5-cd442c4b34d2"
      },
      "execution_count": 21,
      "outputs": [
        {
          "output_type": "stream",
          "name": "stdout",
          "text": [
            "Vertex Distance from Source\n",
            "0\t\t0\n",
            "1\t\t8\n",
            "2\t\t0\n",
            "3\t\t4\n",
            "4\t\t4\n",
            "5\t\t6\n",
            "6\t\t11\n",
            "7\t\t8\n",
            "8\t\t11\n",
            "9\t\t11\n",
            "10\t\t8\n",
            "11\t\t10\n",
            "12\t\t6\n",
            "13\t\t15\n"
          ]
        }
      ]
    },
    {
      "cell_type": "markdown",
      "source": [
        "Αν αποκατασταθεί η βλάβη στον κόμβο 12, τότε το μονοπάτι μας θα βελτιωθεί σημαντικά. Συγκεκριμένα, μέσω αυτής της τροποίησης, όταν θα μεταβούμε στον κόμβο 3, θα έχουμε μία επιπλέον εναλλακτική. Η εναλλακτική αυτή, είναι ο κόμβος 12, με κόστος +2. Η μετάβαση από τον κόμβο 3 στον κόμβο 5, έχει το ίδιο κόστος με το να πάμε στο 12. Ωστόσο, από τον κόμβο 12, ο τελικός προορισμός γίνεται πολύ πιο άμεσος, καθώς από τον κόμβο 12, μπορούμε να μεταβούμε κατευθείαν στον κόμβο 11, με κόστος +4. Άρα, δημιουργείται νέο βέλτιστο μονοπάτι, το οποίο είναι το:\n",
        "\n",
        "AS#2-AS#3-AS#12-AS#11\n",
        "\n",
        "Το κόστος του μονοπατιού αυτού είναι: (4+2+4)=10. Συνεπώς, μιλάμε για ελάφρυνση 12 μονάδων.\n",
        "\n",
        "GR-IX\n",
        "\n",
        "Το GR-IX είναι ένα  ουδέτερο  και  ανεξάρτητο  Internet Exchange, αποστολή του οποίου είναι να  διευκολύνει την ανταλλαγή κίνησης στο Διαδίκτυο  και να  επιταχύνει την ανάπτυξη του Διαδικτύου στην Ελλάδα .\n",
        "\n",
        "Το GR-IX αποτελεί μια κρίσιμης σημασίας εθνική υποδομή Διαδικτύου καθώς διασυνδέει όλους τους μεγάλους παίκτες του Διαδικτύου στην Ελλάδα, όπως παρόχους υπηρεσιών Διαδικτύου, παρόχους περιεχομένου, παρόχους cloud κ.λπ.\n",
        "\n",
        "Το GR-IX έχει σημαντικά χρηματοοικονομικά, εμπορικά και τεχνικά οφέλη.\n",
        "\n",
        "Χρηματοοικονομικά οφέλη: Σημαντική μείωση του κόστους τηλεπικοινωνιών\n",
        "\n",
        "Εμπορικά οφέλη: Άμεση ανταλλαγή απόψεων, χωρίς ενδιάμεσους, με τους μεγαλύτερους παίκτες Διαδικτύου στην Ελλάδα.\n",
        "Βελτιωμένες επιχειρηματικές ευκαιρίες με άλλα μέλη του GR-IX μέσω της διαδικτυακής αγοράς GR-IX\n",
        "Ενισχύει τη θέση της αγοράς απέναντι στους προμηθευτές, τους πελάτες και τον ανταγωνισμό\n",
        "\n",
        "Τεχνικά οφέλη: Πιο αποτελεσματική, στιβαρή και σταθερή δρομολόγηση IP. Ανεξαρτησία πολιτικής δρομολόγησης.\n",
        "Άμεση ανταλλαγή απόψεων με παραγωγούς και καταναλωτές κίνησης IP. Αυξημένη ταχύτητα και χωρητικότητα. βελτιωμένη καθυστέρηση, jitter και απώλεια πακέτων.\n",
        "Ανθεκτικότητα σε διακοπές δικτύου και επιθέσεις DDoS. ευελιξία στον μετριασμό τους."
      ],
      "metadata": {
        "id": "xiI-G6oBtsl3"
      }
    }
  ]
}