{
  "nbformat": 4,
  "nbformat_minor": 0,
  "metadata": {
    "colab": {
      "provenance": []
    },
    "kernelspec": {
      "name": "python3",
      "display_name": "Python 3"
    }
  },
  "cells": [
    {
      "cell_type": "markdown",
      "metadata": {
        "id": "XLZdEbAy2jfr"
      },
      "source": [
        "<h1><b>Markov Decision Processes</h1></b>\n",
        "<p align=\"justify\">Στη συγκεκριμένη άσκηση θα μελετήσετε τους αλγορίθμους <i>Policy Iteration</i> και <i>Value Iteration</i>, καθώς και θα εξοικειωθείτε με βασικές έννοιες των <i>Markov Decision Processes</i>. Οι αλγόριθμοι <i>Policy Iteration</i> και <i>Value Iteration</i> είναι από τους βασικούς αλγορίθμους δυναμικού προγραμματισμού που χρησιμοποιούνται για την επίλυση της εξίσωσης <i>Bellman</i> σε <i>Markov Decision Processes</i>.</p>\n",
        "<p align=\"justify\">Το πρόβλημα που θα μελετήσετε είναι αυτό της παγωμένης λίμνης (Frozen Lake) με μέγεθος πλέγματος 8 x 8.</p>\n"
      ]
    },
    {
      "cell_type": "markdown",
      "metadata": {
        "id": "6VsUV229__zO"
      },
      "source": [
        "<h2><b>Εξοικείωση με τη βιβλιοθήκη <i>Gym</i></b></h2>"
      ]
    },
    {
      "cell_type": "code",
      "metadata": {
        "id": "OM8ivgOJAg_H",
        "colab": {
          "base_uri": "https://localhost:8080/"
        },
        "outputId": "2dafde7a-a495-4583-af6c-cf4ee31aee81"
      },
      "source": [
        "!pip install gymnasium\n",
        "import numpy as np\n",
        "import gymnasium as gym\n",
        "from gym import wrappers"
      ],
      "execution_count": null,
      "outputs": [
        {
          "output_type": "stream",
          "name": "stdout",
          "text": [
            "Collecting gymnasium\n",
            "  Downloading gymnasium-0.29.1-py3-none-any.whl (953 kB)\n",
            "\u001b[2K     \u001b[90m━━━━━━━━━━━━━━━━━━━━━━━━━━━━━━━━━━━━━━━━\u001b[0m \u001b[32m953.9/953.9 kB\u001b[0m \u001b[31m10.8 MB/s\u001b[0m eta \u001b[36m0:00:00\u001b[0m\n",
            "\u001b[?25hRequirement already satisfied: numpy>=1.21.0 in /usr/local/lib/python3.10/dist-packages (from gymnasium) (1.25.2)\n",
            "Requirement already satisfied: cloudpickle>=1.2.0 in /usr/local/lib/python3.10/dist-packages (from gymnasium) (2.2.1)\n",
            "Requirement already satisfied: typing-extensions>=4.3.0 in /usr/local/lib/python3.10/dist-packages (from gymnasium) (4.10.0)\n",
            "Collecting farama-notifications>=0.0.1 (from gymnasium)\n",
            "  Downloading Farama_Notifications-0.0.4-py3-none-any.whl (2.5 kB)\n",
            "Installing collected packages: farama-notifications, gymnasium\n",
            "Successfully installed farama-notifications-0.0.4 gymnasium-0.29.1\n"
          ]
        }
      ]
    },
    {
      "cell_type": "markdown",
      "metadata": {
        "id": "_puV3ugeAnbU"
      },
      "source": [
        "Με την παρακάτω εντολή, ορίζετε το πρόβλημα που θα μελετηθεί:"
      ]
    },
    {
      "cell_type": "code",
      "metadata": {
        "id": "Ep-MvIUCAxT8"
      },
      "source": [
        "env_name = 'FrozenLake-v1'\n",
        "env = gym.make(env_name, map_name='8x8', render_mode='rgb_array')"
      ],
      "execution_count": null,
      "outputs": []
    },
    {
      "cell_type": "markdown",
      "metadata": {
        "id": "uBKBXJDUBRUh"
      },
      "source": [
        "Με τις παρακάτω εντολές, θα επαναφέρετε τον Agent στην αρχική του θέση και θα οπτικοποιήσετε το πλέγμα και τη θέση του Agent"
      ]
    },
    {
      "cell_type": "code",
      "metadata": {
        "id": "p6lqbG9zBgdi",
        "colab": {
          "base_uri": "https://localhost:8080/",
          "height": 553
        },
        "outputId": "8e6ca973-5396-40a5-fe53-c097b5f6c33a"
      },
      "source": [
        "env.reset()\n",
        "env.render()"
      ],
      "execution_count": null,
      "outputs": [
        {
          "output_type": "execute_result",
          "data": {
            "text/plain": [
              "array([[[180, 200, 230],\n",
              "        [180, 200, 230],\n",
              "        [180, 200, 230],\n",
              "        ...,\n",
              "        [180, 200, 230],\n",
              "        [180, 200, 230],\n",
              "        [180, 200, 230]],\n",
              "\n",
              "       [[180, 200, 230],\n",
              "        [204, 230, 255],\n",
              "        [204, 230, 255],\n",
              "        ...,\n",
              "        [204, 230, 255],\n",
              "        [204, 230, 255],\n",
              "        [180, 200, 230]],\n",
              "\n",
              "       [[180, 200, 230],\n",
              "        [235, 245, 249],\n",
              "        [204, 230, 255],\n",
              "        ...,\n",
              "        [204, 230, 255],\n",
              "        [204, 230, 255],\n",
              "        [180, 200, 230]],\n",
              "\n",
              "       ...,\n",
              "\n",
              "       [[180, 200, 230],\n",
              "        [235, 245, 249],\n",
              "        [235, 245, 249],\n",
              "        ...,\n",
              "        [204, 230, 255],\n",
              "        [235, 245, 249],\n",
              "        [180, 200, 230]],\n",
              "\n",
              "       [[180, 200, 230],\n",
              "        [235, 245, 249],\n",
              "        [235, 245, 249],\n",
              "        ...,\n",
              "        [204, 230, 255],\n",
              "        [204, 230, 255],\n",
              "        [180, 200, 230]],\n",
              "\n",
              "       [[180, 200, 230],\n",
              "        [180, 200, 230],\n",
              "        [180, 200, 230],\n",
              "        ...,\n",
              "        [180, 200, 230],\n",
              "        [180, 200, 230],\n",
              "        [180, 200, 230]]], dtype=uint8)"
            ],
            "text/html": [
              "<style>\n",
              "      .ndarray_repr .ndarray_raw_data {\n",
              "        display: none;\n",
              "      }\n",
              "      .ndarray_repr.show_array .ndarray_raw_data {\n",
              "        display: block;\n",
              "      }\n",
              "      .ndarray_repr.show_array .ndarray_image_preview {\n",
              "        display: none;\n",
              "      }\n",
              "      </style>\n",
              "      <div id=\"id-773cd9a3-6b92-45ae-8be1-39f58f0f3003\" class=\"ndarray_repr\"><pre>ndarray (512, 512, 3) <button style=\"padding: 0 2px;\">show data</button></pre><img src=\"data:image/png;base64,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\" class=\"ndarray_image_preview\" /><pre class=\"ndarray_raw_data\">array([[[180, 200, 230],\n",
              "        [180, 200, 230],\n",
              "        [180, 200, 230],\n",
              "        ...,\n",
              "        [180, 200, 230],\n",
              "        [180, 200, 230],\n",
              "        [180, 200, 230]],\n",
              "\n",
              "       [[180, 200, 230],\n",
              "        [204, 230, 255],\n",
              "        [204, 230, 255],\n",
              "        ...,\n",
              "        [204, 230, 255],\n",
              "        [204, 230, 255],\n",
              "        [180, 200, 230]],\n",
              "\n",
              "       [[180, 200, 230],\n",
              "        [235, 245, 249],\n",
              "        [204, 230, 255],\n",
              "        ...,\n",
              "        [204, 230, 255],\n",
              "        [204, 230, 255],\n",
              "        [180, 200, 230]],\n",
              "\n",
              "       ...,\n",
              "\n",
              "       [[180, 200, 230],\n",
              "        [235, 245, 249],\n",
              "        [235, 245, 249],\n",
              "        ...,\n",
              "        [204, 230, 255],\n",
              "        [235, 245, 249],\n",
              "        [180, 200, 230]],\n",
              "\n",
              "       [[180, 200, 230],\n",
              "        [235, 245, 249],\n",
              "        [235, 245, 249],\n",
              "        ...,\n",
              "        [204, 230, 255],\n",
              "        [204, 230, 255],\n",
              "        [180, 200, 230]],\n",
              "\n",
              "       [[180, 200, 230],\n",
              "        [180, 200, 230],\n",
              "        [180, 200, 230],\n",
              "        ...,\n",
              "        [180, 200, 230],\n",
              "        [180, 200, 230],\n",
              "        [180, 200, 230]]], dtype=uint8)</pre></div><script>\n",
              "      (() => {\n",
              "      const titles = ['show data', 'hide data'];\n",
              "      let index = 0\n",
              "      document.querySelector('#id-773cd9a3-6b92-45ae-8be1-39f58f0f3003 button').onclick = (e) => {\n",
              "        document.querySelector('#id-773cd9a3-6b92-45ae-8be1-39f58f0f3003').classList.toggle('show_array');\n",
              "        index = (++index) % 2;\n",
              "        document.querySelector('#id-773cd9a3-6b92-45ae-8be1-39f58f0f3003 button').textContent = titles[index];\n",
              "        e.preventDefault();\n",
              "        e.stopPropagation();\n",
              "      }\n",
              "      })();\n",
              "    </script>"
            ]
          },
          "metadata": {},
          "execution_count": 14
        }
      ]
    },
    {
      "cell_type": "markdown",
      "metadata": {
        "id": "FX2res4JBlYb"
      },
      "source": [
        "Με τις παρακάτω εντολές, ορίζετε την επόμενη ενέργεια με τυχαίο τρόπο και ο Agent κάνει ένα βήμα."
      ]
    },
    {
      "cell_type": "code",
      "metadata": {
        "id": "Gq7q944YBx0Q",
        "colab": {
          "base_uri": "https://localhost:8080/",
          "height": 553
        },
        "outputId": "765d5b4f-08ee-4066-8a61-71d575a655ae"
      },
      "source": [
        "next_action = env.action_space.sample()\n",
        "env.step(next_action)\n",
        "env.render()"
      ],
      "execution_count": null,
      "outputs": [
        {
          "output_type": "execute_result",
          "data": {
            "text/plain": [
              "array([[[180, 200, 230],\n",
              "        [180, 200, 230],\n",
              "        [180, 200, 230],\n",
              "        ...,\n",
              "        [180, 200, 230],\n",
              "        [180, 200, 230],\n",
              "        [180, 200, 230]],\n",
              "\n",
              "       [[180, 200, 230],\n",
              "        [204, 230, 255],\n",
              "        [204, 230, 255],\n",
              "        ...,\n",
              "        [204, 230, 255],\n",
              "        [204, 230, 255],\n",
              "        [180, 200, 230]],\n",
              "\n",
              "       [[180, 200, 230],\n",
              "        [235, 245, 249],\n",
              "        [204, 230, 255],\n",
              "        ...,\n",
              "        [204, 230, 255],\n",
              "        [204, 230, 255],\n",
              "        [180, 200, 230]],\n",
              "\n",
              "       ...,\n",
              "\n",
              "       [[180, 200, 230],\n",
              "        [235, 245, 249],\n",
              "        [235, 245, 249],\n",
              "        ...,\n",
              "        [204, 230, 255],\n",
              "        [235, 245, 249],\n",
              "        [180, 200, 230]],\n",
              "\n",
              "       [[180, 200, 230],\n",
              "        [235, 245, 249],\n",
              "        [235, 245, 249],\n",
              "        ...,\n",
              "        [204, 230, 255],\n",
              "        [204, 230, 255],\n",
              "        [180, 200, 230]],\n",
              "\n",
              "       [[180, 200, 230],\n",
              "        [180, 200, 230],\n",
              "        [180, 200, 230],\n",
              "        ...,\n",
              "        [180, 200, 230],\n",
              "        [180, 200, 230],\n",
              "        [180, 200, 230]]], dtype=uint8)"
            ],
            "text/html": [
              "<style>\n",
              "      .ndarray_repr .ndarray_raw_data {\n",
              "        display: none;\n",
              "      }\n",
              "      .ndarray_repr.show_array .ndarray_raw_data {\n",
              "        display: block;\n",
              "      }\n",
              "      .ndarray_repr.show_array .ndarray_image_preview {\n",
              "        display: none;\n",
              "      }\n",
              "      </style>\n",
              "      <div id=\"id-45913752-03fa-41c5-99d4-cce1dfa16730\" class=\"ndarray_repr\"><pre>ndarray (512, 512, 3) <button style=\"padding: 0 2px;\">show data</button></pre><img src=\"data:image/png;base64,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\" class=\"ndarray_image_preview\" /><pre class=\"ndarray_raw_data\">array([[[180, 200, 230],\n",
              "        [180, 200, 230],\n",
              "        [180, 200, 230],\n",
              "        ...,\n",
              "        [180, 200, 230],\n",
              "        [180, 200, 230],\n",
              "        [180, 200, 230]],\n",
              "\n",
              "       [[180, 200, 230],\n",
              "        [204, 230, 255],\n",
              "        [204, 230, 255],\n",
              "        ...,\n",
              "        [204, 230, 255],\n",
              "        [204, 230, 255],\n",
              "        [180, 200, 230]],\n",
              "\n",
              "       [[180, 200, 230],\n",
              "        [235, 245, 249],\n",
              "        [204, 230, 255],\n",
              "        ...,\n",
              "        [204, 230, 255],\n",
              "        [204, 230, 255],\n",
              "        [180, 200, 230]],\n",
              "\n",
              "       ...,\n",
              "\n",
              "       [[180, 200, 230],\n",
              "        [235, 245, 249],\n",
              "        [235, 245, 249],\n",
              "        ...,\n",
              "        [204, 230, 255],\n",
              "        [235, 245, 249],\n",
              "        [180, 200, 230]],\n",
              "\n",
              "       [[180, 200, 230],\n",
              "        [235, 245, 249],\n",
              "        [235, 245, 249],\n",
              "        ...,\n",
              "        [204, 230, 255],\n",
              "        [204, 230, 255],\n",
              "        [180, 200, 230]],\n",
              "\n",
              "       [[180, 200, 230],\n",
              "        [180, 200, 230],\n",
              "        [180, 200, 230],\n",
              "        ...,\n",
              "        [180, 200, 230],\n",
              "        [180, 200, 230],\n",
              "        [180, 200, 230]]], dtype=uint8)</pre></div><script>\n",
              "      (() => {\n",
              "      const titles = ['show data', 'hide data'];\n",
              "      let index = 0\n",
              "      document.querySelector('#id-45913752-03fa-41c5-99d4-cce1dfa16730 button').onclick = (e) => {\n",
              "        document.querySelector('#id-45913752-03fa-41c5-99d4-cce1dfa16730').classList.toggle('show_array');\n",
              "        index = (++index) % 2;\n",
              "        document.querySelector('#id-45913752-03fa-41c5-99d4-cce1dfa16730 button').textContent = titles[index];\n",
              "        e.preventDefault();\n",
              "        e.stopPropagation();\n",
              "      }\n",
              "      })();\n",
              "    </script>"
            ]
          },
          "metadata": {},
          "execution_count": 15
        }
      ]
    },
    {
      "cell_type": "markdown",
      "metadata": {
        "id": "mV4A7lsLB54y"
      },
      "source": [
        "Να εκτελέσετε αρκετές φορές τις τελευταίες εντολές και να παρατηρήσετε κάθε φορά την ενέργεια που ζητείται από τον agent να εκτελέσει και την ενέργεια που αυτός πραγματοποιεί. Πραγματοποιεί πάντοτε ο agent την κίνηση που του ζητείται; Είναι ντετερμινιστικές ή στοχαστικές οι κινήσεις του agent;"
      ]
    },
    {
      "cell_type": "markdown",
      "source": [
        "ΑΠΑΝΤΗΣΗ:"
      ],
      "metadata": {
        "id": "7kwimFZEtZ94"
      }
    },
    {
      "cell_type": "markdown",
      "source": [
        "Εκτελώντας τις τελευταίες εντολές αρκετές φορές διαπιστώνω, ότι ο agent βρίσκεται κάθε φορά σε διαφορετική θέση-κελί. Ο agent εκτελεί διαφορετική κίνηση από αυτή που του ζητείται. Αυτό συμβαίνει διότι οι κινήσεις που κάνει ο agent είναι ντετερμινιστικές. Αυτό σημαίνει ότι έχουν προκαθορισμένη, σταθερή συμπεριφορά και δεν υπάρχει τυχαιότητα στο αποτέλεσμά τους."
      ],
      "metadata": {
        "id": "SexhjhVRo6HI"
      }
    },
    {
      "cell_type": "markdown",
      "metadata": {
        "id": "PAL4we3gDV_J"
      },
      "source": [
        "<h2><b>Ερωτήσεις</b></h2>"
      ]
    },
    {
      "cell_type": "markdown",
      "metadata": {
        "id": "zQKm4VAUChi1"
      },
      "source": [
        "<ul>\n",
        "<li>Μελετώντας <a href=\"https://towardsdatascience.com/q-learning-for-beginners-2837b777741\">αυτό</a> και βασισμένοι στα συμπεράσματα του προηγούμενου ερωτήματος να περιγράψετε σύντομα το πρόβλημα της παγωμένης λίμνης ως πρόβλημα βελτιστοποίησης. Ποιος είναι ο στόχος του agent;</li>\n",
        "<li>Να διατυπώσετε την ιδιότητα <i>Markov</i>. Πώς απλοποιεί η ιδιότητα αυτή τη μελέτη του συγκεκριμένου προβλήματος;</li>\n",
        "<li>Να περιγράψετε σύντομα τους αλγορίθμους <i>Policy Iteration</i> και <i>Value Iteration</i>, δίνοντας έμφαση στο διαφορετικό τρόπο με τον οποίο προσεγγίζουν την επίλυση του προβλήματος. Είναι εγγυημένο ότι οι δύο αλγόριθμοι θα συγκλίνουν στη βέλτιστη πολιτική; Αν ναι, οδηγούν σε ίδια ή διαφορετική βέλτιστη πολιτική;</li>\n",
        "<li>Να εκτελέσετε τα προγράμματα που σας δίνονται, τα οποία επιλύουν το\n",
        "πρόβλημα της παγωμένης λίμνης, χρησιμοποιώντας τους αλγορίθμους <i>Policy\n",
        "Iteration</i> και <i>Value Iteration</i> αντίστοιχα. Ποια μέθοδος συγκλίνει στη βέλτιστη λύση σε λιγότερα βήματα; Τι συμπέρασμα βγάζετε; Να ελέγξετε το χρόνο εκτέλεσης του κάθε προγράμματος, χρησιμοποιώντας την εντολή <i>time</i>. Τι συμπέρασμα βγάζετε ως προς την πολυπλοκότητα του κάθε αλγορίθμου;</li>\n",
        "</ul>"
      ]
    },
    {
      "cell_type": "markdown",
      "source": [
        "ΑΠΑΝΤΗΣΕΙΣ:"
      ],
      "metadata": {
        "id": "y7WzEuuHSNSP"
      }
    },
    {
      "cell_type": "markdown",
      "source": [
        "i) Το πρόβλημα της παγωμένης λίμνης (frozen lake) είναι ένα διαδεδομένο πρόβλημα στον τομέα της μηχανικής μάθησης και συγκεκριμένα στην εναλλακτική προσέγγιση της ενισχυτικής μάθησης. Στο πρόβλημα αυτό, ένας αλγόριθμος πρέπει να μάθει να κατευθύνει ένα παίκτη(agent) που περιπλανιέται σε μία παγωμένη λίμνη , ώστε να φτάσει από ένα αρχικό σημείο σε ένα συγκεκριμένο σημείο-στόχο, αποφεύγοντας παγίδες  στο δρόμο του.\n",
        "\n",
        "Η κύρια πρόκληση σε αυτό το πρόβλημα είναι η εύρεση μιας στρατηγικής που θα επιτρέπει στον παίκτη (agent) να φτάσει στο στόχο του με το μεγαλύτερο πιθανό ποσοστό επιτύχιας, αποφεύγοντας παράλληλα τις παγίδες. Αυτό σημαίνει σωστή αξιολόγηση της απόδοσης και εκπαίδευση ενός μοντέλου πολιτικής που θα οδηγεί σε καλή λήψη αποφάσεων.\n",
        "\n",
        "Στη πράξη, το Frozen Lake είναι ένα απλό περιβάλλον που αποτελείται από πλακίδια, όπου η τεχνητή νοημοσύνη πρέπει να μετακινηθεί από ένα αρχικό πλακίδιο σε έναν στόχο. Είναι ένα πλέγμα 8Χ8, άρα 64 πλακίδια, όπου κάθε κελί είναι είτε ένα αρχικό κελί (S), είτε ένα παγωμένο κελί (F) που υποδεικνύει μία ασφαλή θέση , είτε μία τρύπα (H) που πρέπει να αποφευχθεί ή ο στόχος (G) που πρέπει να επιτευχθεί. Οποιοσδήποτε πράκτορας ξεκινά από το S και πρέπει να βρει το δρόμο του προς το G μέσω του F αποφεύγοντας το H. Οι ενέργειες του πράκτορα καταλήγουν σε ντετερμινιστικές μεταβάσεις, δηλαδή έχουν προκαθορισμένη, σταθερή συμπεριφορά και δεν υπάρχει τυχαιότητα στο αποτέλεσμά τους.Η ανταμοιβή είναι 1 αν φτάσουμε στο G, διαφορετικά 0.\n",
        "\n",
        "Αν ο πράκτορας  φτάσει στο G ή πέσει σε μία από τις τρύπες, απλώς τοποθετείται στην αρχική θέση για άλλη μια φορά σαν να του έχει δοθεί μία δεύτερη ευκαιρία.  Αυτοί είναι απλώς οι νόμοι του περιβάλλοντος (environment). Η δραστηριότητα του πράκτορα (agent) οδηγεί τελικά σε τερματισμό και τέτοιες ενέργειες τις καλούμε επεισοδιακές (episodic). Σε αυτή τη περίπτωση, ένα επεισόδιο ξεκινάει όταν ο πράκτορας (agent) βρίσκεται σε κατάστσαση έναρξης που είναι δεδομένη και τελιώνει όταν ο πράκτορας φτάσει στο στόχο ή πέσει στην τρύπα . Σε αντίθεση, με τις επεισοδιακές ενέργειες , μπορεί να υπάρξει περιβάλλον, όπου πραγματικά δεν υπάρχει τέλος στις εργασίες και ο πράκτορας θα ζει για πάντα μεγιστωποιώντας την αναμενόμενη ανταμοιβή.\n",
        "\n",
        "Ο πράκτορας, έχει 4 πιθανές ενέργειες:να μεταβεί ΑΡΙΣΤΕΡΑ, ΚΑΤΩ, Δεξιά ή Πάνω. Ο πράκτορας πρέπει να μάθει να αποφεύγει τις τρύπες για να πετύχει τον στόχο με ελάχιστο αριθμό ενεργειών. Όταν ο πράκτορας μας βρίσκεται σε μια συγκεκριμένη κατάσταση s , πρέπει απλώς να ελέγξει αυτόν τον πίνακα για να δει ποια ενέργεια έχει την υψηλότερη τιμή. Ο  πράκτορας ανταμείβεται μόνο όταν φτάσει στην κατάσταση G.\n",
        "\n",
        "Στις παραπάνω παραγράφους, προσπάθησα να περιγράψω με το καλύτερο δυνατό τρόπο το πρόβλημα της παγωμένης λίμνης ως πρόβλημα βελτιστοποίησης. Τώρα, όσο αναφορά το στόχο του agent η απάντηση είναι η εξής:\n",
        "\n",
        "Στόχος του agent είναι να φτάσει από ένα αρχικό σημείο (S) στην άλλη πλευρά της λίμνης,στο  σημείο στόχου (G) αποφεύγοντας τις παγίδες που υπάρχουν στο δρόμο του (H). Ο agent πρέπει να μάθει μια πολιτική δράσης που να παρέχει τη μεγαλύτερη πιθανότητα επιτυχίας,λαμβάνοντας υπόψιν την αβεβαιότητα του περιβάλλοντος καθώς και την ανταμοιβή που λαμβάνει για κάθε ενέργεια που πραγματοποιεί. Έτσι προκύπτει το πρόβλημα αυτό, ως πρόβλημα βελτιστοποίησης.\n",
        "\n",
        "\n",
        "\n"
      ],
      "metadata": {
        "id": "TuYzcD3GSPZR"
      }
    },
    {
      "cell_type": "markdown",
      "source": [
        "ii)Η ιδιότητα Markov αναφέρεται σε μια ιδιότητα των διαδικασιών ή συστημάτων, η οποία ονομάζεται ιδιότητα Markovianτης ανεξαρτησίας από το παρελθόν. Συγκεκριμένα, η ιδιότητα Markov ορίζει ότι η μελλοντική κατάσταση ενός συστήματος εξαρτάται μόνο από την τρέχουσα κατάσταση του συστήματος και όχι από την ακολουθία των καταστάσεων που προηγήθηκαν.\n",
        "\n",
        "Συνοπτικά, μια διαδικασία ή ένα σύστημα με ιδιότητα Markov ικανοποιεί την ακόλουθη σχέση Markov:\n",
        "\n",
        "P(Xt+1=Χ | X0,X1,...,Xt)=P(Xt+1=x | Xt),\n",
        "\n",
        "\n",
        "\n",
        "Η ιδιότητα Markov σχετίζεται με διεργασίες τυχαίων μεταβλητών {Xn}\n",
        "στις οποίες η πιθανότητα μετάβασης στην k-οστή κατάσταση, Xk , είναι\n",
        "ανεξάρτητη όλων των καταστάσεων που έχουν προηγηθεί δεδομένης της Xk-1.\n",
        "\n",
        "Η ιδιότητας Markov απλοποιεί σημαντικά τη διαδικασία εκπαίδευσης του πράκτορα, καθώς αναγάγει το πρόβλημα στη μελέτη μιας πεπερασμένης Markov Decision Process (MDP). Τα MDP χρησιμοποιούνται για τη μοντελοποίηση ενός ευρύ φάσματος περιβαλλόντων που περιλαμβάνει διαδοχική λήψη αποφάσεων.Έτσι, μέσω τεχνικών δυναμικού προγραμματισμού,  το ευρύτερο πρόβλημα μπορεί να αναχθεί σε επιμέρους προβλήματα πολύ χαμηλότερης διάστασης που αφορούν κάθε φορά το αμέσως επόμενο βήμα του πράκτορα, δεδομένης της θέσης στην οποία κατέληξε από το αμέσως προηγούμενο."
      ],
      "metadata": {
        "id": "gpbp6Jvp76WO"
      }
    },
    {
      "cell_type": "markdown",
      "source": [
        "iii) Οι αλγόριθμοι Policy Iteration και Value Iteration είναι δύο δημοφιλείς αλγόριθμοι δυναμικού προγραμματισμού για την επίλυση προβλημάτων ενισχυτικής μάθησης , όπως το πρόβλημα της παγωμένης λίμνης. Και οι δύο αλγόριθμοι επιδιώκουν την εύρεση της βέλτιστης πολιτικής δράσης, αλλά χρησιμοποιούν διαφορετικές προσεγγίσεις για να το πετύχουν.\n",
        "\n",
        "Policy Iteration: Ξεκινάει με μία τυχαία πολιτική.Ο αλγόριθμος είναι πιο περίπλοκος αλλά είναι εγγυημένο ότι συγκλίνει. Έχει χαμηλότερο υπολογιστικό κόστος και απαιτεί λιγότερες επανάληψεις για να συγκλίνει. Είναι ταχύτερος.\n",
        "\n",
        "Με βάση τις σημειώσεις των διαφανειών, έχουμε ότι:\n",
        "\n",
        "Έστω χρονοσταθερή πολιτική π = {μ, μ, … } που οδηγεί σε αναμενόμενα costs-to-go (συνολικά κόστη) με αποφάσεις του agent 𝑎 = μ(𝑖) ∈ 𝒜.\n",
        "Για κάθε ζεύγος 𝑖, 𝑎 στο υπό εξέταση βήμα και πολιτική για τα υπολειπόμενα βήματα π = {μ, μ, … } ορίζω τους 𝑸-factors 𝑄 μ𝑖, 𝑎 σαν μέτρο κατάταξης εναλλακτικών άμεσων αποφάσεων 𝑎 ∈ 𝒜𝑖 του agent που θα οδηγούσαν το περιβάλλον από παρούσα κατάσταση 𝑖 σε κατάσταση 𝑗 με αναμενόμενα υπολειπόμενα costs-to-go. Ο αλγόριθμος συγκλίνει σε βέλτιστη πολιτική σε πεπερασμένα βήματα 𝑛 λόγω πεπερασμένου πλήθους καταστάσεων 𝑁 και πεπερασμένων επιλογών αποφάσεων.\n",
        "\n",
        "Value Iteration: Ξεκινάει με μία τυχαία τιμή συνάρτησης. Ο αλγόριθμος είναι απλούστερος και είναι εγγυημένο (σίγουρο) ότι συγκλίνει. Έχει πιο ακριβό υπολογιστικό κόστος και απαιτεί περισσότερες επαναλήψεις για να συγκλίνει . Εκτελείται πιο αργά απ΄ ότι ο Policy Iteration.\n",
        "\n",
        "Με βάση τις σημειώσεις των διαφανειών, έχουμε ότι:\n",
        "\n",
        "1. Εκκίνηση με αυθαίρετες τιμές\n",
        "2. Επαναλήψεις 𝑛 → 𝑛 + 1 μέχρι ανεκτή σύγκλιση (θεωρητικά 𝑛 → ∞) μέσω σχέσεων backup\n",
        "3. Τελικός υπολογισμός των βέλτιστων Costs-to-Go και  προσδιορισμός της βέλτιστης πολιτικής\n",
        "\n",
        "Συνοψίζοντας:\n",
        "\n",
        "Ο αλγόριθμος Value Iteration είναι ένας επαναληπτικός αλγόριθμος που στοχεύει στην εύρεση της βέλτιστης πολιτικής λαμβάνοντας υπόψη την τιμή (value) κάθε κατάστασης του προβλήματος.\n",
        "Ο αλγόριθμος εναλλάσσει την ανανέωση των τιμών των καταστάσεων με την επιλογή της βέλτιστης πολιτικής σε κάθε βήμα.\n",
        "Η ανανέωση των τιμών γίνεται μέσω της εφαρμογής της εξίσωσης της Bellman.\n",
        "Ο αλγόριθμος συνεχίζει την επανάληψη αυτή μέχρι οι τιμές να συγκλίνουν σε μια επιθυμητή ακρίβεια.\n",
        "\n",
        "\n",
        "Ο αλγόριθμος Policy Iteration είναι ένας αλγόριθμος που εναλλάσσει μεταξύ δύο βημάτων: α) ανανέωση της πολιτικής και β) ανανέωση των τιμών.\n",
        "Ξεκινάει με μια αρχική πολιτική και στη συνέχεια υπολογίζει τις τιμές των καταστάσεων με βάση αυτή την πολιτική.\n",
        "Στη συνέχεια, βελτιστοποιεί την πολιτική λαμβάνοντας υπόψη τις τιμές των καταστάσεων.\n",
        "Η διαδικασία επαναλαμβάνεται μέχρι η πολιτική να σταθεροποιηθεί και οι τιμές να συγκλίνουν.\n",
        "\n",
        "Και οι δύο αλγόριθμοι συγκλίνουν στη βέλτιστη πολιτική , όταν εφαρμόζονται σε ένα MDP (Markov Decision Process). Ακόμα, ο αλγόριθμος Policy Iteration συγκλίνει με λιγότερες επαναλήψεις. Συνεπώς, ο Policy Iteration συγκλίνει ταχύτερα από τον αλγόριθμο Value Iteration.\n",
        "\n",
        "Εφόσον οι πολιτικές προκύπτουν από τις αντίστοιχες value functions (πραγματικές τιμές) και η σύγκλιση των αλγορίθμων επέρχεται όταν οι προκύπτουσες value functions ικανοποιούν τις εξισώσεις Bellman (αλγόριθμος που οδηγεί στη βέλτιστη λύση), και οι δύο αλγόριθμοι αναμένεται να συγκλίνουν σε βέλτιστη πολιτική. Ενδέχεται, φυσικά, να μην υπάρχει μία βέλτιστη πολιτική - δηλαδή μία μόνο πολιτική που να οδηγεί στη μέγιστη τιμή της value function -, γεγονός το οποίο σημαίνει πως εν γένει οι δύο αλγόριθμοι μπορεί να συγκλίνουν σε διαφορετική πολιτική."
      ],
      "metadata": {
        "id": "Dhv5PvtMmWSt"
      }
    },
    {
      "cell_type": "markdown",
      "metadata": {
        "id": "S6mci5P4HJ_1"
      },
      "source": [
        "<h2><b>Policy Iteration</b></h2>"
      ]
    },
    {
      "cell_type": "code",
      "metadata": {
        "id": "_43MjfJ9G8v7",
        "colab": {
          "base_uri": "https://localhost:8080/"
        },
        "outputId": "bc390a65-9788-4fe3-84d4-218afb8083a7"
      },
      "source": [
        "%%time\n",
        "\"\"\"\n",
        "Solving FrozenLake8x8 environment using Policy iteration.\n",
        "Based on the implementation of Moustafa Alzantot (malzantot@ucla.edu)\n",
        "\"\"\"\n",
        "import numpy as np\n",
        "import gym\n",
        "from gym import wrappers\n",
        "\n",
        "\n",
        "def run_episode(env, policy, gamma = 1.0, render = False):\n",
        "    \"\"\" Runs an episode and return the total reward \"\"\"\n",
        "    obs = env.reset()\n",
        "    total_reward = 0\n",
        "    step_idx = 0\n",
        "    while True:\n",
        "        if render:\n",
        "            env.render()\n",
        "        obs, reward, done , _ , _= env.step(int(policy[obs]))\n",
        "        total_reward += (gamma ** step_idx * reward)\n",
        "        step_idx += 1\n",
        "        if done:\n",
        "            break\n",
        "    return total_reward\n",
        "\n",
        "\n",
        "def evaluate_policy(env, policy, gamma = 1.0, n = 100):\n",
        "    scores = [run_episode(env, policy, gamma, False) for _ in range(n)]\n",
        "    return np.mean(scores)\n",
        "\n",
        "def extract_policy(v, gamma = 1.0):\n",
        "    \"\"\" Extract the policy given a value-function \"\"\"\n",
        "    policy = np.zeros(env.observation_space.n) # Modified to use observation_space.n\n",
        "    for s in range(env.observation_space.n):   # Also modified here\n",
        "        q_sa = np.zeros(env.action_space.n)    # Using action_space.n\n",
        "        for a in range(env.action_space.n):\n",
        "            q_sa[a] = sum([p * (r + gamma * v[s_]) for p, s_, r, _ in  env.P[s][a]])\n",
        "        policy[s] = np.argmax(q_sa)\n",
        "    return policy\n",
        "\n",
        "def compute_policy_v(env, policy, gamma=1.0):\n",
        "    \"\"\" Iteratively evaluate the value-function under policy. \"\"\"\n",
        "    v = np.zeros(env.observation_space.n) # Modified to use observation_space.n\n",
        "    eps = 1e-10\n",
        "    while True:\n",
        "        prev_v = np.copy(v)\n",
        "        for s in range(env.observation_space.n): # Also modified here\n",
        "            policy_a = policy[s]\n",
        "            v[s] = sum([p * (r + gamma * prev_v[s_]) for p, s_, r, _ in env.P[s][policy_a]])\n",
        "        if (np.sum((np.fabs(prev_v - v))) <= eps):\n",
        "            # value converged\n",
        "            break\n",
        "    return v\n",
        "\n",
        "def policy_iteration(env, gamma = 1.0):\n",
        "    \"\"\" Policy-Iteration algorithm \"\"\"\n",
        "    # Using env.action_space.n for the number of actions\n",
        "    policy = np.random.choice(env.action_space.n, size=(env.observation_space.n))  # initialize a random policy\n",
        "    max_iterations = 200000\n",
        "    gamma = 1.0\n",
        "    for i in range(max_iterations):\n",
        "        old_policy_v = compute_policy_v(env, policy, gamma)\n",
        "        new_policy = extract_policy(old_policy_v, gamma)\n",
        "        if (np.all(policy == new_policy)):\n",
        "            print ('Policy-Iteration converged at step %d.' %(i+1))\n",
        "            break\n",
        "        policy = new_policy\n",
        "    return policy\n",
        "\n",
        "if __name__ == '__main__':\n",
        "    env_name  = 'FrozenLake8x8-v1'\n",
        "    env = gym.make(env_name)\n",
        "    env = env.unwrapped\n",
        "    optimal_policy = policy_iteration(env, gamma = 1.0)\n",
        "    scores = evaluate_policy(env, optimal_policy, gamma = 1.0)\n",
        "    print('Average scores = ', scores)  # Removed np.mean since evaluate_policy already returns the mean score"
      ],
      "execution_count": null,
      "outputs": [
        {
          "output_type": "stream",
          "name": "stderr",
          "text": [
            "/usr/local/lib/python3.10/dist-packages/gym/core.py:317: DeprecationWarning: \u001b[33mWARN: Initializing wrapper in old step API which returns one bool instead of two. It is recommended to set `new_step_api=True` to use new step API. This will be the default behaviour in future.\u001b[0m\n",
            "  deprecation(\n",
            "/usr/local/lib/python3.10/dist-packages/gym/wrappers/step_api_compatibility.py:39: DeprecationWarning: \u001b[33mWARN: Initializing environment in old step API which returns one bool instead of two. It is recommended to set `new_step_api=True` to use new step API. This will be the default behaviour in future.\u001b[0m\n",
            "  deprecation(\n"
          ]
        },
        {
          "output_type": "stream",
          "name": "stdout",
          "text": [
            "Policy-Iteration converged at step 5.\n",
            "Average scores =  1.0\n",
            "CPU times: user 1.34 s, sys: 20.5 ms, total: 1.36 s\n",
            "Wall time: 1.35 s\n"
          ]
        }
      ]
    },
    {
      "cell_type": "markdown",
      "source": [
        "iii) Με βάση τον παραπάνω κώδικα ο Policy Iteration μπορεί να περιγραφεί ως εξής:\n",
        "\n",
        "Αρχικά ορίζουμε τις συναρτήσεις:\n",
        "\n",
        "run_episode: Εκτελεί ένα επεισόδιο χρησιμοποιώντας μια δεδομένη πολιτική και επιστρέφει το συνολικό ανταμοιβή.\n",
        "\n",
        "evaluate_policy: Αξιολογεί μια πολιτική εκτελώντας πολλά επεισόδια και επιστρέφοντας το μέσο όρο των ανταμοιβών.\n",
        "\n",
        "extract_policy: Υπολογίζει την πολιτική από έναν δοσμένο value-function.\n",
        "\n",
        "compute_policy_v: Υπολογίζει τη value-function για μια δεδομένη πολιτική.\n",
        "\n",
        "policy_iteration: Υλοποιεί τον αλγόριθμο policy iteration.\n",
        "\n",
        "Ο Policy Iteration για την επίλυση του περιβάλλοντος FrozenLake8x8, ακολουθεί τα εξής βήματα:\n",
        "\n",
        "Αρχικοποιεί μια τυχαία πολιτική. Υπολογίζει τη value-function για αυτή την πολιτική. Υπολογίζει μια νέα πολιτική βασισμένη στην value-function.\n",
        "Αν η νέα πολιτική είναι η ίδια με την προηγούμενη, ο αλγόριθμος συγκλίνει.\n",
        "Αν όχι, η νέα πολιτική χρησιμοποιείται για να επαναληφθεί η διαδικασία.\n",
        "Τέλος, η τελική πολιτική αξιολογείται για να υπολογιστεί η μέση ανταμοιβή που επιτυγχάνεται με αυτήν την πολιτική.\n",
        "Τέλος, τυπώνει τη μέση ανταμοιβή που επιτυγχάνεται με την τελική βέλτιστη πολιτική."
      ],
      "metadata": {
        "id": "N67pKEMC7_Em"
      }
    },
    {
      "cell_type": "markdown",
      "metadata": {
        "id": "gcikBq6BHRQM"
      },
      "source": [
        "<h2><b>Value Iteration</b></h2>"
      ]
    },
    {
      "cell_type": "code",
      "metadata": {
        "id": "gHvcnTDcHGmH",
        "colab": {
          "base_uri": "https://localhost:8080/"
        },
        "outputId": "daa3aa43-a19c-4802-b673-265181cf7631"
      },
      "source": [
        "%%time\n",
        "\n",
        "\"\"\"\n",
        "Solving FrozenLake8x8 environment using Value-Itertion.\n",
        "Based on the implementation of Moustafa Alzantot (malzantot@ucla.edu)\n",
        "\"\"\"\n",
        "import numpy as np\n",
        "import gym\n",
        "from gym import wrappers\n",
        "\n",
        "\n",
        "def run_episode(env, policy, gamma=1.0, render=False):\n",
        "    \"\"\"Runs an episode and returns the total reward.\"\"\"\n",
        "    obs = env.reset()\n",
        "    total_reward = 0\n",
        "    step_idx = 0\n",
        "    while True:\n",
        "        if render:\n",
        "            env.render()\n",
        "        obs, reward, done, _ , _ = env.step(int(policy[obs]))\n",
        "        total_reward += (gamma ** step_idx * reward)\n",
        "        step_idx += 1\n",
        "        if done:\n",
        "            break\n",
        "    return total_reward\n",
        "\n",
        "def evaluate_policy(env, policy, gamma=1.0, n=100):\n",
        "    \"\"\"Evaluates a policy by running it n times.\"\"\"\n",
        "    scores = [run_episode(env, policy, gamma, False) for _ in range(n)]\n",
        "    return np.mean(scores)\n",
        "\n",
        "def extract_policy(v, gamma, env):\n",
        "    \"\"\"Extracts the policy given a value-function.\"\"\"\n",
        "    policy = np.zeros(env.observation_space.n, dtype=int)\n",
        "    for s in range(env.observation_space.n):\n",
        "        q_sa = np.zeros(env.action_space.n)\n",
        "        for a in range(env.action_space.n):\n",
        "            for p, s_, r, _ in env.P[s][a]:\n",
        "                q_sa[a] += (p * (r + gamma * v[s_]))\n",
        "        policy[s] = np.argmax(q_sa)\n",
        "    return policy\n",
        "\n",
        "def value_iteration(env, gamma=1.0):\n",
        "    \"\"\"Performs value iteration.\"\"\"\n",
        "    v = np.zeros(env.observation_space.n)  # initialize value-function\n",
        "    max_iterations = 100000\n",
        "    eps = 1e-20\n",
        "    for i in range(max_iterations):\n",
        "        prev_v = np.copy(v)\n",
        "        for s in range(env.observation_space.n):\n",
        "            q_sa = [sum([p * (r + gamma * prev_v[s_]) for p, s_, r, _ in env.P[s][a]]) for a in range(env.action_space.n)]\n",
        "            v[s] = max(q_sa)\n",
        "        if (np.sum(np.fabs(prev_v - v)) <= eps):\n",
        "            print(f'Value-iteration converged at iteration# {i+1}.')\n",
        "            break\n",
        "    return v\n",
        "\n",
        "if __name__ == '__main__':\n",
        "    env_name = 'FrozenLake8x8-v1'  # Make sure to use the correct environment version\n",
        "    gamma = 1.0\n",
        "    env = gym.make(env_name)\n",
        "    env = env.unwrapped  # Note: Unwrapping might not always be necessary or desired\n",
        "    optimal_v = value_iteration(env, gamma)\n",
        "    policy = extract_policy(optimal_v, gamma, env)\n",
        "    policy_score = evaluate_policy(env, policy, gamma, n=1000)\n",
        "    print('Policy average score = ', policy_score)\n"
      ],
      "execution_count": null,
      "outputs": [
        {
          "output_type": "stream",
          "name": "stdout",
          "text": [
            "Value-iteration converged at iteration# 2357.\n",
            "Policy average score =  1.0\n",
            "CPU times: user 2.62 s, sys: 120 ms, total: 2.74 s\n",
            "Wall time: 2.66 s\n"
          ]
        }
      ]
    },
    {
      "cell_type": "markdown",
      "source": [
        "Ο παραπάνω κώδικας υλοποιεί τις παρακάτω συναρτήσεις:\n",
        "\n",
        "run_episode: Εκτελεί ένα επεισόδιο χρησιμοποιώντας μια δεδομένη πολιτική και επιστρέφει τη συνολική ανταμοιβή.\n",
        "\n",
        "evaluate_policy: Αξιολογεί μια πολιτική εκτελώντας πολλά επεισόδια και επιστρέφοντας το μέσο όρο των ανταμοιβών.\n",
        "\n",
        "extract_policy: Υπολογίζει την πολιτική από έναν δοσμένο value-function.\n",
        "\n",
        "value_iteration: Υλοποιεί τον αλγόριθμο Value Iteration για την εύρεση της βέλτιστης value-function.\n",
        "\n",
        "Ο αλγόριθμος Value Iteration για την επίλυση του περιβάλλοντος FrozenLake8x8 ακολουθεί τα εξής βήματα:\n",
        "\n",
        "Αρχικά, αρχικοποιεί τη value-function με μηδενικά και στη συνέχεια ορίζει τις μέγιστες επαναλήψεις και ένα κατώφλι σύγκλισης. Επαναλαμβάνει την ανανέωση της value-function μέχρι να συγκλίνει, δηλαδή όταν η μέγιστη διαφορά μεταξύ δύο διαδοχικών ενημερώσεων είναι κάτω από το κατώφλι.\n",
        "Υπολογίζει τη βέλτιστη πολιτική από την τελική value-function. Τέλος, τυπώνει τη μέση ανταμοιβή που επιτυγχάνεται με την τελική βέλτιστη πολιτική. Αυτό επιτυγχάνεται αξιολογώντας την πολιτική σε πολλά επεισόδια και υπολογίζοντας τον μέσο όρο των ανταμοιβών."
      ],
      "metadata": {
        "id": "nnn25FkP87QR"
      }
    },
    {
      "cell_type": "markdown",
      "source": [
        "ΑΠΑΝΤΗΣΗ:"
      ],
      "metadata": {
        "id": "CzH0JHYrusAT"
      }
    },
    {
      "cell_type": "markdown",
      "source": [
        "iii) Όπως είναι εύκολο αντιληπτό από τα αποτελέσματα των παραπάνω προγράμματων, ο αλγόριθμος Policy Iteration εκτελείται σε πολύ μικρότερο χρονικό διάστημα από ότι ο αλγόριθμος Value Iteration. Μπορεί κάθε υπολογιστής να τρέχει σε διαφορετική CPU, όποτε ο χρόνος εκτέλεσης να διαφέρει από υπολογιστή σε υπολογιστή, αλλά εδώ η διαφορά είναι τέτοια που δεν μπορούμε να την αγνοήσουμε. Συγκεκριμένα, ο Policy Iteration έχει :\n",
        "\n",
        "CPU times: user 1.34 s, sys: 20.5 ms, total: 1.36 s\n",
        "\n",
        "Wall time: 1.35 s,\n",
        "\n",
        "ενώ ο Value Iteration έχει τους εξής χρόνους εκτέλεσης:\n",
        "\n",
        "CPU times: user 2.62 s, sys: 120 ms, total: 2.74 s\n",
        "Wall time: 2.66 s\n",
        "\n",
        "Ακόμα, οι δυό αλγόριθμοί έχουν το ίδιο average score (1.0), αλλά έχουν σημαντική απόκλιση στον αριθμό των επαναλήψεων από τον οποίο πρόεκυψε η σύγκλιση του αλγορίθμου.\n",
        "\n",
        "Ο αλγόριθμος Policy Iteration χρειάστηκε μόνο 5 βήματα για να συγκλίνει , ενώ ο αλγόριθμος Value Iteration χρείαστηκε 2357 βήματα. Συνέπως, όπως αναφέραμε και παραπάνω, ο αλγόριθμος Policy Iteration συγκλίνει στην βέλτιστη λύση πολύ ταχύετρα από τον αλγόριθμο Value Iteration.\n",
        "\n",
        "Τώρα, όσο αναφαορά την πολυπλοκότητα τω αλγορίθμων επειδή ο Policy Iteration συγκλίνει μετά από 5 επαναλήψεις, έχει πολυπλοκότητα Ο(1). Από την άλλη ο Value Iteration συγκλίνει μετά από 2357 επαναλήψεις. Άρα, έχει πολυπλοκότητα Ο(10^3).\n",
        "\n",
        "Σχόλιο:\n",
        "\n",
        "Ο(10^3)=Ο(1000). Το 2357 βρίσκεται ανάμεσα στο 1000 και το 10.000."
      ],
      "metadata": {
        "id": "0sfJYsrouqZ5"
      }
    }
  ]
}