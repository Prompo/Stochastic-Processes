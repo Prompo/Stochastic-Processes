{
  "nbformat": 4,
  "nbformat_minor": 0,
  "metadata": {
    "colab": {
      "provenance": []
    },
    "kernelspec": {
      "name": "python3",
      "display_name": "Python 3"
    }
  },
  "cells": [
    {
      "cell_type": "markdown",
      "metadata": {
        "id": "xBgJvYpPrY_t"
      },
      "source": [
        "<h1><b>Άσκηση 2</b></h1>\n",
        "<p align=\"justify\">Σας δίνεται η παρακάτω στοχαστική μήτρα πιθανοτήτων P μιας μαρκοβιανής αλυσίδας. Από τη μήτρα αυτή έχουν παραλειφθεί ορισμένα στοιχεία:</p>\n",
        "<img src=\"https://raw.githubusercontent.com/nkostopoulos/StochasticsLabPublic/master/lab3/ex2.PNG\"><img>\n",
        "<ul>\n",
        "<li>Να συμπληρώσετε τα κενά της μήτρας πιθανοτήτων P της μαρκοβιανής αλυσίδας.</li>\n",
        "<li>Χρησιμοποιώντας τον <a href=\"http://setosa.io/markov/index.html#%7B%22tm%22%3A%5B%5B0.6%2C0.2%2C0%2C0%2C0%2C0.2%5D%2C%5B0.2%2C0.6%2C0.2%2C0%2C0%2C0%5D%2C%5B0%2C0.2%2C0.6%2C0.2%2C0%2C0%5D%2C%5B0%2C0%2C0.2%2C0.6%2C0.2%2C0%5D%2C%5B0%2C0%2C0%2C0.2%2C0.6%2C0.2%5D%2C%5B0.2%2C0%2C0%2C0%2C0.2%2C0.6%5D%5D%7D\">προσομοιωτή</a> να σχεδιάσετε την παραπάνω μαρκοβιανή αλυσίδα και να ταξινομήσετε τις καταστάσεις της σε κλάσεις επικοινωνίας. Πώς αποκαλείται μια τέτοια αλυσίδα με κριτήριο τις κλάσεις επικοινωνίας; Τι συμπέρασμα βγάζετε σχετικά με την ύπαρξη αναλλοίωτης κατανομής για την αλυσίδα;</li>\n",
        "<li>Χρησιμοποιώντας τον κώδικα που παρατίθεται στο τέλος της άσκησης θα εκτιμήσετε την αναλλοίωτη κατανομή της μαρκοβιανής αλυσίδας με τη μέθοδο της προσομοίωσης. Το πρόγραμμα: (α) ορίζει τη μήτρα πιθανοτήτων και την αρχική κατανομή της αλυσίδας, (β) ορίζει το μοντέλο της και (γ) εκτιμά την αναλλοίωτη κατανομή της αλυσίδας για κάθε κατάσταση, διαιρώντας τον αριθμό των επισκέψεων στην κατάσταση αυτή με το συνολικό αριθμό των βημάτων της αλυσίδας (παράμετρος <i>total_runs</i>). Το πρόγραμμα δίνει ως έξοδο ένα ραβδόγραμμα που απεικονίζει την αναλλοίωτη κατανομή της αλυσίδας. Να καταγράψετε το αποτέλεσμα της εκτέλεσης του προγράμματος για συνολικό αριθμό βημάτων της αλυσίδας (α) 500, (β) 1,000, (γ) 10,000, (δ) 100,000, (ε) 1,000,000, (στ) 10,000,000 και (ζ) 100,000,000. Πόσο μεταβάλεται η εκτίμηση ανάμεσα σε κάθε έξοδο; Τι παρατηρείτε σχετικά με το συνολικό χρόνο εκτέλεσης της προσομοίωσης ανάλογα με το συνολικό αριθμό βημάτων της αλυσίδας; Κατά τη γνώμη σας, ποια τιμή του συνολικού αριθμού των βημάτων της αλυσίδας επιτυγχάνει μια ικανοποιητική ισορροπία ανάμεσα στην ακρίβεια του αποτελέσματος και το συνολικό χρόνο εκτέλεσης της προσομοίωσης; <b>Για να τρέξετε το πρόγραμμα θα πρέπει να έχετε φορτώσει το αρχείο <i><a href=\"https://github.com/nkostopoulos/StochasticsLabPublic/blob/master/lab3/simple_markov_chain_lib.py\">simple_markov_chain_lib.py</a></i>.</b></li>\n",
        "<li>Τι παρατηρείτε σχετικά με τις τιμές της αναλλοίωτης κατανομής της παραπάνω μαρκοβιανής αλυσίδας; Να υπολογίσετε το άθροισμα των στοιχείων κάθε στήλης της μήτρας πιθανοτήτων <b>P</b>. Πώς ονομάζεται μία τέτοια μήτρα πιθανοτήτων και τι ισχύει για την αναλλοίωτη κατανομή μιας τέτοιας αλυσίδας;</li>\n"
      ]
    },
    {
      "cell_type": "markdown",
      "source": [
        "ΑΠΑΝΤΗΣΕΙΣ:"
      ],
      "metadata": {
        "id": "SInJfsXhNFhU"
      }
    },
    {
      "cell_type": "markdown",
      "source": [
        "i) Πριν καταθέσω τη τελική μορφή της μήτρας πιθανοτήτων P της μαρκοβιανής αλυσίδας, θεωρώ σκόπιμο να εξηγήσω το συλλογισμό για το πως πρόεκυψαν τα παρακάτω αποτελέσματα. Γνωρίζουμε ότι η maximum πιθανότητα του να συμβεί ένα γεγονός, είναι 1. Άρα, πρέπει το άθροισμα των πιθανοτήτων της κάθε γραμμής να είναι 1.\n",
        "\n",
        "Για τη 1η γραμμή ισχύει ότι:     \n",
        "    0.6 + i1j2 + 0 + 0 + 0 + 0.2 =1. Άρα, i1j2= 0.2\n",
        "\n",
        "Για τη 2η γραμμή ισχύει ότι:     \n",
        "    0.2 + i2j2 + 0.2 + 0 + 0 + 0 =1. Άρα, i2j2= 0.6\n",
        "\n",
        "Για τη 3η γραμμή ισχύει ότι:     \n",
        "    0 + 0.2 + 0.6 + 0.2 + i3j5 + 0 =1. Άρα, i3j5= 0\n",
        "\n",
        "Για τη 4η γραμμή ισχύει ότι:     \n",
        "    0 + 0 + 0.2 + i4j4 + 0.2 + 0 =1. Άρα, i4j4= 0.6\n",
        "\n",
        "Για τη 5η γραμμή ισχύει ότι:     \n",
        "    0 + i5j2 + i5j3 + 0.2 + 0.6 + 0.2 =1. Το άθροισμα  i5j4+i5j5+i5j6=0.2+0.6+0.2=1. Συνεπώς, i5j2=0 και i5j3=0.\n",
        "\n",
        "Για τη 6η γραμμή ισχύει ότι:     \n",
        "    0.2 + 0 + 0 + 0 + i6j5 + 0.6 =1. Άρα, i6j5=0.2\n",
        "\n",
        "\n",
        "Άρα, η μήτρα πιθανοτήτων P της μαρκοβιανής αλυσίδας είναι:\n",
        "\n",
        "P=\n",
        "\n",
        "\n",
        "\n",
        "    0.6  0.2  0   0  0   0.2\n",
        "    0.2  0.6 0.2  0  0   0\n",
        "    0    0.2 0.6 0.2 0   0\n",
        "    0    0   0.2 0.6 0.2 0\n",
        "    0    0   0   0.2 0.6 0.2\n",
        "    0.2  0   0   0   0.2 0.6\n",
        "\n",
        "\n",
        "\n"
      ],
      "metadata": {
        "id": "7l-9C0sYO8oO"
      }
    },
    {
      "cell_type": "markdown",
      "source": [
        "ii) Στην μαρκοβιανή αλυσίδα που συμπληρώσαμε παραπάνω,υπάρχουν 6 διαφορετικές πιθανές καταστάσεις. Ο χώρος καταστάσεων της, μπορεί να περιγραφεί είτε ως: Χ={1,2,3,4,5,6} , είτε ως Χ={a,b,c,d,e,f}.\n",
        "\n",
        "Αυτό που παρατηρείται, είναι ότι κάθε κατάσταση έχει τη δυνατότητα μετάβασης στην επόμενη ή την προηγούμενη (αριθμητικά) με πιθανότητα 0.2 και τη δυνατότητα παραμονής με πιθανότητα 0.6. Συγκεκριμένα για παράδειγμα, η κατάσταση b έχει πιθανότητα 0.6-(60%) να παραμείνει στον εαυτό της 0.6 και έχει επίσης πιθανότητα 0.2-(20%) είτε να μεταβεί στην κατάσταση a, είτε να μεταβεί στην κατάσταση c. Η κατάσταση e έχει πιθανότητα 0.6 να παραμείνει στον εαυτό της και έχει επίσης πιθανότητα 0.2 είτε να μεταβεί στην κατάσταση f, είτε να μεταβεί στην κατάσταση d. Η κατάσταση a έχει πιθανότητα 0.6 να παραμείνει στον εαυτό της και έχει επίσης πιθανότητα 0.2 είτε να μεταβεί στην κατάσταση f, είτε να μεταβεί στην κατάσταση b. Η κατάσταση c έχει πιθανότητα 0.6 να παραμείνει στον εαυτό της και έχει επίσης πιθανότητα 0.2 είτε να μεταβεί στην κατάσταση b, είτε να μεταβεί στην κατάσταση d. Η κατάσταση d έχει πιθανότητα 0.6 να παραμείνει στον εαυτό της και έχει επίσης πιθανότητα 0.2 είτε να μεταβεί στην κατάσταση c, είτε να μεταβεί στην κατάσταση f. Η κατάσταση f έχει πιθανότητα 0.6 να παραμείνει στον εαυτό της και έχει επίσης πιθανότητα 0.2 είτε να μεταβεί στην κατάσταση e, είτε να μεταβεί στην κατάσταση a.\n",
        "\n",
        "Στην Μαρκοβιανή αλυσίδα, oι καταστάσεις μπορεί να χωρίζονται σε υποσύνολα - κλάσεις. Ανοικτές κλάσεις είναι αυτές που επιτρέπουν έξοδο προς άλλη κλάση. Κλειστές αυτές που δεν επιτρέπουν έξοδο και οι στατιστικές ιδιότητες της αλυσίδας μετά την παρέλευση μεταβατικού χρόνου περιορίζονται στο υποσύνολο αυτό. Αν υπάρχει μόνο μία\n",
        "κλειστή κλάση η διαδικασία είναι Irreducible.\n",
        "\n",
        "Το συμπέρασμα που μπορούμε να βγάλουμε σχετικά με την ύπαρξη αναλλοίωτης κατανομής για μια αλυσίδα εξαρτάται από την ικανότητά της να συγκλίνει σε μια σταθερή κατανομή πιθανοτήτων. Αν η αλυσίδα είναι Irreducible και έχει μόνο μία κλάση επικοινωνίας, τότε μπορεί να έχει αναλλοίωτη κατανομή. Αν η αλυσίδα έχει περισσότερες από μία κλάσεις επικοινωνίας, τότε η ύπαρξη αναλλοίωτης κατανομής εξαρτάται από το αν η αλυσίδα είναι επαναλαμβανόμενη (recurrent) σε κάθε κλάση.\n",
        "\n",
        "(Recurrent States): Η διαδικασία επιστρέφει στις\n",
        "καταστάσεις αυτές άπειρες φορές στο διηνεκές (απείρως επισκέψιμες καταστάσεις).\n",
        "\n",
        "Στην ίδια κλάση επικοινωνίας ανήκουν όλες οι καταστάσεις οι οποίες ανά δύο συνδέονται μέσω κάποιας ακολουθίας μεταβάσεων με μη μηδενική πιθανότητα. Δεδομένου αυτού, γίνεται εμφανές πως στην προκείμενη περίπτωση όλες οι καταστάσεις ανήκουν στην ίδια κλάση επικοινωνίας, την {a,b,c,d,e,f} ή {1,2,3,4,5,6}.\n",
        ", το οποίο υποδεικνύει πως η υπό μελέτη αλυσίδα Markov είναι μη αναγωγίσιμη\n",
        "\n",
        "Δεδομένου πως η αλυσίδα Markov που παρουσιάζεται εδώ είναι μη αναγωγίσιμη, σε συνδυασμό με το γεγονός πως είναι πεπερασμένη (δηλαδή δομείται από πεπερασμένο πλήθος καταστάσεων), οδηγούμαστε στο συμπέρασμα πως για την αλυσίδα αυτή υπάρχει αναλλοίωτη κατανομή.\n",
        "\n",
        "Επιπλέον, υπάρχει μια ακόμη ιδιότητα που δεν αφορά τις μη αναγωγίσιμες πεπερασμένες αλυσίδες Markov γενικά, αλλά την αλυσίδα Markov που παρουσιάζεται εδώ: δεδομένου πως το άθροισμα όχι μόνο των γραμμών, αλλά και των στηλών του πίνακα μετάβασης ισούται με τη μονάδα, ο πίνακας\n",
        "καλείται διπλά στοχαστικός. Σε πρακτικό επίπεδο, αυτό σημαίνει πως η αναλλοίωτη κατανομή είναι εξ αρχής γνωστή και ίση με:\n",
        "\n",
        "π=(1/6,1/6,1/6,1/6,1/6,1/6)"
      ],
      "metadata": {
        "id": "1UGPFbn8XIEF"
      }
    },
    {
      "cell_type": "markdown",
      "source": [
        "iii) Σε αυτό το σημείο της άσκσησης θα εκτελέσω το πρόγραμμα για συνολικό αριθμό βημάτων της αλυσίδας (α) 500, (β) 1,000, (γ) 10,000, (δ) 100,000, (ε) 1,000,000, (στ) 10,000,000 και (ζ) 100,000,000.\n",
        "\n",
        "Ωστόσο αξίζει να σημειωθεί, ότι γνωρίζω ήδη  ότι η συγκεκριμένη Μαρκοβιανή αλυσίδα, χαρακτηρίζεται από αναλλοίωτη κατανομή, λόγω των συμπερασμάτων που διατυπώσαμε στο προηγούμενο ερώτημα."
      ],
      "metadata": {
        "id": "Bk5TSt6lOSp3"
      }
    },
    {
      "cell_type": "markdown",
      "source": [
        "α) Total runs ---> 500"
      ],
      "metadata": {
        "id": "RKGeIoReHuGi"
      }
    },
    {
      "cell_type": "code",
      "source": [
        "%%time\n",
        "from __future__ import division\n",
        "from simple_markov_chain_lib import markov_chain\n",
        "import numpy as np\n",
        "import matplotlib.pyplot as plt\n",
        "\n",
        "def defineMarkovTable():\n",
        "\tmarkov_table = {\n",
        "\t\t0: {0: 0.6, 1: 0.2, 5: 0.2},\n",
        "\t\t1: {0: 0.2, 1: 0.6, 2: 0.2},\n",
        "\t\t2: {1: 0.2, 2: 0.6, 3: 0.2},\n",
        "\t\t3: {2: 0.2, 3: 0.6, 4: 0.2},\n",
        "\t\t4: {3: 0.2, 4: 0.6, 5: 0.2},\n",
        "\t\t5: {0: 0.2, 4: 0.2, 5: 0.6}\n",
        "        }\n",
        "\n",
        "\treturn markov_table\n",
        "\n",
        "def defineInitDistribution():\n",
        "\tinit_dist = {0: 1.}\n",
        "\n",
        "\treturn init_dist\n",
        "\n",
        "def calculateFrequencyTable(markov_table,init_dist):\n",
        "\ttotal_runs = 500\n",
        "\n",
        "\tvisits = list()\n",
        "\tvisits = [0] * len(markov_table)\n",
        "\n",
        "\tfor index in range(total_runs):\n",
        "\t\tmc.move()\n",
        "\t\tvisits[mc.running_state] += 1\n",
        "\n",
        "\tfrequency = [v/total_runs for v in visits]\n",
        "\n",
        "\treturn frequency\n",
        "\n",
        "def printFrequencies(frequency, markov_table):\n",
        "\tfor state in range(0, len(markov_table)) :\n",
        "\t\tprint(str(state) + \": \", str(frequency[state]))\n",
        "\n",
        "\treturn None\n",
        "\n",
        "def plotFrequencies(frequency):\n",
        "\tobjects = ('1', '2', '3', '4', '5', '6')\n",
        "\ty_pos = np.arange(len(objects))\n",
        "\n",
        "\tplt.bar(y_pos, frequency, align='center', alpha=0.5)\n",
        "\tplt.xticks(y_pos, objects)\n",
        "\tplt.ylabel('States')\n",
        "\tplt.title('Frequencies')\n",
        "\tplt.show()\n",
        "\n",
        "\treturn None\n",
        "\n",
        "if __name__ == \"__main__\":\n",
        "\tmarkov_table = defineMarkovTable()\n",
        "\tinit_dist = defineInitDistribution()\n",
        "\tmc = markov_chain(markov_table, init_dist)\n",
        "\tmc.start()\n",
        "\n",
        "\tfrequency = calculateFrequencyTable(markov_table, init_dist)\n",
        "\tprintFrequencies(frequency, markov_table)\n",
        "\tplotFrequencies(frequency)"
      ],
      "metadata": {
        "colab": {
          "base_uri": "https://localhost:8080/",
          "height": 591
        },
        "id": "_xce1wVTG4GG",
        "outputId": "2ab34003-1502-4f4e-db7a-f6919ca353cf"
      },
      "execution_count": null,
      "outputs": [
        {
          "output_type": "stream",
          "name": "stdout",
          "text": [
            "0:  0.174\n",
            "1:  0.142\n",
            "2:  0.158\n",
            "3:  0.2\n",
            "4:  0.17\n",
            "5:  0.156\n"
          ]
        },
        {
          "output_type": "display_data",
          "data": {
            "text/plain": [
              "<Figure size 640x480 with 1 Axes>"
            ],
            "image/png": "[encoded data removed]"
          },
          "metadata": {}
        },
        {
          "output_type": "stream",
          "name": "stdout",
          "text": [
            "CPU times: user 493 ms, sys: 109 ms, total: 602 ms\n",
            "Wall time: 487 ms\n"
          ]
        }
      ]
    },
    {
      "cell_type": "markdown",
      "source": [
        "β) Total runs ---> 1000"
      ],
      "metadata": {
        "id": "h5dw7ANKHxVn"
      }
    },
    {
      "cell_type": "code",
      "source": [
        "%%time\n",
        "from __future__ import division\n",
        "from simple_markov_chain_lib import markov_chain\n",
        "import numpy as np\n",
        "import matplotlib.pyplot as plt\n",
        "\n",
        "def defineMarkovTable():\n",
        "\tmarkov_table = {\n",
        "\t\t0: {0: 0.6, 1: 0.2, 5: 0.2},\n",
        "\t\t1: {0: 0.2, 1: 0.6, 2: 0.2},\n",
        "\t\t2: {1: 0.2, 2: 0.6, 3: 0.2},\n",
        "\t\t3: {2: 0.2, 3: 0.6, 4: 0.2},\n",
        "\t\t4: {3: 0.2, 4: 0.6, 5: 0.2},\n",
        "\t\t5: {0: 0.2, 4: 0.2, 5: 0.6}\n",
        "        }\n",
        "\n",
        "\treturn markov_table\n",
        "\n",
        "def defineInitDistribution():\n",
        "\tinit_dist = {0: 1.}\n",
        "\n",
        "\treturn init_dist\n",
        "\n",
        "def calculateFrequencyTable(markov_table,init_dist):\n",
        "\ttotal_runs = 1000\n",
        "\n",
        "\tvisits = list()\n",
        "\tvisits = [0] * len(markov_table)\n",
        "\n",
        "\tfor index in range(total_runs):\n",
        "\t\tmc.move()\n",
        "\t\tvisits[mc.running_state] += 1\n",
        "\n",
        "\tfrequency = [v/total_runs for v in visits]\n",
        "\n",
        "\treturn frequency\n",
        "\n",
        "def printFrequencies(frequency, markov_table):\n",
        "\tfor state in range(0, len(markov_table)) :\n",
        "\t\tprint(str(state) + \": \", str(frequency[state]))\n",
        "\n",
        "\treturn None\n",
        "\n",
        "def plotFrequencies(frequency):\n",
        "\tobjects = ('1', '2', '3', '4', '5', '6')\n",
        "\ty_pos = np.arange(len(objects))\n",
        "\n",
        "\tplt.bar(y_pos, frequency, align='center', alpha=0.5)\n",
        "\tplt.xticks(y_pos, objects)\n",
        "\tplt.ylabel('States')\n",
        "\tplt.title('Frequencies')\n",
        "\tplt.show()\n",
        "\n",
        "\treturn None\n",
        "\n",
        "if __name__ == \"__main__\":\n",
        "\tmarkov_table = defineMarkovTable()\n",
        "\tinit_dist = defineInitDistribution()\n",
        "\tmc = markov_chain(markov_table, init_dist)\n",
        "\tmc.start()\n",
        "\n",
        "\tfrequency = calculateFrequencyTable(markov_table, init_dist)\n",
        "\tprintFrequencies(frequency, markov_table)\n",
        "\tplotFrequencies(frequency)"
      ],
      "metadata": {
        "colab": {
          "base_uri": "https://localhost:8080/",
          "height": 591
        },
        "id": "MA0oWds4HzG-",
        "outputId": "2df9f1bc-a238-4dd2-85b1-a889b3366624"
      },
      "execution_count": null,
      "outputs": [
        {
          "output_type": "stream",
          "name": "stdout",
          "text": [
            "0:  0.135\n",
            "1:  0.127\n",
            "2:  0.245\n",
            "3:  0.249\n",
            "4:  0.14\n",
            "5:  0.104\n"
          ]
        },
        {
          "output_type": "display_data",
          "data": {
            "text/plain": [
              "<Figure size 640x480 with 1 Axes>"
            ],
            "image/png": "[encoded data removed]"
          },
          "metadata": {}
        },
        {
          "output_type": "stream",
          "name": "stdout",
          "text": [
            "CPU times: user 288 ms, sys: 41.7 ms, total: 330 ms\n",
            "Wall time: 421 ms\n"
          ]
        }
      ]
    },
    {
      "cell_type": "markdown",
      "source": [
        "γ) Total runs ---> 10000"
      ],
      "metadata": {
        "id": "5tnK9YhbNKqU"
      }
    },
    {
      "cell_type": "code",
      "source": [
        "%%time\n",
        "from __future__ import division\n",
        "from simple_markov_chain_lib import markov_chain\n",
        "import numpy as np\n",
        "import matplotlib.pyplot as plt\n",
        "\n",
        "def defineMarkovTable():\n",
        "\tmarkov_table = {\n",
        "\t\t0: {0: 0.6, 1: 0.2, 5: 0.2},\n",
        "\t\t1: {0: 0.2, 1: 0.6, 2: 0.2},\n",
        "\t\t2: {1: 0.2, 2: 0.6, 3: 0.2},\n",
        "\t\t3: {2: 0.2, 3: 0.6, 4: 0.2},\n",
        "\t\t4: {3: 0.2, 4: 0.6, 5: 0.2},\n",
        "\t\t5: {0: 0.2, 4: 0.2, 5: 0.6}\n",
        "        }\n",
        "\n",
        "\treturn markov_table\n",
        "\n",
        "def defineInitDistribution():\n",
        "\tinit_dist = {0: 1.}\n",
        "\n",
        "\treturn init_dist\n",
        "\n",
        "def calculateFrequencyTable(markov_table,init_dist):\n",
        "\ttotal_runs =  10000\n",
        "\n",
        "\tvisits = list()\n",
        "\tvisits = [0] * len(markov_table)\n",
        "\n",
        "\tfor index in range(total_runs):\n",
        "\t\tmc.move()\n",
        "\t\tvisits[mc.running_state] += 1\n",
        "\n",
        "\tfrequency = [v/total_runs for v in visits]\n",
        "\n",
        "\treturn frequency\n",
        "\n",
        "def printFrequencies(frequency, markov_table):\n",
        "\tfor state in range(0, len(markov_table)) :\n",
        "\t\tprint(str(state) + \": \", str(frequency[state]))\n",
        "\n",
        "\treturn None\n",
        "\n",
        "def plotFrequencies(frequency):\n",
        "\tobjects = ('1', '2', '3', '4', '5', '6')\n",
        "\ty_pos = np.arange(len(objects))\n",
        "\n",
        "\tplt.bar(y_pos, frequency, align='center', alpha=0.5)\n",
        "\tplt.xticks(y_pos, objects)\n",
        "\tplt.ylabel('States')\n",
        "\tplt.title('Frequencies')\n",
        "\tplt.show()\n",
        "\n",
        "\treturn None\n",
        "\n",
        "if __name__ == \"__main__\":\n",
        "\tmarkov_table = defineMarkovTable()\n",
        "\tinit_dist = defineInitDistribution()\n",
        "\tmc = markov_chain(markov_table, init_dist)\n",
        "\tmc.start()\n",
        "\n",
        "\tfrequency = calculateFrequencyTable(markov_table, init_dist)\n",
        "\tprintFrequencies(frequency, markov_table)\n",
        "\tplotFrequencies(frequency)"
      ],
      "metadata": {
        "colab": {
          "base_uri": "https://localhost:8080/",
          "height": 591
        },
        "id": "ZyJM7eWqNNQj",
        "outputId": "154cd637-e15c-4d01-d22d-771ed9311a63"
      },
      "execution_count": null,
      "outputs": [
        {
          "output_type": "stream",
          "name": "stdout",
          "text": [
            "0:  0.16\n",
            "1:  0.1567\n",
            "2:  0.1694\n",
            "3:  0.1675\n",
            "4:  0.1727\n",
            "5:  0.1737\n"
          ]
        },
        {
          "output_type": "display_data",
          "data": {
            "text/plain": [
              "<Figure size 640x480 with 1 Axes>"
            ],
            "image/png": "[encoded data removed]"
          },
          "metadata": {}
        },
        {
          "output_type": "stream",
          "name": "stdout",
          "text": [
            "CPU times: user 353 ms, sys: 50.3 ms, total: 403 ms\n",
            "Wall time: 433 ms\n"
          ]
        }
      ]
    },
    {
      "cell_type": "markdown",
      "source": [
        "δ) Total runs ---> 100000"
      ],
      "metadata": {
        "id": "9b08uiRcH4BX"
      }
    },
    {
      "cell_type": "code",
      "source": [
        "%%time\n",
        "from __future__ import division\n",
        "from simple_markov_chain_lib import markov_chain\n",
        "import numpy as np\n",
        "import matplotlib.pyplot as plt\n",
        "\n",
        "def defineMarkovTable():\n",
        "\tmarkov_table = {\n",
        "\t\t0: {0: 0.6, 1: 0.2, 5: 0.2},\n",
        "\t\t1: {0: 0.2, 1: 0.6, 2: 0.2},\n",
        "\t\t2: {1: 0.2, 2: 0.6, 3: 0.2},\n",
        "\t\t3: {2: 0.2, 3: 0.6, 4: 0.2},\n",
        "\t\t4: {3: 0.2, 4: 0.6, 5: 0.2},\n",
        "\t\t5: {0: 0.2, 4: 0.2, 5: 0.6}\n",
        "        }\n",
        "\n",
        "\treturn markov_table\n",
        "\n",
        "def defineInitDistribution():\n",
        "\tinit_dist = {0: 1.}\n",
        "\n",
        "\treturn init_dist\n",
        "\n",
        "def calculateFrequencyTable(markov_table,init_dist):\n",
        "\ttotal_runs = 100000\n",
        "\n",
        "\tvisits = list()\n",
        "\tvisits = [0] * len(markov_table)\n",
        "\n",
        "\tfor index in range(total_runs):\n",
        "\t\tmc.move()\n",
        "\t\tvisits[mc.running_state] += 1\n",
        "\n",
        "\tfrequency = [v/total_runs for v in visits]\n",
        "\n",
        "\treturn frequency\n",
        "\n",
        "def printFrequencies(frequency, markov_table):\n",
        "\tfor state in range(0, len(markov_table)) :\n",
        "\t\tprint(str(state) + \": \", str(frequency[state]))\n",
        "\n",
        "\treturn None\n",
        "\n",
        "def plotFrequencies(frequency):\n",
        "\tobjects = ('1', '2', '3', '4', '5', '6')\n",
        "\ty_pos = np.arange(len(objects))\n",
        "\n",
        "\tplt.bar(y_pos, frequency, align='center', alpha=0.5)\n",
        "\tplt.xticks(y_pos, objects)\n",
        "\tplt.ylabel('States')\n",
        "\tplt.title('Frequencies')\n",
        "\tplt.show()\n",
        "\n",
        "\treturn None\n",
        "\n",
        "if __name__ == \"__main__\":\n",
        "\tmarkov_table = defineMarkovTable()\n",
        "\tinit_dist = defineInitDistribution()\n",
        "\tmc = markov_chain(markov_table, init_dist)\n",
        "\tmc.start()\n",
        "\n",
        "\tfrequency = calculateFrequencyTable(markov_table, init_dist)\n",
        "\tprintFrequencies(frequency, markov_table)\n",
        "\tplotFrequencies(frequency)"
      ],
      "metadata": {
        "colab": {
          "base_uri": "https://localhost:8080/",
          "height": 591
        },
        "id": "epwTTjUVH52_",
        "outputId": "bdeb4d18-9afd-4f37-ebfc-cbd1fd0d3ea8"
      },
      "execution_count": null,
      "outputs": [
        {
          "output_type": "stream",
          "name": "stdout",
          "text": [
            "0:  0.16418\n",
            "1:  0.1699\n",
            "2:  0.1702\n",
            "3:  0.16793\n",
            "4:  0.16379\n",
            "5:  0.164\n"
          ]
        },
        {
          "output_type": "display_data",
          "data": {
            "text/plain": [
              "<Figure size 640x480 with 1 Axes>"
            ],
            "image/png": "[encoded data removed]"
          },
          "metadata": {}
        },
        {
          "output_type": "stream",
          "name": "stdout",
          "text": [
            "CPU times: user 391 ms, sys: 103 ms, total: 494 ms\n",
            "Wall time: 385 ms\n"
          ]
        }
      ]
    },
    {
      "cell_type": "markdown",
      "source": [
        "ε) Total runs ---> 1000000"
      ],
      "metadata": {
        "id": "UglTBKhpH6Nw"
      }
    },
    {
      "cell_type": "code",
      "source": [
        "%%time\n",
        "from __future__ import division\n",
        "from simple_markov_chain_lib import markov_chain\n",
        "import numpy as np\n",
        "import matplotlib.pyplot as plt\n",
        "\n",
        "def defineMarkovTable():\n",
        "\tmarkov_table = {\n",
        "\t\t0: {0: 0.6, 1: 0.2, 5: 0.2},\n",
        "\t\t1: {0: 0.2, 1: 0.6, 2: 0.2},\n",
        "\t\t2: {1: 0.2, 2: 0.6, 3: 0.2},\n",
        "\t\t3: {2: 0.2, 3: 0.6, 4: 0.2},\n",
        "\t\t4: {3: 0.2, 4: 0.6, 5: 0.2},\n",
        "\t\t5: {0: 0.2, 4: 0.2, 5: 0.6}\n",
        "        }\n",
        "\n",
        "\treturn markov_table\n",
        "\n",
        "def defineInitDistribution():\n",
        "\tinit_dist = {0: 1.}\n",
        "\n",
        "\treturn init_dist\n",
        "\n",
        "def calculateFrequencyTable(markov_table,init_dist):\n",
        "\ttotal_runs = 1000000\n",
        "\n",
        "\tvisits = list()\n",
        "\tvisits = [0] * len(markov_table)\n",
        "\n",
        "\tfor index in range(total_runs):\n",
        "\t\tmc.move()\n",
        "\t\tvisits[mc.running_state] += 1\n",
        "\n",
        "\tfrequency = [v/total_runs for v in visits]\n",
        "\n",
        "\treturn frequency\n",
        "\n",
        "def printFrequencies(frequency, markov_table):\n",
        "\tfor state in range(0, len(markov_table)) :\n",
        "\t\tprint(str(state) + \": \", str(frequency[state]))\n",
        "\n",
        "\treturn None\n",
        "\n",
        "def plotFrequencies(frequency):\n",
        "\tobjects = ('1', '2', '3', '4', '5', '6')\n",
        "\ty_pos = np.arange(len(objects))\n",
        "\n",
        "\tplt.bar(y_pos, frequency, align='center', alpha=0.5)\n",
        "\tplt.xticks(y_pos, objects)\n",
        "\tplt.ylabel('States')\n",
        "\tplt.title('Frequencies')\n",
        "\tplt.show()\n",
        "\n",
        "\treturn None\n",
        "\n",
        "if __name__ == \"__main__\":\n",
        "\tmarkov_table = defineMarkovTable()\n",
        "\tinit_dist = defineInitDistribution()\n",
        "\tmc = markov_chain(markov_table, init_dist)\n",
        "\tmc.start()\n",
        "\n",
        "\tfrequency = calculateFrequencyTable(markov_table, init_dist)\n",
        "\tprintFrequencies(frequency, markov_table)\n",
        "\tplotFrequencies(frequency)"
      ],
      "metadata": {
        "colab": {
          "base_uri": "https://localhost:8080/",
          "height": 591
        },
        "id": "DdhPIT54IG7y",
        "outputId": "f995d5eb-7da4-4956-f401-e33d9717e399"
      },
      "execution_count": null,
      "outputs": [
        {
          "output_type": "stream",
          "name": "stdout",
          "text": [
            "0:  0.165934\n",
            "1:  0.165827\n",
            "2:  0.16693\n",
            "3:  0.167356\n",
            "4:  0.166864\n",
            "5:  0.167089\n"
          ]
        },
        {
          "output_type": "display_data",
          "data": {
            "text/plain": [
              "<Figure size 640x480 with 1 Axes>"
            ],
            "image/png": "[encoded data removed]"
          },
          "metadata": {}
        },
        {
          "output_type": "stream",
          "name": "stdout",
          "text": [
            "CPU times: user 1.37 s, sys: 106 ms, total: 1.48 s\n",
            "Wall time: 1.38 s\n"
          ]
        }
      ]
    },
    {
      "cell_type": "markdown",
      "source": [
        "στ) Total runs ---> 10000000"
      ],
      "metadata": {
        "id": "gUsqb8maIHOz"
      }
    },
    {
      "cell_type": "code",
      "source": [
        "%%time\n",
        "from __future__ import division\n",
        "from simple_markov_chain_lib import markov_chain\n",
        "import numpy as np\n",
        "import matplotlib.pyplot as plt\n",
        "\n",
        "def defineMarkovTable():\n",
        "\tmarkov_table = {\n",
        "\t\t0: {0: 0.6, 1: 0.2, 5: 0.2},\n",
        "\t\t1: {0: 0.2, 1: 0.6, 2: 0.2},\n",
        "\t\t2: {1: 0.2, 2: 0.6, 3: 0.2},\n",
        "\t\t3: {2: 0.2, 3: 0.6, 4: 0.2},\n",
        "\t\t4: {3: 0.2, 4: 0.6, 5: 0.2},\n",
        "\t\t5: {0: 0.2, 4: 0.2, 5: 0.6}\n",
        "        }\n",
        "\n",
        "\treturn markov_table\n",
        "\n",
        "def defineInitDistribution():\n",
        "\tinit_dist = {0: 1.}\n",
        "\n",
        "\treturn init_dist\n",
        "\n",
        "def calculateFrequencyTable(markov_table,init_dist):\n",
        "\ttotal_runs = 10000000\n",
        "\n",
        "\tvisits = list()\n",
        "\tvisits = [0] * len(markov_table)\n",
        "\n",
        "\tfor index in range(total_runs):\n",
        "\t\tmc.move()\n",
        "\t\tvisits[mc.running_state] += 1\n",
        "\n",
        "\tfrequency = [v/total_runs for v in visits]\n",
        "\n",
        "\treturn frequency\n",
        "\n",
        "def printFrequencies(frequency, markov_table):\n",
        "\tfor state in range(0, len(markov_table)) :\n",
        "\t\tprint(str(state) + \": \", str(frequency[state]))\n",
        "\n",
        "\treturn None\n",
        "\n",
        "def plotFrequencies(frequency):\n",
        "\tobjects = ('1', '2', '3', '4', '5', '6')\n",
        "\ty_pos = np.arange(len(objects))\n",
        "\n",
        "\tplt.bar(y_pos, frequency, align='center', alpha=0.5)\n",
        "\tplt.xticks(y_pos, objects)\n",
        "\tplt.ylabel('States')\n",
        "\tplt.title('Frequencies')\n",
        "\tplt.show()\n",
        "\n",
        "\treturn None\n",
        "\n",
        "if __name__ == \"__main__\":\n",
        "\tmarkov_table = defineMarkovTable()\n",
        "\tinit_dist = defineInitDistribution()\n",
        "\tmc = markov_chain(markov_table, init_dist)\n",
        "\tmc.start()\n",
        "\n",
        "\tfrequency = calculateFrequencyTable(markov_table, init_dist)\n",
        "\tprintFrequencies(frequency, markov_table)\n",
        "\tplotFrequencies(frequency)"
      ],
      "metadata": {
        "colab": {
          "base_uri": "https://localhost:8080/",
          "height": 591
        },
        "id": "C_p15yvFIRmP",
        "outputId": "cfc7bbc2-76b0-4471-8101-fc39f944d7a0"
      },
      "execution_count": null,
      "outputs": [
        {
          "output_type": "stream",
          "name": "stdout",
          "text": [
            "0:  0.1668681\n",
            "1:  0.167117\n",
            "2:  0.1666578\n",
            "3:  0.1665785\n",
            "4:  0.1663761\n",
            "5:  0.1664025\n"
          ]
        },
        {
          "output_type": "display_data",
          "data": {
            "text/plain": [
              "<Figure size 640x480 with 1 Axes>"
            ],
            "image/png": "[encoded data removed]"
          },
          "metadata": {}
        },
        {
          "output_type": "stream",
          "name": "stdout",
          "text": [
            "CPU times: user 12.5 s, sys: 140 ms, total: 12.7 s\n",
            "Wall time: 12.9 s\n"
          ]
        }
      ]
    },
    {
      "cell_type": "markdown",
      "source": [
        "ζ) Total runs ---> 100000000"
      ],
      "metadata": {
        "id": "XOMtcuKNIR7H"
      }
    },
    {
      "cell_type": "code",
      "source": [
        "%%time\n",
        "from __future__ import division\n",
        "from simple_markov_chain_lib import markov_chain\n",
        "import numpy as np\n",
        "import matplotlib.pyplot as plt\n",
        "\n",
        "def defineMarkovTable():\n",
        "\tmarkov_table = {\n",
        "\t\t0: {0: 0.6, 1: 0.2, 5: 0.2},\n",
        "\t\t1: {0: 0.2, 1: 0.6, 2: 0.2},\n",
        "\t\t2: {1: 0.2, 2: 0.6, 3: 0.2},\n",
        "\t\t3: {2: 0.2, 3: 0.6, 4: 0.2},\n",
        "\t\t4: {3: 0.2, 4: 0.6, 5: 0.2},\n",
        "\t\t5: {0: 0.2, 4: 0.2, 5: 0.6}\n",
        "        }\n",
        "\n",
        "\treturn markov_table\n",
        "\n",
        "def defineInitDistribution():\n",
        "\tinit_dist = {0: 1.}\n",
        "\n",
        "\treturn init_dist\n",
        "\n",
        "def calculateFrequencyTable(markov_table,init_dist):\n",
        "\ttotal_runs = 100000000\n",
        "\n",
        "\tvisits = list()\n",
        "\tvisits = [0] * len(markov_table)\n",
        "\n",
        "\tfor index in range(total_runs):\n",
        "\t\tmc.move()\n",
        "\t\tvisits[mc.running_state] += 1\n",
        "\n",
        "\tfrequency = [v/total_runs for v in visits]\n",
        "\n",
        "\treturn frequency\n",
        "\n",
        "def printFrequencies(frequency, markov_table):\n",
        "\tfor state in range(0, len(markov_table)) :\n",
        "\t\tprint(str(state) + \": \", str(frequency[state]))\n",
        "\n",
        "\treturn None\n",
        "\n",
        "def plotFrequencies(frequency):\n",
        "\tobjects = ('1', '2', '3', '4', '5', '6')\n",
        "\ty_pos = np.arange(len(objects))\n",
        "\n",
        "\tplt.bar(y_pos, frequency, align='center', alpha=0.5)\n",
        "\tplt.xticks(y_pos, objects)\n",
        "\tplt.ylabel('States')\n",
        "\tplt.title('Frequencies')\n",
        "\tplt.show()\n",
        "\n",
        "\treturn None\n",
        "\n",
        "if __name__ == \"__main__\":\n",
        "\tmarkov_table = defineMarkovTable()\n",
        "\tinit_dist = defineInitDistribution()\n",
        "\tmc = markov_chain(markov_table, init_dist)\n",
        "\tmc.start()\n",
        "\n",
        "\tfrequency = calculateFrequencyTable(markov_table, init_dist)\n",
        "\tprintFrequencies(frequency, markov_table)\n",
        "\tplotFrequencies(frequency)"
      ],
      "metadata": {
        "colab": {
          "base_uri": "https://localhost:8080/",
          "height": 591
        },
        "id": "j90jy81CIWYi",
        "outputId": "9e358518-65ae-4892-8bea-e33494009c1f"
      },
      "execution_count": null,
      "outputs": [
        {
          "output_type": "stream",
          "name": "stdout",
          "text": [
            "0:  0.16679439\n",
            "1:  0.16689817\n",
            "2:  0.16672047\n",
            "3:  0.16646345\n",
            "4:  0.16649162\n",
            "5:  0.1666319\n"
          ]
        },
        {
          "output_type": "display_data",
          "data": {
            "text/plain": [
              "<Figure size 640x480 with 1 Axes>"
            ],
            "image/png": "[encoded data removed]"
          },
          "metadata": {}
        },
        {
          "output_type": "stream",
          "name": "stdout",
          "text": [
            "CPU times: user 1min 59s, sys: 411 ms, total: 2min\n",
            "Wall time: 2min 3s\n"
          ]
        }
      ]
    },
    {
      "cell_type": "markdown",
      "source": [
        "ΣΧΟΛΙΑ:"
      ],
      "metadata": {
        "id": "RYcapZhErNkc"
      }
    },
    {
      "cell_type": "markdown",
      "source": [
        "Ο χρόνος εκτέλεσης, για το έκαστοτε total run, είναι διαφορετικό για κάθε επεξεργαστή.Ώστοσο, παρατηρούμε ότι όσο αυξάνεται το πλήθος των total runs, τόσο αυξάνεται και ο χρόνος εκτέλεσης του αλγορίθμου.\n",
        "Γενικά, εκεί οπού παρατηρείται η απόλυτη ομοιομορφία στην κατανομή των τιμών είναι για total runs=1000000 (1 εκατομμύριο βήματα). Από αυτό το σημείο και έπειτα, οι τιμές κατανέμονται ομοιόμορφα, όσο μεγάλο και αν είναι το total runs.\n",
        "\n",
        "Συνεπώς, θεωρώ ότι το ιδανικό total runs είναι 1000000.\n",
        "\n",
        "Σε όλες τις περιπτώσεις το άθροισμα των τιμών είναι 1 ή μία τιμή πάρα πολύ κοντά στο 1. Άρα, η μέση απόκλιση από τη θεωρητική τιμή είναι πάντα στα πέριξ του 0."
      ],
      "metadata": {
        "id": "PcCQfZL_rPDj"
      }
    },
    {
      "cell_type": "markdown",
      "source": [
        "iiii) Το συγκεκριμένο ερώτημα  απαντήθηκε και στο ερώτημα ii), όταν  εξηγήθηκε η διπλή στοχαστικότητα του πίνακα μετάβασης.\n",
        "\n",
        "Ένας πίνακας είναι στοχαστικός, όταν το άθροισμα όχι μόνο των γραμμών, αλλά και των στηλών του πίνακα μετάβασης ισούται με τη μονάδα.\n",
        "\n",
        "Αποτέλεσμα αυτής της στοχαστικότητας  είναι μια ομοιόμορφη αναλλοίωτη κατανομή."
      ],
      "metadata": {
        "id": "scncisAwljKp"
      }
    }
  ]
}