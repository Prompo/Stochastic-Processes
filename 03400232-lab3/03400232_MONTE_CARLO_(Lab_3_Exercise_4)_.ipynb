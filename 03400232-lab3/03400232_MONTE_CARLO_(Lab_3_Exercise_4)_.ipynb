{
  "nbformat": 4,
  "nbformat_minor": 0,
  "metadata": {
    "colab": {
      "provenance": []
    },
    "kernelspec": {
      "name": "python3",
      "display_name": "Python 3"
    }
  },
  "cells": [
    {
      "cell_type": "markdown",
      "metadata": {
        "id": "0LsZdK1LTB1T"
      },
      "source": [
        "<h1><b>Άσκηση 4</b></h1>\n",
        "<p align=\"justify\">Η μέθοδος Monte Carlo είναι μια υπολογιστική μέθοδος, που βασίζεται στο νόμο των μεγάλων αριθμών. Αν {Χ<sub>n</sub>}<sub>n∈N</sub> είναι μια ακολουθία από ανεξάρτητες, ισόνομες τυχαίες μεταβλητές, με πεπερασμένη μέση τιμή Ε[Χ], τότε:</p>\n",
        "\n",
        "$$\n",
        "P\\left[\n",
        "\\frac{1}{n}\\sum_{k=1}^{n}X_k \\rightarrow E[X]\n",
        "\\right] = 1\n",
        "$$\n",
        "\n",
        "<p align=\"justify\">Προκειμένου να υπολογίσουμε τη μέση τιμή Ε[Χ]  μιας τυχαίας μεταβλητής Χ, μπορούμε λοιπόν να πάρουμε το μέσο όρο ενός μεγάλου αριθμού ανεξάρτητων δειγμάτων αυτής της μεταβλητής. Με παρόμοιο τρόπο, μπορούμε να προσεγγίσουμε υπολογιστικά την πιθανότητα ενός ενδεχομένου από το κλάσμα των πραγματοποιήσεών του σε μια σειρά από <b>m</b> ανεξάρτητες προσομοιώσεις μέχρι το βήμα <b>n</b>, δηλαδή:</p>\n",
        "\n",
        "$$\n",
        "P\\left[\n",
        "\\frac{1}{m} \\sum_{k=1}^{m}H_k \\rightarrow P[X_n | X_0]\n",
        "\\right] = 1\n",
        "$$\n",
        "\n",
        "<p align=\"justify\">όπου η τυχαία μεταβλητή Η_k παίρνει την τιμή 1 εάν το ενδεχόμενο πραγματοποιείται στο τέλος του εκάστοτε πειράματος και 0 στην αντίθετη περίπτωση. Σ’ αυτήν την ιδέα θα βασιστεί η άσκηση αυτή. Σας δίνεται η μαρκοβιανή αλυσίδα στο χώρο καταστάσεων <b>Χ</b>={1,2,3} με πίνακα πιθανοτήτων μετάβασης:</p>\n",
        "\n",
        "$$\n",
        "P = \\begin{pmatrix}\n",
        "0 & 1 & 0\\\\\n",
        "0 & 2/3 & 1/3\\\\\n",
        "1/6 & 5/6 & 0\n",
        "\\end{pmatrix}\n",
        "$$\n",
        "\n",
        "<p align=\"justify\">Χρησιμοποιώντας το πρόγραμμα που δίνεται παρακάτω, θα πραγματοποιήσετε <b>m</b> ανεξάρτητα πειράματα για να εκτιμήσετε την πιθανότητα <b>Για να τρέξετε το πρόγραμμα θα πρέπει να έχετε φορτώσει το αρχείο <i><a href=\"https://github.com/nkostopoulos/StochasticsLabPublic/blob/master/lab3/simple_markov_chain_lib.py\">simple_markov_chain_lib.py</a></i></b>.</p>\n",
        "\n",
        "$$\n",
        "P\\left[\n",
        "X_{40} = 1 | X_0 = 1\n",
        "\\right]\n",
        "$$\n",
        "\n",
        "<p align=\"justify\">δηλαδή την πιθανότητα να βρίσκεται η αλυσίδα στην κατάσταση 1 στο 40ό βήμα της δεδομένου ότι ξεκίνησε από την κατάσταση 1. Για να ελέγξετε την ορθότητα της μεθόδου, το πρόγραμμα περιλαμβάνει και τον ακριβή υπολογισμό της παραπάνω πιθανότητας.</p>\n",
        "<ul>\n",
        "<li>Να μελετήσετε το πρόγραμμα και να περιγράψετε σύντομα τη μέθοδο που ακολουθείται.</li>\n",
        "<li>Να επαναλάβετε τη διαδικασία για τιμές της παραμέτρου m: (α) 1,000, (β) 10,000, (γ) 50,000, (δ) 100,000, (ε) 500,000. Να καταγράψετε και να σχολιάσετε την τιμή της παραπάνω πιθανότητας όπως υπολογίζεται από την προσομοίωση σε σχέση με την ακριβή τιμή της.</li>\n",
        "</ul>\n"
      ]
    },
    {
      "cell_type": "code",
      "source": [
        "# This code is taken from the laboratory of \"Stochastic Processes\" course of ECE NTUA 6th semester, Prof. Loulakis\n",
        "from bisect import bisect_left\n",
        "from random import random\n",
        "\n",
        "import networkx as nx  # get communication classes\n",
        "import numpy as np\n",
        "from scipy.sparse import csr_matrix\n",
        "\n",
        "\n",
        "class markov_chain:\n",
        "\n",
        "    def __init__(self, markov_table, init_dist=None):\n",
        "        \"\"\"\n",
        "        Constructs a Markov Chain from a transition matrix.\n",
        "        The initial distribution can be provided or setted aftewards.\n",
        "        \"\"\"\n",
        "\n",
        "        # Attributes\n",
        "        self.running_state = None\n",
        "        self.steps = 0\n",
        "        self.visits = {state: 0 for state in markov_table}\n",
        "        size = len(markov_table)\n",
        "\n",
        "        # Set up state transition probs\n",
        "        self._states = {state: self._partial_sums(dist)\n",
        "                        for state, dist in markov_table.items()}\n",
        "        for state, dist in self._states.items():\n",
        "            if not np.isclose(dist[-1][0], 1.0):\n",
        "                msg = \"State {} transitions do not add up to 1.0\".format(state)\n",
        "                raise ValueError(msg)\n",
        "        self._probs_state = np.array([0] * size)\n",
        "\n",
        "        # Adjacency Matrix\n",
        "        data, rows, cols = [], [], []\n",
        "        for row, dist in markov_table.items():\n",
        "            col, pval = zip(*[(s, p) for s, p in dist.items() if p > 0])\n",
        "            rows += [row] * len(col)\n",
        "            cols += col\n",
        "            data += pval\n",
        "        # make sure they are in the right order\n",
        "        enum = {state: i for i, state in enumerate(self._states)}\n",
        "        rows = [enum[r] for r in rows]\n",
        "        cols = [enum[c] for c in cols]\n",
        "        self._adj = csr_matrix((data, (rows, cols)), shape=(size, size))\n",
        "\n",
        "        # Communication Classes\n",
        "        classes = {'Closed': [], 'Open': []}\n",
        "        g = nx.MultiDiGraph(self._adj)\n",
        "        scc = list(nx.strongly_connected_components(g))\n",
        "        g = nx.condensation(g)  # SCCs collapse to single nodes\n",
        "        for n in g:\n",
        "            if g.out_degree(n) == 0:\n",
        "                classes[\"Closed\"].append(scc[n])\n",
        "            else:\n",
        "                classes[\"Open\"].append(scc[n])\n",
        "        self.communication_classes = classes\n",
        "\n",
        "        # Set Initial State\n",
        "        self._init_dist = None\n",
        "        if init_dist is not None:\n",
        "            self.init_dist = init_dist\n",
        "\n",
        "    def __len__(self):\n",
        "        \"\"\"The cardinality of the state-space\"\"\"\n",
        "        return len(self._states)\n",
        "\n",
        "    @property\n",
        "    def probs_matrix(self):\n",
        "        \"\"\"The transition probability matrix\"\"\"\n",
        "        return self._adj.toarray()\n",
        "\n",
        "    @property\n",
        "    def probs_state(self):\n",
        "        \"\"\"\n",
        "        Computes analytically the probability of being in every state at\n",
        "        currentn step. Returns a vector of state probabilities\n",
        "        \"\"\"\n",
        "        init_dist = np.array([self.init_dist.get(state, 0.0)\n",
        "                              for state in self._states])\n",
        "        probs = init_dist @ (self._adj ** self.steps)\n",
        "        return dict(zip(self._states, probs))\n",
        "\n",
        "    @property\n",
        "    def init_dist(self):\n",
        "        \"\"\"The initial distribution of the chain\"\"\"\n",
        "        return self._init_dist\n",
        "\n",
        "    @init_dist.setter\n",
        "    def init_dist(self, dist):\n",
        "        if not np.isclose(sum(dist.values()), 1.0):\n",
        "            msg = \"The transition probabilities of init_dist must add up to 1.0\"\n",
        "            raise ValueError(msg)\n",
        "        self._init_dist = dist\n",
        "        self._state0 = self._partial_sums(dist)\n",
        "        self.running_state = None\n",
        "\n",
        "    @property\n",
        "    def eigenvalues(self):\n",
        "        \"\"\"Returns the eigenvalues of the transition table\"\"\"\n",
        "        return list(np.sort(np.linalg.eigvals(self.probs_matrix)))\n",
        "\n",
        "    def _partial_sums(self, dist):\n",
        "        \"\"\"\n",
        "        Takes as input a row of the probability matrix (dist)\n",
        "        and generates its partial sums.\n",
        "        These are cached as tuples (sum, state) to be sampled.\n",
        "        \"\"\"\n",
        "        states, probs = zip(*[(s, p) for s, p in dist.items() if p > 0])\n",
        "        probs = np.cumsum(probs)\n",
        "        return list(zip(probs, states))\n",
        "\n",
        "    def _next_state(self, state):\n",
        "        \"\"\"Selects a new state based on the transition probabilities\"\"\"\n",
        "        return state[bisect_left(state, (random(), ))][1]\n",
        "\n",
        "    def start(self):\n",
        "        \"\"\"First step of the chain choosen from the initial distribution\"\"\"\n",
        "\n",
        "        # Initiate walk\n",
        "        self.steps = 0\n",
        "        for state in self._states:\n",
        "            self.visits[state] = 0\n",
        "\n",
        "        # Initialize the state distribution - to be updated as we walk\n",
        "        self.running_state = self._next_state(self._state0)\n",
        "        self.visits[self.running_state] = 1\n",
        "\n",
        "    def move(self):\n",
        "        \"\"\"Moves to the next state and updates all relevant fields\"\"\"\n",
        "        transition_probs = self._states[self.running_state]\n",
        "        self.running_state = self._next_state(transition_probs)\n",
        "        self.steps += 1\n",
        "        self.visits[self.running_state] += 1"
      ],
      "metadata": {
        "id": "I3wS3Z_xdXR1"
      },
      "execution_count": 1,
      "outputs": []
    },
    {
      "cell_type": "markdown",
      "source": [
        "Τώρα εκτελούμε τον αλγόριθμο για experiments=500000"
      ],
      "metadata": {
        "id": "r3d2ICAZSJg9"
      }
    },
    {
      "cell_type": "code",
      "metadata": {
        "id": "gkMG5r8WX1np",
        "colab": {
          "base_uri": "https://localhost:8080/"
        },
        "outputId": "276c1fbe-3c45-447c-f2a2-efb0ccbf7239"
      },
      "source": [
        "%%time\n",
        "from __future__ import division\n",
        "#from simple_markov_chain_lib import markov_chain\n",
        "import statistics as stat\n",
        "from numpy import matmul\n",
        "import numpy as np\n",
        "\n",
        "def defineMarkovTable():\n",
        "\tp = 1/6\n",
        "\tmarkov_table = {\n",
        "\t\t1: {2: 1.},\n",
        "\t\t2: {2: 2/3, 3: 1/3},\n",
        "\t\t3: {1: p, 2: 1-p}\n",
        "\t}\n",
        "\n",
        "\treturn markov_table\n",
        "\n",
        "def defineNumpyTable():\n",
        "\tPn = np.array([[0,1,0],\n",
        "\t\t       [0,2/3,1/3],\n",
        "\t\t       [1/6, 5/6, 0]])\n",
        "\tP0 = np.array([[1,0,0]])\n",
        "\n",
        "\treturn Pn,P0\n",
        "\n",
        "def multiplyNumpyTables(Pn,P0):\n",
        "\tfor index in range(40):\n",
        "\t\tPn = np.matmul(Pn,Pn)\n",
        "\tPn = np.matmul(P0,Pn)\n",
        "\treturn Pn\n",
        "\n",
        "def defineInitDistribution():\n",
        "\tinit_dist = {1: 1.}\n",
        "\n",
        "\treturn init_dist\n",
        "\n",
        "def calculateProbabilities(markov_table, init_dist):\n",
        "\tmc = markov_chain(markov_table, init_dist)\n",
        "\texperiments = 500000\n",
        "\tsteps = 40\n",
        "\tvisits = 0\n",
        "\n",
        "\tfor index in range(experiments):\n",
        "\t\tmc.start()\n",
        "\t\tfor j in range(steps):\n",
        "\t\t\tmc.move()\n",
        "\t\tif mc.running_state == 1: visits += 1\n",
        "\n",
        "\tprobability = visits / experiments\n",
        "\treturn probability\n",
        "\n",
        "if __name__ == \"__main__\":\n",
        "\tmarkov_table = defineMarkovTable()\n",
        "\tinit_dist = defineInitDistribution()\n",
        "\n",
        "\tprobability = calculateProbabilities(markov_table, init_dist)\n",
        "\tprint(probability)\n",
        "\n",
        "\tPn,P0 = defineNumpyTable()\n",
        "\trealProbability = multiplyNumpyTables(Pn,P0)\n",
        "\tprint(realProbability)"
      ],
      "execution_count": 4,
      "outputs": [
        {
          "output_type": "stream",
          "name": "stdout",
          "text": [
            "0.039758\n",
            "[[0.03999857 0.71997421 0.2399914 ]]\n",
            "CPU times: user 19.3 s, sys: 54.2 ms, total: 19.4 s\n",
            "Wall time: 21.6 s\n"
          ]
        }
      ]
    },
    {
      "cell_type": "markdown",
      "source": [
        "ΣΧΟΛΙΟ:"
      ],
      "metadata": {
        "id": "QmjTczSvTZXo"
      }
    },
    {
      "cell_type": "markdown",
      "source": [
        "Η πιθανότητα όπως υπολογίστηκε από την προσομοίωση των 500000 πειραμάτων είναι 0.039758.\n",
        "Η θεωρητικά υπολογισμένη πιθανότητα είναι 0.03999857.\n",
        "Άρα υπάρχει μία απόκλιση μεταξύ τους, της τάξης -0.6%."
      ],
      "metadata": {
        "id": "bzjyQZPRSSuS"
      }
    },
    {
      "cell_type": "markdown",
      "source": [
        "ΑΠΑΝΤΗΣΕΙΣ:"
      ],
      "metadata": {
        "id": "A3viwOHH6jzF"
      }
    },
    {
      "cell_type": "markdown",
      "source": [
        "i) Η μέθοδος Monte Carlo είναι μία τεχνική που χρησιμοποείται για την επίλυση προβλημάτων μέσω της προσομοίωσης τυχαίων διαδικασιών. Η μέθοδος αυτή χρησιμοποιεί την τυχαιότητα. Χρησιμοποιείται όταν δεν είναι δυνατή η επίλυση ενός προβλήατος με αναλυτικές μεθόδους ή όταν οι λύσεις είναι περίπλοκες. Η βασική ιδέα είναι να προσομοιώνονται τυχαίες διαδικασίες, πολλές φορές και στη συνέχεια να υπολογίζονται στατιστικά χαρακτηριστικά.\n",
        "\n",
        "Η μέθοδος Monte Carlo χρησιμοποιείται για την βελτιστοποίηση των δεδομένων. Προσφέρει ταχύτητα στην εκτέλεση των πράξεων και είναι αμερόληπτη και συνεπής.\n",
        "\n",
        "Σε σχέση τώρα με τον κώδικα της άσκησης, πραγματοποιείται ένα αριθμός πειραμάτων, ο οποίος ιδανικά πρέπει να είναι αρκετά υψηλός προκειμένου να προσεγγιστεί το όριο m -> 00 (άπειρο) με σχετικά μικρό σφάλμα, ώστε να υπάρχει υψηλή εμπιστοσύνη στη στατιστικά υπολογισμένη πιθανότητα. Σε κάθε πείραμα, ξεκινώντας από την κατάσταση 1, πραγματοποιούνται διαδοχικές μεταβάσεις από κατάσταση σε κατάσταση βάσει των σχετικών πιθανοτήτων μετάβασης, διαδικασία η οποία υλοποιείται μέσω παραγωγής ψευδοτυχαίων αριθμών. Το πείραμα ολοκληρώνεται έπειτα από 40 μεταβάσεις και στην περίπτωση που η τελική κατάσταση είναι η κατάσταση 1, μια δείκτρια μεταβλητή αυξάνεται κατά μία μονάδα. Η τελική πιθανότητα να βρισκόμαστε στην κατάσταση 1, έχοντας ξεκινήσει από αυτήν, μετά από 40 βήματα υπολογίζεται απλώς ως το πηλίκο της τιμής που έχει λάβει τελικά η δείκτρια μεταβλητή, προς το συνολικό αριθμό πειραμάτων. Σε ό,τι αφορά την αναλυτική προσέγγιση, το διάνυσμα της αρχικής κατάστασης Πο=(1,0,0)\n",
        "πολλαπλασιάζεται με τον πίνακα Ρ40, ώστε να προκύψει το διάνυσμα της αναμενόμενης κατανομής καταστάσεων μετά από 40 βήματα. Η τιμή της πρώτης συνιστώσας του διανύσματος αυτού αντιστοιχεί στη ζητούμενη πιθανότητα."
      ],
      "metadata": {
        "id": "_3s4e2d36mPX"
      }
    },
    {
      "cell_type": "markdown",
      "source": [
        "ii)"
      ],
      "metadata": {
        "id": "w_SqLlbTbpjw"
      }
    },
    {
      "cell_type": "markdown",
      "source": [
        "Τώρα εκτελούμε τον αλγόριθμο για experiments=1000"
      ],
      "metadata": {
        "id": "PyZBbE0xQz_G"
      }
    },
    {
      "cell_type": "code",
      "source": [
        "%%time\n",
        "from __future__ import division\n",
        "#from simple_markov_chain_lib import markov_chain\n",
        "import statistics as stat\n",
        "from numpy import matmul\n",
        "import numpy as np\n",
        "\n",
        "def defineMarkovTable():\n",
        "\tp = 1/6\n",
        "\tmarkov_table = {\n",
        "\t\t1: {2: 1.},\n",
        "\t\t2: {2: 2/3, 3: 1/3},\n",
        "\t\t3: {1: p, 2: 1-p}\n",
        "\t}\n",
        "\n",
        "\treturn markov_table\n",
        "\n",
        "def defineNumpyTable():\n",
        "\tPn = np.array([[0,1,0],\n",
        "\t\t       [0,2/3,1/3],\n",
        "\t\t       [1/6, 5/6, 0]])\n",
        "\tP0 = np.array([[1,0,0]])\n",
        "\n",
        "\treturn Pn,P0\n",
        "\n",
        "def multiplyNumpyTables(Pn,P0):\n",
        "\tfor index in range(40):\n",
        "\t\tPn = np.matmul(Pn,Pn)\n",
        "\tPn = np.matmul(P0,Pn)\n",
        "\treturn Pn\n",
        "\n",
        "def defineInitDistribution():\n",
        "\tinit_dist = {1: 1.}\n",
        "\n",
        "\treturn init_dist\n",
        "\n",
        "def calculateProbabilities(markov_table, init_dist):\n",
        "\tmc = markov_chain(markov_table, init_dist)\n",
        "\texperiments = 1000\n",
        "\tsteps = 40\n",
        "\tvisits = 0\n",
        "\n",
        "\tfor index in range(experiments):\n",
        "\t\tmc.start()\n",
        "\t\tfor j in range(steps):\n",
        "\t\t\tmc.move()\n",
        "\t\tif mc.running_state == 1: visits += 1\n",
        "\n",
        "\tprobability = visits / experiments\n",
        "\treturn probability\n",
        "\n",
        "if __name__ == \"__main__\":\n",
        "\tmarkov_table = defineMarkovTable()\n",
        "\tinit_dist = defineInitDistribution()\n",
        "\n",
        "\tprobability = calculateProbabilities(markov_table, init_dist)\n",
        "\tprint(probability)\n",
        "\n",
        "\tPn,P0 = defineNumpyTable()\n",
        "\trealProbability = multiplyNumpyTables(Pn,P0)\n",
        "\tprint(realProbability)"
      ],
      "metadata": {
        "colab": {
          "base_uri": "https://localhost:8080/"
        },
        "id": "RjBFuonrQEIv",
        "outputId": "303fb833-c4d9-4bd6-f0a1-dead11044ce8"
      },
      "execution_count": 3,
      "outputs": [
        {
          "output_type": "stream",
          "name": "stdout",
          "text": [
            "0.035\n",
            "[[0.03999857 0.71997421 0.2399914 ]]\n",
            "CPU times: user 67.2 ms, sys: 1.99 ms, total: 69.2 ms\n",
            "Wall time: 80.4 ms\n"
          ]
        }
      ]
    },
    {
      "cell_type": "markdown",
      "source": [
        "ΣΧΟΛΙΟ:"
      ],
      "metadata": {
        "id": "LJgJjiihTeia"
      }
    },
    {
      "cell_type": "markdown",
      "source": [
        "Η πιθανότητα όπως υπολογίστηκε από την προσομοίωση των 1000 πειραμάτων είναι\n",
        " 0.035. Η θεωρητικά υπολογισμένη πιθανότητα είναι 0.03999857. Δηλαδή 0.04. Άρα υπάρχει μία απόκλιση μεταξύ τους, της τάξης -12.5%."
      ],
      "metadata": {
        "id": "wipq3yueTgkT"
      }
    },
    {
      "cell_type": "markdown",
      "source": [
        "Τώρα εκτελούμε τον αλγόριθμο για experiments=10000"
      ],
      "metadata": {
        "id": "RGvKVg0YSURE"
      }
    },
    {
      "cell_type": "code",
      "source": [
        "%%time\n",
        "from __future__ import division\n",
        "#from simple_markov_chain_lib import markov_chain\n",
        "import statistics as stat\n",
        "from numpy import matmul\n",
        "import numpy as np\n",
        "\n",
        "def defineMarkovTable():\n",
        "\tp = 1/6\n",
        "\tmarkov_table = {\n",
        "\t\t1: {2: 1.},\n",
        "\t\t2: {2: 2/3, 3: 1/3},\n",
        "\t\t3: {1: p, 2: 1-p}\n",
        "\t}\n",
        "\n",
        "\treturn markov_table\n",
        "\n",
        "def defineNumpyTable():\n",
        "\tPn = np.array([[0,1,0],\n",
        "\t\t       [0,2/3,1/3],\n",
        "\t\t       [1/6, 5/6, 0]])\n",
        "\tP0 = np.array([[1,0,0]])\n",
        "\n",
        "\treturn Pn,P0\n",
        "\n",
        "def multiplyNumpyTables(Pn,P0):\n",
        "\tfor index in range(40):\n",
        "\t\tPn = np.matmul(Pn,Pn)\n",
        "\tPn = np.matmul(P0,Pn)\n",
        "\treturn Pn\n",
        "\n",
        "def defineInitDistribution():\n",
        "\tinit_dist = {1: 1.}\n",
        "\n",
        "\treturn init_dist\n",
        "\n",
        "def calculateProbabilities(markov_table, init_dist):\n",
        "\tmc = markov_chain(markov_table, init_dist)\n",
        "\texperiments = 10000\n",
        "\tsteps = 40\n",
        "\tvisits = 0\n",
        "\n",
        "\tfor index in range(experiments):\n",
        "\t\tmc.start()\n",
        "\t\tfor j in range(steps):\n",
        "\t\t\tmc.move()\n",
        "\t\tif mc.running_state == 1: visits += 1\n",
        "\n",
        "\tprobability = visits / experiments\n",
        "\treturn probability\n",
        "\n",
        "if __name__ == \"__main__\":\n",
        "\tmarkov_table = defineMarkovTable()\n",
        "\tinit_dist = defineInitDistribution()\n",
        "\n",
        "\tprobability = calculateProbabilities(markov_table, init_dist)\n",
        "\tprint(probability)\n",
        "\n",
        "\tPn,P0 = defineNumpyTable()\n",
        "\trealProbability = multiplyNumpyTables(Pn,P0)\n",
        "\tprint(realProbability)"
      ],
      "metadata": {
        "colab": {
          "base_uri": "https://localhost:8080/"
        },
        "id": "X8NMrez-Sxww",
        "outputId": "acd8042f-3492-4ef5-e70b-5d6181ceafb5"
      },
      "execution_count": 5,
      "outputs": [
        {
          "output_type": "stream",
          "name": "stdout",
          "text": [
            "0.0409\n",
            "[[0.03999857 0.71997421 0.2399914 ]]\n",
            "CPU times: user 605 ms, sys: 1.23 ms, total: 606 ms\n",
            "Wall time: 634 ms\n"
          ]
        }
      ]
    },
    {
      "cell_type": "markdown",
      "source": [
        "ΣΧΟΛΙΟ:"
      ],
      "metadata": {
        "id": "9PVHy9IHUBn0"
      }
    },
    {
      "cell_type": "markdown",
      "source": [
        "Η πιθανότητα όπως υπολογίστηκε από την προσομοίωση των 10000 πειραμάτων είναι\n",
        " 0.0409. Η θεωρητικά υπολογισμένη πιθανότητα είναι 0.03999857. Δηλαδή 0.04. Άρα υπάρχει μία απόκλιση μεταξύ τους, της τάξης 2.25%."
      ],
      "metadata": {
        "id": "V9kECHb2UDy0"
      }
    },
    {
      "cell_type": "markdown",
      "source": [
        "Τώρα εκτελούμε τον αλγόριθμο για experiments=50000"
      ],
      "metadata": {
        "id": "uJQ82xtJSZlE"
      }
    },
    {
      "cell_type": "code",
      "source": [
        "%%time\n",
        "from __future__ import division\n",
        "#from simple_markov_chain_lib import markov_chain\n",
        "import statistics as stat\n",
        "from numpy import matmul\n",
        "import numpy as np\n",
        "\n",
        "def defineMarkovTable():\n",
        "\tp = 1/6\n",
        "\tmarkov_table = {\n",
        "\t\t1: {2: 1.},\n",
        "\t\t2: {2: 2/3, 3: 1/3},\n",
        "\t\t3: {1: p, 2: 1-p}\n",
        "\t}\n",
        "\n",
        "\treturn markov_table\n",
        "\n",
        "def defineNumpyTable():\n",
        "\tPn = np.array([[0,1,0],\n",
        "\t\t       [0,2/3,1/3],\n",
        "\t\t       [1/6, 5/6, 0]])\n",
        "\tP0 = np.array([[1,0,0]])\n",
        "\n",
        "\treturn Pn,P0\n",
        "\n",
        "def multiplyNumpyTables(Pn,P0):\n",
        "\tfor index in range(40):\n",
        "\t\tPn = np.matmul(Pn,Pn)\n",
        "\tPn = np.matmul(P0,Pn)\n",
        "\treturn Pn\n",
        "\n",
        "def defineInitDistribution():\n",
        "\tinit_dist = {1: 1.}\n",
        "\n",
        "\treturn init_dist\n",
        "\n",
        "def calculateProbabilities(markov_table, init_dist):\n",
        "\tmc = markov_chain(markov_table, init_dist)\n",
        "\texperiments = 50000\n",
        "\tsteps = 40\n",
        "\tvisits = 0\n",
        "\n",
        "\tfor index in range(experiments):\n",
        "\t\tmc.start()\n",
        "\t\tfor j in range(steps):\n",
        "\t\t\tmc.move()\n",
        "\t\tif mc.running_state == 1: visits += 1\n",
        "\n",
        "\tprobability = visits / experiments\n",
        "\treturn probability\n",
        "\n",
        "if __name__ == \"__main__\":\n",
        "\tmarkov_table = defineMarkovTable()\n",
        "\tinit_dist = defineInitDistribution()\n",
        "\n",
        "\tprobability = calculateProbabilities(markov_table, init_dist)\n",
        "\tprint(probability)\n",
        "\n",
        "\tPn,P0 = defineNumpyTable()\n",
        "\trealProbability = multiplyNumpyTables(Pn,P0)\n",
        "\tprint(realProbability)"
      ],
      "metadata": {
        "colab": {
          "base_uri": "https://localhost:8080/"
        },
        "id": "cicSurw_TFYU",
        "outputId": "f33f2fae-eea8-4b73-929f-eea623f15439"
      },
      "execution_count": 7,
      "outputs": [
        {
          "output_type": "stream",
          "name": "stdout",
          "text": [
            "0.0404\n",
            "[[0.03999857 0.71997421 0.2399914 ]]\n",
            "CPU times: user 1.76 s, sys: 8.97 ms, total: 1.77 s\n",
            "Wall time: 1.78 s\n"
          ]
        }
      ]
    },
    {
      "cell_type": "markdown",
      "source": [
        "ΣΧΟΛΙΟ:"
      ],
      "metadata": {
        "id": "V4suQKx8VHez"
      }
    },
    {
      "cell_type": "markdown",
      "source": [
        "Η πιθανότητα όπως υπολογίστηκε από την προσομοίωση των 50000 πειραμάτων είναι 0.0404. Η θεωρητικά υπολογισμένη πιθανότητα είναι 0.03999857. Δηλαδή 0.04. Άρα υπάρχει μία απόκλιση μεταξύ τους, της τάξης 1%."
      ],
      "metadata": {
        "id": "fvH5vR4pVJRb"
      }
    },
    {
      "cell_type": "markdown",
      "source": [
        "Τώρα εκτελούμε τον αλγόριθμο για experiments=100000"
      ],
      "metadata": {
        "id": "Cwj8ZB9_Sb2_"
      }
    },
    {
      "cell_type": "code",
      "source": [
        "%%time\n",
        "from __future__ import division\n",
        "#from simple_markov_chain_lib import markov_chain\n",
        "import statistics as stat\n",
        "from numpy import matmul\n",
        "import numpy as np\n",
        "\n",
        "def defineMarkovTable():\n",
        "\tp = 1/6\n",
        "\tmarkov_table = {\n",
        "\t\t1: {2: 1.},\n",
        "\t\t2: {2: 2/3, 3: 1/3},\n",
        "\t\t3: {1: p, 2: 1-p}\n",
        "\t}\n",
        "\n",
        "\treturn markov_table\n",
        "\n",
        "def defineNumpyTable():\n",
        "\tPn = np.array([[0,1,0],\n",
        "\t\t       [0,2/3,1/3],\n",
        "\t\t       [1/6, 5/6, 0]])\n",
        "\tP0 = np.array([[1,0,0]])\n",
        "\n",
        "\treturn Pn,P0\n",
        "\n",
        "def multiplyNumpyTables(Pn,P0):\n",
        "\tfor index in range(40):\n",
        "\t\tPn = np.matmul(Pn,Pn)\n",
        "\tPn = np.matmul(P0,Pn)\n",
        "\treturn Pn\n",
        "\n",
        "def defineInitDistribution():\n",
        "\tinit_dist = {1: 1.}\n",
        "\n",
        "\treturn init_dist\n",
        "\n",
        "def calculateProbabilities(markov_table, init_dist):\n",
        "\tmc = markov_chain(markov_table, init_dist)\n",
        "\texperiments = 100000\n",
        "\tsteps = 40\n",
        "\tvisits = 0\n",
        "\n",
        "\tfor index in range(experiments):\n",
        "\t\tmc.start()\n",
        "\t\tfor j in range(steps):\n",
        "\t\t\tmc.move()\n",
        "\t\tif mc.running_state == 1: visits += 1\n",
        "\n",
        "\tprobability = visits / experiments\n",
        "\treturn probability\n",
        "\n",
        "if __name__ == \"__main__\":\n",
        "\tmarkov_table = defineMarkovTable()\n",
        "\tinit_dist = defineInitDistribution()\n",
        "\n",
        "\tprobability = calculateProbabilities(markov_table, init_dist)\n",
        "\tprint(probability)\n",
        "\n",
        "\tPn,P0 = defineNumpyTable()\n",
        "\trealProbability = multiplyNumpyTables(Pn,P0)\n",
        "\tprint(realProbability)"
      ],
      "metadata": {
        "colab": {
          "base_uri": "https://localhost:8080/"
        },
        "id": "XFrDF-VOTjEe",
        "outputId": "280e8c28-853b-4b49-9b9b-b2416c90ed03"
      },
      "execution_count": 8,
      "outputs": [
        {
          "output_type": "stream",
          "name": "stdout",
          "text": [
            "0.03953\n",
            "[[0.03999857 0.71997421 0.2399914 ]]\n",
            "CPU times: user 5.46 s, sys: 16.4 ms, total: 5.48 s\n",
            "Wall time: 7.14 s\n"
          ]
        }
      ]
    },
    {
      "cell_type": "markdown",
      "source": [
        "ΣΧΟΛΙΟ:"
      ],
      "metadata": {
        "id": "dZWG91QyU4T0"
      }
    },
    {
      "cell_type": "markdown",
      "source": [
        "Η πιθανότητα όπως υπολογίστηκε από την προσομοίωση των 100000 πειραμάτων είναι 0.039758. Η θεωρητικά υπολογισμένη πιθανότητα είναι 0.03999857. Δηλαδή 0.04. Άρα υπάρχει μία απόκλιση μεταξύ τους, της τάξης -1.17%."
      ],
      "metadata": {
        "id": "B8b32C4qU7Ln"
      }
    }
  ]
}