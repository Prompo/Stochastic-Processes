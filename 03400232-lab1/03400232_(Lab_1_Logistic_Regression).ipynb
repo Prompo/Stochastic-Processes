{
  "nbformat": 4,
  "nbformat_minor": 0,
  "metadata": {
    "colab": {
      "provenance": []
    },
    "kernelspec": {
      "name": "python3",
      "display_name": "Python 3"
    }
  },
  "cells": [
    {
      "cell_type": "markdown",
      "metadata": {
        "id": "HBURy4ihEfMj"
      },
      "source": [
        "<h1><b>Ο αλγόριθμος Logistic Regression</b></h1>\n",
        "<p align=\"justify\">Στην άσκηση αυτή θα μελετήσετε τον αλγόριθμο <i>logistic regression</i>, κατασκευάζοντας ένα σύντομο πρόγραμμα. Στην άσκηση αυτή θα χρησιμοποιήσετε τη βιβλιοθήκη της <i>Python Scikit-Learn</i>. Για τη διευκόλυνσή σας παρέχονται οι δηλώσεις των βιβλιοθηκών που θα χρησιμοποιήσετε καθώς και εντολές με κενά. Συγκεκριμένα, θα κατασκευάσετε έναν <i>ταξινομητή Spam μηνυμάτων SMS</i>. Τα δεδομένα που θα χρησιμοποιήσετε για την εκπαίδευση και την επικύρωση του μοντέλου, καθώς και πληροφορίες για αυτά μπορούν να βρεθούν <a href=\"https://archive.ics.uci.edu/ml/datasets/sms+spam+collection\"><i>εδώ</i></a>.</p>\n",
        "<p align=\"justify\">Καλείστε να αναπτύξετε ένα πρόγραμμα, το οποίο:</p>\n",
        "<ul>\n",
        "<li>Θα φορτώνει τα δεδομένα από το αρχείο <i>.csv</i>.</li>\n",
        "<li>Θα διαχωρίζει με τυχαίο τρόπο τα δεδομένα που παρέχονται σε δεδομένα εκπαίδευσης <i>(training set)</i> και δεδομένα για τον υπολογισμό της ακρίβειας του μοντέλου <i>(test set)</i>.</li>\n",
        "<li>Θα πραγματοποιεί προεπεξεργασία στα δεδομένα χρησιμοποιώντας τη μέθοδο <i>TfidVectorizer</i> της βιβλιοθήκης <i>Scikit-Learn</i>. Περισσότερες πληροφορίες για τη μέθοδο <i>TfidVectorizer</i>, που περιλαμβάνεται στις δηλώσεις του προγράμματος, μπορούν να βρεθούν <a href=\"https://scikit-learn.org/stable/modules/generated/sklearn.feature_extraction.text.TfidfVectorizer.html\"><i>εδώ</i></a>. Να σημειωθεί πως η μέθοδος <i>TfidVectorizer</i> της <i>Scikit-Learn</i> αφαιρεί και τα σημεία στίξης, καθώς επεξεργάζεται το dataset.</li>\n",
        "<li>Θα εκπαιδεύει το μοντέλο <i>logistic regression</i>.\n",
        "<li>Θα υπολογίζει την ακρίβειά του πάνω στο <i>test set</i>.</li>\n",
        "</ul>\n",
        "<p align=\"justify\">Για ποιους λόγους πιστεύετε ότι δεν είναι κατάλληλη η εφαρμογή της μεθόδου <i>linear regression</i> στο συγκεκριμένο πρόβλημα;</p>"
      ]
    },
    {
      "cell_type": "markdown",
      "source": [
        "ΑΠΑΝΤΗΣΗ:"
      ],
      "metadata": {
        "id": "IeZoAhp9ZqJj"
      }
    },
    {
      "cell_type": "markdown",
      "source": [
        "Ο αλγόριθμος γραμμικής παλλινδρόμησης χρησιμοποείται για να προβλέπει μία αριθμιτική τιμή , βασιζόμενος σε γνωστά δεδομένα εκπαίδευσης.\n",
        "Ο αλγόριθμος γραμμικής παλινδρόμησης χρησιμοποιείται στη στατιστική και τη μηχανική μάθηση για την πρόβλεψη των τιμών μιας μεταβλητής βάσει μιας ή περισσότερων ανεξάρτητων μεταβλητών. Συγκεκριμένα, χρησιμοποιείται όταν υπάρχει γραμμική σχέση μεταξύ των μεταβλητών. Ωστόσο, στη συγκεκριμένη άσκηση έχουμε να επιλύσουμε ένα πρόβλημα ταξινόμησης, όπου στόχος είναι η εκπαίδευση ενός δυαδικού ταξινομητή, δηλαδή ενός μοντέλου που να προβλέπει 1 ή 0 (spam ή όχι spam). Έτσι, η γραμμική παλινδρόμηση δεν αποτελεί ένα κατάλληλο μοντέλο, σε αντίθεση με τη λογιστική παλινδρόμηση η οποία, παρά το παραπλανητικό της όνομα, είναι ένας ταξινομητής."
      ],
      "metadata": {
        "id": "sck0MoScZs-w"
      }
    },
    {
      "cell_type": "code",
      "metadata": {
        "id": "JEdw5TJMEmpy"
      },
      "source": [
        "import pandas as pd\n",
        "import numpy as np\n",
        "from sklearn.feature_extraction.text import TfidfVectorizer\n",
        "from sklearn.linear_model import LogisticRegression\n",
        "from sklearn.model_selection import train_test_split, cross_val_score\n",
        "from sklearn.preprocessing import LabelEncoder\n",
        "import csv"
      ],
      "execution_count": 1,
      "outputs": []
    },
    {
      "cell_type": "code",
      "metadata": {
        "id": "FF19eQsYE6DK",
        "colab": {
          "base_uri": "https://localhost:8080/"
        },
        "outputId": "57db9f57-dd53-45d4-b0e4-de78b6d886d2"
      },
      "source": [
        "#i\n",
        "# load csv file\n",
        "df = pd.read_csv('SMSSpamCollection', header=None, sep='\\t')\n",
        "#print(df)\n",
        "X=df[1].values\n",
        "#print(X)\n",
        "y=df[0].values\n",
        "#print(y)\n",
        "print(len(X))\n",
        "print(len(y))\n",
        "\n",
        "#ii\n",
        "# split dataset\n",
        "X_train_raw, X_test_raw, y_train_raw, y_test_raw = train_test_split(X,y,random_state=40)\n",
        "#print(len(X_train_raw))\n",
        "#print(len(y_train_raw))\n",
        "\n",
        "#iii\n",
        "# vectorize data\n",
        "vectorizer = TfidfVectorizer()\n",
        "Xtrain = vectorizer.fit_transform(X_train_raw)\n",
        "ytrain = vectorizer.fit_transform(y_train_raw)\n",
        "Xtest = vectorizer.fit_transform(X_test_raw)\n",
        "ytest = vectorizer.fit_transform(y_test_raw)\n",
        "#print(Xtrain.shape[0])\n",
        "#print(ytrain.shape[0])\n",
        "\n",
        "#iv\n",
        "# fit Logistic Regression model\n",
        "logistic_model=LogisticRegression()\n",
        "Xtrain=Xtrain.toarray()\n",
        "ytrain=ytrain.toarray()\n",
        "#ytrain = ytrain.reshape(-1, 1)\n",
        "\n",
        "print(f\"Xtrain:{len(Xtrain)}\")\n",
        "print(f\"ytrain:{len(ytrain)}\")\n",
        "print(f\"ytrain_raw:{len(y_train_raw)}\")\n",
        "\n",
        "\n",
        "\n",
        "logistic_model.fit(Xtrain,y_train_raw)\n",
        "#cross_val_scores = cross_val_score(logistic_model, X_test_raw, y_test_raw, cv=len(set(y_test_raw)), scoring='accuracy')\n",
        "\n",
        "\n",
        "#print('Cross-Validation Scores:', cross_val_scores)\n",
        "\n",
        "\n",
        "print(f\"Xtest:{Xtest.shape[0]}\")\n",
        "print(f\"ytest:{ytest.shape[0]}\")\n",
        "\n",
        "\n",
        "\n",
        "label_encoder = LabelEncoder()\n",
        "X_test = label_encoder.fit_transform(X_test_raw)\n",
        "y_test_encoded = label_encoder.fit_transform(y_test_raw)\n",
        "\n",
        "X_test= X_test.reshape(-1, 1)\n",
        "print(len(X_test))\n",
        "print(len(y_test_encoded))\n",
        "\n",
        "#iv\n",
        "# calculate accurary based on test set\n",
        "accuracy= cross_val_score(logistic_model, X_test, y_test_encoded ,cv=2,scoring='accuracy')\n",
        "print(f\"accuracy:{accuracy}\")"
      ],
      "execution_count": 4,
      "outputs": [
        {
          "output_type": "stream",
          "name": "stdout",
          "text": [
            "5572\n",
            "5572\n",
            "Xtrain:4179\n",
            "ytrain:4179\n",
            "ytrain_raw:4179\n",
            "Xtest:1393\n",
            "ytest:1393\n",
            "1393\n",
            "1393\n",
            "accuracy:[0.87087518 0.87068966]\n"
          ]
        }
      ]
    }
  ]
}